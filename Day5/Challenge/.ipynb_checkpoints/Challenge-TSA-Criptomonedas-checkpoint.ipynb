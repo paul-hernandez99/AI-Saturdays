{
 "cells": [
  {
   "cell_type": "markdown",
   "metadata": {},
   "source": [
    "# CHALLENGE: Time Series Analysis: Criptomonedas"
   ]
  },
  {
   "cell_type": "markdown",
   "metadata": {},
   "source": [
    "### Este ejercicio ha sido propuesto y creado íntegramente por el equipo de AI Saturdays Euskadi, tomando adaptaciones de otras fuentes (thanks [@MaialenBerrondo](https://www.linkedin.com/in/maialen-berrondo-43197b94/)!)\n",
    "\n",
    "Un caso habitual de trabajo de análisis de Time Series es el referido a diferentes activos de Bolsa. En este ejercicio, vamos a trabajar con un dataset que contiene una serie de valores de una criptomoneda específica (<a href=\"https://en.wikipedia.org/wiki/Ripple_(payment_protocol)\">XRP</a>). XRP es una de las criptomonedas más populares que recientemente obtuvo la segunda posición en términos de capitalización de mercado y que también tiene un gran potencial en el futuro, en términos de velocidad de pago y transacciones. De hecho, a menudo se hace referencia a XRP como la \"moneda de los banqueros\", ya que las instituciones y los bancos se han asociado con Ripple para sus diferentes procedimientos de mejora de transacciones.\n",
    "\n",
    "<p style=\"text-align: justify\">Los datos históricos de la moneda han sido tomados de la web haciendo webscraping mediante la librería <a href=\"https://www.crummy.com/software/BeautifulSoup/\">Beautiful Soup</a> y se han guardado en formato <em>CSV</em>.\n",
    "\n",
    "<p style=\"text-align: justify\">El dataset <b>\"XRP_price\"</b> es un conjunto de datos de series temporales multivariante que describe el precio histórico de la moneda desde casi su debut como moneda de cambio. Los datos van de agosto de 2013 a diciembre de 2018, con observaciones diarias de las diferentes cantidades. Es una serie multivariante compuesta por 3 variables (además de la fecha y la hora); son:</p>\n",
    "\n",
    "<ul>\n",
    "<li><strong>Close XRP</strong>: El precio de cierre diario de la criptomoneda (USD).</li>\n",
    "<li><strong>Volume XRP</strong>: El volumen diario total de la moneda (USD).</li>\n",
    "<li><strong>Market Cap</strong>: La capitalización de mercado diaria total de la moneda (USD).</li>\n",
    "</ul>"
   ]
  },
  {
   "cell_type": "code",
   "execution_count": 34,
   "metadata": {},
   "outputs": [],
   "source": [
    "# import regular libraries \n",
    "import pandas as pd\n",
    "import numpy as np\n",
    "import matplotlib.pyplot as plt\n",
    "\n",
    "# from SciPy packages\n",
    "from statsmodels.tsa.stattools import adfuller # adfuller test\n",
    "from statsmodels.graphics.tsaplots import plot_acf # autocorellation plot\n",
    "from statsmodels.graphics.tsaplots import plot_pacf # partial autocorellation plot\n",
    "\n",
    "# math function\n",
    "from math import sqrt\n",
    "\n",
    "# evaluation metrics\n",
    "from sklearn.metrics import mean_squared_error\n",
    "\n",
    "# statistics models\n",
    "from statsmodels.tsa.arima_model import ARIMA\n",
    "from statsmodels.tsa.statespace.sarimax import SARIMAX\n",
    "\n",
    "# libraries to filter warnings in some algorithms\n",
    "import warnings\n",
    "warnings.filterwarnings(\"ignore\")"
   ]
  },
  {
   "cell_type": "markdown",
   "metadata": {},
   "source": [
    "## 1. Load datatset"
   ]
  },
  {
   "cell_type": "markdown",
   "metadata": {},
   "source": [
    "Tips: \n",
    "* Are there any NaN values?\n",
    "* Are all values numeric?"
   ]
  },
  {
   "cell_type": "code",
   "execution_count": 35,
   "metadata": {},
   "outputs": [
    {
     "data": {
      "text/html": [
       "<div>\n",
       "<style scoped>\n",
       "    .dataframe tbody tr th:only-of-type {\n",
       "        vertical-align: middle;\n",
       "    }\n",
       "\n",
       "    .dataframe tbody tr th {\n",
       "        vertical-align: top;\n",
       "    }\n",
       "\n",
       "    .dataframe thead th {\n",
       "        text-align: right;\n",
       "    }\n",
       "</style>\n",
       "<table border=\"1\" class=\"dataframe\">\n",
       "  <thead>\n",
       "    <tr style=\"text-align: right;\">\n",
       "      <th></th>\n",
       "      <th>Close XRP</th>\n",
       "      <th>Volume XRP</th>\n",
       "      <th>Market Cap XRP</th>\n",
       "    </tr>\n",
       "    <tr>\n",
       "      <th>Date</th>\n",
       "      <th></th>\n",
       "      <th></th>\n",
       "      <th></th>\n",
       "    </tr>\n",
       "  </thead>\n",
       "  <tbody>\n",
       "    <tr>\n",
       "      <th>2013-08-05</th>\n",
       "      <td>0.005613</td>\n",
       "      <td>NaN</td>\n",
       "      <td>43879157</td>\n",
       "    </tr>\n",
       "    <tr>\n",
       "      <th>2013-08-06</th>\n",
       "      <td>0.004680</td>\n",
       "      <td>NaN</td>\n",
       "      <td>36591008</td>\n",
       "    </tr>\n",
       "    <tr>\n",
       "      <th>2013-08-07</th>\n",
       "      <td>0.004417</td>\n",
       "      <td>NaN</td>\n",
       "      <td>34534121</td>\n",
       "    </tr>\n",
       "    <tr>\n",
       "      <th>2013-08-08</th>\n",
       "      <td>0.004254</td>\n",
       "      <td>NaN</td>\n",
       "      <td>33258632</td>\n",
       "    </tr>\n",
       "    <tr>\n",
       "      <th>2013-08-09</th>\n",
       "      <td>0.004291</td>\n",
       "      <td>NaN</td>\n",
       "      <td>33547503</td>\n",
       "    </tr>\n",
       "  </tbody>\n",
       "</table>\n",
       "</div>"
      ],
      "text/plain": [
       "            Close XRP  Volume XRP  Market Cap XRP\n",
       "Date                                             \n",
       "2013-08-05   0.005613         NaN        43879157\n",
       "2013-08-06   0.004680         NaN        36591008\n",
       "2013-08-07   0.004417         NaN        34534121\n",
       "2013-08-08   0.004254         NaN        33258632\n",
       "2013-08-09   0.004291         NaN        33547503"
      ]
     },
     "execution_count": 35,
     "metadata": {},
     "output_type": "execute_result"
    }
   ],
   "source": [
    "df = pd.read_csv('XRP_price.csv', header=0, infer_datetime_format=True, parse_dates=['Date'], index_col=['Date'])\n",
    "df.head()"
   ]
  },
  {
   "cell_type": "code",
   "execution_count": 36,
   "metadata": {},
   "outputs": [
    {
     "name": "stdout",
     "output_type": "stream",
     "text": [
      "<class 'pandas.core.frame.DataFrame'>\n",
      "DatetimeIndex: 1960 entries, 2013-08-05 to 2018-12-16\n",
      "Data columns (total 3 columns):\n",
      " #   Column          Non-Null Count  Dtype  \n",
      "---  ------          --------------  -----  \n",
      " 0   Close XRP       1960 non-null   float64\n",
      " 1   Volume XRP      1816 non-null   float64\n",
      " 2   Market Cap XRP  1960 non-null   int64  \n",
      "dtypes: float64(2), int64(1)\n",
      "memory usage: 61.2 KB\n"
     ]
    }
   ],
   "source": [
    "df.info()"
   ]
  },
  {
   "cell_type": "code",
   "execution_count": 37,
   "metadata": {},
   "outputs": [
    {
     "data": {
      "text/html": [
       "<div>\n",
       "<style scoped>\n",
       "    .dataframe tbody tr th:only-of-type {\n",
       "        vertical-align: middle;\n",
       "    }\n",
       "\n",
       "    .dataframe tbody tr th {\n",
       "        vertical-align: top;\n",
       "    }\n",
       "\n",
       "    .dataframe thead th {\n",
       "        text-align: right;\n",
       "    }\n",
       "</style>\n",
       "<table border=\"1\" class=\"dataframe\">\n",
       "  <thead>\n",
       "    <tr style=\"text-align: right;\">\n",
       "      <th></th>\n",
       "      <th>Close XRP</th>\n",
       "      <th>Volume XRP</th>\n",
       "      <th>Market Cap XRP</th>\n",
       "    </tr>\n",
       "  </thead>\n",
       "  <tbody>\n",
       "    <tr>\n",
       "      <th>count</th>\n",
       "      <td>1960.000000</td>\n",
       "      <td>1.816000e+03</td>\n",
       "      <td>1.960000e+03</td>\n",
       "    </tr>\n",
       "    <tr>\n",
       "      <th>mean</th>\n",
       "      <td>0.164995</td>\n",
       "      <td>2.159157e+08</td>\n",
       "      <td>6.352882e+09</td>\n",
       "    </tr>\n",
       "    <tr>\n",
       "      <th>std</th>\n",
       "      <td>0.341782</td>\n",
       "      <td>7.088785e+08</td>\n",
       "      <td>1.334716e+10</td>\n",
       "    </tr>\n",
       "    <tr>\n",
       "      <th>min</th>\n",
       "      <td>0.002810</td>\n",
       "      <td>8.316000e+03</td>\n",
       "      <td>2.196991e+07</td>\n",
       "    </tr>\n",
       "    <tr>\n",
       "      <th>25%</th>\n",
       "      <td>0.006315</td>\n",
       "      <td>3.563672e+05</td>\n",
       "      <td>1.735673e+08</td>\n",
       "    </tr>\n",
       "    <tr>\n",
       "      <th>50%</th>\n",
       "      <td>0.008615</td>\n",
       "      <td>1.110490e+06</td>\n",
       "      <td>2.580457e+08</td>\n",
       "    </tr>\n",
       "    <tr>\n",
       "      <th>75%</th>\n",
       "      <td>0.211142</td>\n",
       "      <td>1.671492e+08</td>\n",
       "      <td>8.117047e+09</td>\n",
       "    </tr>\n",
       "    <tr>\n",
       "      <th>max</th>\n",
       "      <td>3.380000</td>\n",
       "      <td>9.110440e+09</td>\n",
       "      <td>1.308535e+11</td>\n",
       "    </tr>\n",
       "  </tbody>\n",
       "</table>\n",
       "</div>"
      ],
      "text/plain": [
       "         Close XRP    Volume XRP  Market Cap XRP\n",
       "count  1960.000000  1.816000e+03    1.960000e+03\n",
       "mean      0.164995  2.159157e+08    6.352882e+09\n",
       "std       0.341782  7.088785e+08    1.334716e+10\n",
       "min       0.002810  8.316000e+03    2.196991e+07\n",
       "25%       0.006315  3.563672e+05    1.735673e+08\n",
       "50%       0.008615  1.110490e+06    2.580457e+08\n",
       "75%       0.211142  1.671492e+08    8.117047e+09\n",
       "max       3.380000  9.110440e+09    1.308535e+11"
      ]
     },
     "execution_count": 37,
     "metadata": {},
     "output_type": "execute_result"
    }
   ],
   "source": [
    "df.describe()"
   ]
  },
  {
   "cell_type": "code",
   "execution_count": 38,
   "metadata": {},
   "outputs": [
    {
     "data": {
      "text/plain": [
       "Close XRP           0\n",
       "Volume XRP        144\n",
       "Market Cap XRP      0\n",
       "dtype: int64"
      ]
     },
     "execution_count": 38,
     "metadata": {},
     "output_type": "execute_result"
    }
   ],
   "source": [
    "df.isnull().sum()"
   ]
  },
  {
   "cell_type": "code",
   "execution_count": 39,
   "metadata": {},
   "outputs": [
    {
     "data": {
      "text/plain": [
       "Close XRP         0\n",
       "Volume XRP        0\n",
       "Market Cap XRP    0\n",
       "dtype: int64"
      ]
     },
     "execution_count": 39,
     "metadata": {},
     "output_type": "execute_result"
    }
   ],
   "source": [
    "df.fillna(value=0, inplace=True)\n",
    "df.isnull().sum()"
   ]
  },
  {
   "cell_type": "code",
   "execution_count": 40,
   "metadata": {},
   "outputs": [
    {
     "data": {
      "text/html": [
       "<div>\n",
       "<style scoped>\n",
       "    .dataframe tbody tr th:only-of-type {\n",
       "        vertical-align: middle;\n",
       "    }\n",
       "\n",
       "    .dataframe tbody tr th {\n",
       "        vertical-align: top;\n",
       "    }\n",
       "\n",
       "    .dataframe thead th {\n",
       "        text-align: right;\n",
       "    }\n",
       "</style>\n",
       "<table border=\"1\" class=\"dataframe\">\n",
       "  <thead>\n",
       "    <tr style=\"text-align: right;\">\n",
       "      <th></th>\n",
       "      <th>Close XRP</th>\n",
       "      <th>Volume XRP</th>\n",
       "      <th>Market Cap XRP</th>\n",
       "    </tr>\n",
       "    <tr>\n",
       "      <th>Date</th>\n",
       "      <th></th>\n",
       "      <th></th>\n",
       "      <th></th>\n",
       "    </tr>\n",
       "  </thead>\n",
       "  <tbody>\n",
       "    <tr>\n",
       "      <th>2013-08-05</th>\n",
       "      <td>0.005613</td>\n",
       "      <td>0.0</td>\n",
       "      <td>43879157</td>\n",
       "    </tr>\n",
       "    <tr>\n",
       "      <th>2013-08-06</th>\n",
       "      <td>0.004680</td>\n",
       "      <td>0.0</td>\n",
       "      <td>36591008</td>\n",
       "    </tr>\n",
       "    <tr>\n",
       "      <th>2013-08-07</th>\n",
       "      <td>0.004417</td>\n",
       "      <td>0.0</td>\n",
       "      <td>34534121</td>\n",
       "    </tr>\n",
       "    <tr>\n",
       "      <th>2013-08-08</th>\n",
       "      <td>0.004254</td>\n",
       "      <td>0.0</td>\n",
       "      <td>33258632</td>\n",
       "    </tr>\n",
       "    <tr>\n",
       "      <th>2013-08-09</th>\n",
       "      <td>0.004291</td>\n",
       "      <td>0.0</td>\n",
       "      <td>33547503</td>\n",
       "    </tr>\n",
       "  </tbody>\n",
       "</table>\n",
       "</div>"
      ],
      "text/plain": [
       "            Close XRP  Volume XRP  Market Cap XRP\n",
       "Date                                             \n",
       "2013-08-05   0.005613         0.0        43879157\n",
       "2013-08-06   0.004680         0.0        36591008\n",
       "2013-08-07   0.004417         0.0        34534121\n",
       "2013-08-08   0.004254         0.0        33258632\n",
       "2013-08-09   0.004291         0.0        33547503"
      ]
     },
     "execution_count": 40,
     "metadata": {},
     "output_type": "execute_result"
    }
   ],
   "source": [
    "dataset = df.astype('float32')\n",
    "df.head()"
   ]
  },
  {
   "cell_type": "markdown",
   "metadata": {},
   "source": [
    "## 2. Visualize the data"
   ]
  },
  {
   "cell_type": "code",
   "execution_count": 79,
   "metadata": {},
   "outputs": [
    {
     "data": {
      "image/png": "[encoded data removed]",
      "text/plain": [
       "<Figure size 720x720 with 1 Axes>"
      ]
     },
     "metadata": {
      "needs_background": "light"
     },
     "output_type": "display_data"
    }
   ],
   "source": [
    "plt.figure(figsize = (10,10))\n",
    "plt.plot(df.loc['2017-01-01':,'Close XRP'], color='red', label='Close XRP')\n",
    "plt.legend(loc='best')\n",
    "plt.title('XRP')\n",
    "plt.show();"
   ]
  },
  {
   "cell_type": "markdown",
   "metadata": {},
   "source": [
    "## 3. Autocorrelation Analysis"
   ]
  },
  {
   "cell_type": "code",
   "execution_count": 42,
   "metadata": {},
   "outputs": [
    {
     "data": {
      "image/png": "[encoded data removed]",
      "text/plain": [
       "<Figure size 432x288 with 1 Axes>"
      ]
     },
     "metadata": {
      "needs_background": "light"
     },
     "output_type": "display_data"
    }
   ],
   "source": [
    "plot_acf(df.iloc[:,0], lags=50)\n",
    "plt.xlabel('lags')\n",
    "plt.show()"
   ]
  },
  {
   "cell_type": "markdown",
   "metadata": {},
   "source": [
    "## 4. Augmented Dickey-Fuller test"
   ]
  },
  {
   "cell_type": "code",
   "execution_count": 43,
   "metadata": {},
   "outputs": [
    {
     "name": "stdout",
     "output_type": "stream",
     "text": [
      "Augmented Dickey-Fuller test:\n",
      "\n",
      "\tClose XRP:\n",
      "df_output:\n",
      "Test Statistic                   -3.122826\n",
      "p-value                           0.024909\n",
      "#Lags Used                       26.000000\n",
      "Number of Observations Used    1933.000000\n",
      "dtype: float64\n",
      "\n",
      "Test Statistic                   -3.122826\n",
      "p-value                           0.024909\n",
      "#Lags Used                       26.000000\n",
      "Number of Observations Used    1933.000000\n",
      "Critical Value (1%)              -3.433737\n",
      "Critical Value (5%)              -2.863036\n",
      "Critical Value (10%)             -2.567567\n",
      "dtype: float64\n"
     ]
    }
   ],
   "source": [
    "print('Augmented Dickey-Fuller test:')\n",
    "print('\\n\\t{0}:'.format(df.columns[0]))\n",
    "df_test = adfuller(df.iloc[:,0])\n",
    "df_output = pd.Series(df_test[0:4], index=['Test Statistic','p-value','#Lags Used','Number of Observations Used'])\n",
    "print(\"df_output:\\n{0}\\n\".format(df_output))\n",
    "for key,value in df_test[4].items():\n",
    "    df_output['Critical Value (%s)'%key] = value\n",
    "print(df_output)"
   ]
  },
  {
   "cell_type": "markdown",
   "metadata": {},
   "source": [
    "## 5. Evaluation metric"
   ]
  },
  {
   "cell_type": "code",
   "execution_count": 44,
   "metadata": {},
   "outputs": [],
   "source": [
    "def evaluate_forecasts(actual, predicted):\n",
    "    scores = list()\n",
    "    for i in range(actual.shape[1]):\n",
    "        mse = mean_squared_error(actual[:, i], predicted[:, i])\n",
    "        rmse = sqrt(mse)\n",
    "        scores.append(rmse)\n",
    "    s = 0\n",
    "    for row in range(actual.shape[0]):\n",
    "        for col in range(actual.shape[1]):\n",
    "            s += (actual[row, col] - predicted[row, col])**2\n",
    "    score = sqrt(s / (actual.shape[0] * actual.shape[1]))\n",
    "    return score, scores"
   ]
  },
  {
   "cell_type": "markdown",
   "metadata": {},
   "source": [
    "## 6. Split train and test"
   ]
  },
  {
   "cell_type": "code",
   "execution_count": 45,
   "metadata": {},
   "outputs": [],
   "source": [
    "def split_dataset(data, n_test):\n",
    "    train, test = data[0:-n_test], data[-n_test:]\n",
    "    train = np.array(np.split(train, len(train)/7))\n",
    "    test = np.array(np.split(test, len(test)/7))\n",
    "    return train, test\n",
    "\n",
    "def to_series(data):\n",
    "    series = [week[:, 0] for week in data]\n",
    "    series = np.array(series).flatten()\n",
    "    return series\n",
    "\n",
    "train, test = split_dataset(df.values,714)"
   ]
  },
  {
   "cell_type": "markdown",
   "metadata": {},
   "source": [
    "## 7. Define a Validation stategy"
   ]
  },
  {
   "cell_type": "markdown",
   "metadata": {},
   "source": [
    "Walk-forward validation. Models will be evaluated using a scheme called walk-forward validation.\n",
    "\n",
    "This is where a model is required to make a one week prediction, then the actual data for that week is made available to the model so that it can be used as the basis for making a prediction on the subsequent week. This is both realistic for how the model may be used in practice and beneficial to the models allowing them to make use of the best available data.\n",
    "\n",
    "We can demonstrate this below with separation of input data and output/predicted data.\n",
    "Input,                         Predict\n",
    "[Week1]                        Week2\n",
    "[Week1 + Week2]                Week3\n",
    "[Week1 + Week2 + Week3]        Week4\n",
    "\n",
    "The walk-forward validation approach to evaluating predictive models on this dataset is implement below, named evaluate_model().\n",
    "\n",
    "The name of a function is provided for the model as the argument \"model_func\";. This function is responsible for defining the model, fitting the model on the training data, and making a one-week forecast.\n",
    "\n",
    "The forecasts made by the model are then evaluated against the test dataset using the previously defined evaluate_forecasts() function. \n",
    "\n",
    "**If you don't understand the explanation, feel free to ask or check the solution, feel free to define another valiation stategy if you prefer so!**"
   ]
  },
  {
   "cell_type": "code",
   "execution_count": 46,
   "metadata": {},
   "outputs": [],
   "source": [
    "def evaluate_model(model_func, train, test, *args):\n",
    "    history = [x for x in train]\n",
    "    predictions = list()\n",
    "    for i in range(len(test)):\n",
    "        y_hat_seq = model_func(history, *args)\n",
    "        predictions.append(y_hat_seq)\n",
    "        history.append(test[i,:])\n",
    "    predictions = np.array(predictions)\n",
    "    score, scores = evaluate_forecasts(test[:, :, 0], predictions)\n",
    "    return score, scores, predictions\n",
    "\n",
    "def evaluate_arima_family_scores(func, name, train, test, order, debug = False):\n",
    "    score = None\n",
    "    if debug:\n",
    "        score, scores, predictions = evaluate_model(func, train, test, order)\n",
    "    else:\n",
    "        try:\n",
    "            with warnings.catch_warnings():\n",
    "                warnings.filterwarnings(\"ignore\")\n",
    "                score, scores, predictions = evaluate_model(func, train, test, order)\n",
    "        except:\n",
    "            score = None \n",
    "    if score is not None: \n",
    "        print(name + '%s RMSE=%.3f' % (order,score))\n",
    "    return (order, score)"
   ]
  },
  {
   "cell_type": "markdown",
   "metadata": {},
   "source": [
    "## 8. Choose and train a model"
   ]
  },
  {
   "cell_type": "markdown",
   "metadata": {},
   "source": [
    "In the solution ARIMA and SARIMA models are used. SARIMA is a variation of ARIMA where seasonality is introduced. You can check it in here (https://machinelearningmastery.com/sarima-for-time-series-forecasting-in-python/)."
   ]
  },
  {
   "cell_type": "code",
   "execution_count": 47,
   "metadata": {},
   "outputs": [],
   "source": [
    "def arima_forecast(history, arima_order):\n",
    "    series = to_series(history)\n",
    "    model = ARIMA(series, order=arima_order)\n",
    "    model_fit = model.fit(disp=False)\n",
    "    yhat = model_fit.predict(len(series), len(series)+6)\n",
    "    return yhat\n",
    "\n",
    "def Sarima_forecast(history, config):\n",
    "    order, sorder, trend = config\n",
    "    series = to_series(history)\n",
    "    model = SARIMAX(series, order=order, seasonal_order=sorder, trend=trend, enforce_stationarity=False, enforce_invertibility=False)\n",
    "    model_fit = model.fit(disp=False)\n",
    "    yhat = model_fit.predict(len(series), len(series)+6)\n",
    "    return yhat"
   ]
  },
  {
   "cell_type": "code",
   "execution_count": 48,
   "metadata": {},
   "outputs": [
    {
     "name": "stdout",
     "output_type": "stream",
     "text": [
      "ARIMA(0, 0, 0) - AIC:1356.7959880328308 - MSE:228.84037784387533\n",
      "ARIMA(0, 0, 1) - AIC:-1121.6595898573278 - MSE:64.49230547764846\n",
      "ARIMA(0, 1, 0) - AIC:-6733.752763180035 - MSE:3.6800583318532936\n",
      "ARIMA(0, 1, 1) - AIC:-6742.163762042722 - MSE:3.660543603489783\n",
      "ARIMA(0, 1, 2) - AIC:-6744.020526081044 - MSE:3.653338098343087\n",
      "ARIMA(0, 1, 3) - AIC:-6746.699874004497 - MSE:3.6446102538186143\n",
      "ARIMA(1, 0, 0) - AIC:-6739.780214055839 - MSE:3.690045613191311\n",
      "ARIMA(1, 0, 1) - AIC:-6749.3101786943835 - MSE:3.6685887691308445\n",
      "ARIMA(1, 0, 2) - AIC:-6751.894520142486 - MSE:3.660099448762765\n",
      "ARIMA(1, 0, 3) - AIC:-6755.477674149756 - MSE:3.6497699468498626\n",
      "ARIMA(1, 1, 0) - AIC:-6743.132601265584 - MSE:3.6587319936214584\n",
      "ARIMA(1, 1, 1) - AIC:-6755.8885277118325 - MSE:3.631236742314738\n",
      "ARIMA(1, 1, 2) - AIC:-6754.00406036054 - MSE:3.6310203592056265\n",
      "ARIMA(1, 1, 3) - AIC:-6753.332745150255 - MSE:3.6285477472773238\n",
      "ARIMA(2, 0, 0) - AIC:-6750.500689405021 - MSE:3.666384625534071\n",
      "ARIMA(2, 0, 1) - AIC:-6768.808270740464 - MSE:3.6289088208198854\n",
      "ARIMA(2, 0, 2) - AIC:-6766.9535255080145 - MSE:3.628639684743564\n",
      "ARIMA(2, 0, 3) - AIC:-6766.565549754762 - MSE:3.6256668965190526\n",
      "ARIMA(2, 1, 0) - AIC:-6745.518298294294 - MSE:3.650541864481922\n",
      "ARIMA(2, 1, 1) - AIC:-6753.995942058963 - MSE:3.6310355902206286\n",
      "ARIMA(2, 1, 2) - AIC:-6751.888811502628 - MSE:3.631236173837051\n",
      "ARIMA(2, 1, 3) - AIC:-6825.532145955322 - MSE:3.4924587475323334\n",
      "ARIMA(3, 0, 0) - AIC:-6753.853604785168 - MSE:3.656478860830673\n",
      "ARIMA(3, 0, 1) - AIC:-6766.9428597453325 - MSE:3.6286597574799893\n",
      "ARIMA(3, 0, 2) - AIC:-6795.178335433607 - MSE:3.572870380057893\n",
      "ARIMA(3, 0, 3) - AIC:-6796.306394987788 - MSE:3.567196472588334\n",
      "ARIMA(3, 1, 0) - AIC:-6748.3192573701135 - MSE:3.64159272439189\n",
      "ARIMA(3, 1, 1) - AIC:-6753.086990755662 - MSE:3.6290062134742658\n",
      "ARIMA(3, 1, 2) - AIC:-6833.276451184361 - MSE:3.478692752759924\n",
      "ARIMA(3, 1, 3) - AIC:-6836.639782460291 - MSE:3.467448360895543\n"
     ]
    }
   ],
   "source": [
    "import itertools\n",
    "\n",
    "p = q = range(0, 4)\n",
    "r = range(0,2)\n",
    "\n",
    "orders = itertools.product(p, r, q)\n",
    "for param in orders:\n",
    "    try:\n",
    "        mod = ARIMA(df.iloc[:,0],order=param)\n",
    "        results = mod.fit()\n",
    "        print('ARIMA{} - AIC:{} - MSE:{}'.format(param, results.aic, np.sum(np.square(results.resid))))\n",
    "    except:\n",
    "        continue"
   ]
  },
  {
   "cell_type": "markdown",
   "metadata": {},
   "source": [
    "### 8.1 Grid search for time series models"
   ]
  },
  {
   "cell_type": "markdown",
   "metadata": {},
   "source": [
    "You can try to search the best parameters for the model with ML parameters searching tecniques. In the following notebook you can have an explained procedure (Grid_search_models_hyperparameters.ipynb)"
   ]
  },
  {
   "cell_type": "code",
   "execution_count": 49,
   "metadata": {},
   "outputs": [],
   "source": [
    "def grid_search_arima_family(func, name, train, test, orders_list, parallel=True):\n",
    "    scores = None\n",
    "    if parallel:\n",
    "        executor = Parallel(n_jobs=cpu_count(), backend='multiprocessing')\n",
    "        tasks = (delayed(evaluate_arima_family_scores)(func, name, train, test, order) for order in orders_list)\n",
    "        scores = executor(tasks)\n",
    "    else:\n",
    "        scores = [evaluate_arima_family_scores(func, name, train, test, order) for order in orders_list]\n",
    "    scores = [r for r in scores if r[1] != None]\n",
    "    scores.sort(key=lambda tup: tup[1])\n",
    "    return scores, name\n",
    "\n",
    "def arima_orders(p_values, d_values, q_values):\n",
    "    orders = list()\n",
    "    for p in p_values:\n",
    "        for d in d_values:\n",
    "            for q in q_values:\n",
    "                order = (p,d,q)\n",
    "                orders.append(order)\n",
    "    return orders\n",
    "\n",
    "def Sarima_configs(seasonal=[0]):\n",
    "    configs = list()\n",
    "    p_params = [0, 1, 2]\n",
    "    d_params = [0, 1]\n",
    "    q_params = [0, 1, 2]\n",
    "    t_params = ['n']\n",
    "    P_params = [0, 1, 2]\n",
    "    D_params = [0, 1]\n",
    "    Q_params = [0, 1, 2]\n",
    "    m_params = seasonal\n",
    "    for p in p_params:\n",
    "        for d in d_params:\n",
    "            for q in q_params:\n",
    "                for t in t_params:\n",
    "                    for P in P_params:\n",
    "                        for D in D_params:\n",
    "                            for Q in Q_params:\n",
    "                                for m in m_params:\n",
    "                                    cfg = [(p,d,q), (P,D,Q,m), t]\n",
    "                                    configs.append(cfg)\n",
    "    return configs"
   ]
  },
  {
   "cell_type": "markdown",
   "metadata": {},
   "source": [
    "## 9. Make some predictions!"
   ]
  },
  {
   "cell_type": "code",
   "execution_count": 50,
   "metadata": {},
   "outputs": [
    {
     "name": "stdout",
     "output_type": "stream",
     "text": [
      "Arima(0, 0, 0) RMSE=0.567\n",
      "Arima(0, 0, 1) RMSE=0.537\n",
      "Arima(0, 1, 0) RMSE=0.628\n",
      "Arima(0, 1, 1) RMSE=0.628\n",
      "Arima(0, 2, 0) RMSE=0.629\n",
      "Arima(0, 2, 1) RMSE=0.628\n",
      "Arima(1, 0, 0) RMSE=0.195\n",
      "Arima(1, 1, 0) RMSE=0.628\n",
      "Arima(1, 1, 1) RMSE=0.620\n",
      "Arima(1, 2, 0) RMSE=0.629\n",
      "Arima(1, 2, 1) RMSE=0.628\n",
      "Arima(2, 0, 0) RMSE=0.196\n",
      "Arima(2, 1, 0) RMSE=0.628\n",
      "Arima(2, 1, 1) RMSE=0.626\n",
      "Arima(2, 2, 0) RMSE=0.629\n",
      "Arima(2, 2, 1) RMSE=0.628\n",
      "Arima(3, 0, 0) RMSE=0.199\n",
      "Arima(3, 1, 0) RMSE=0.628\n",
      "Arima(3, 1, 1) RMSE=0.625\n",
      "Arima(3, 2, 0) RMSE=0.629\n",
      "Arima(4, 0, 0) RMSE=0.201\n",
      "Arima(4, 1, 0) RMSE=0.627\n",
      "Arima(4, 1, 1) RMSE=0.624\n",
      "Arima(4, 2, 0) RMSE=0.628\n",
      "Arima(5, 0, 0) RMSE=0.199\n",
      "Arima(5, 1, 0) RMSE=0.626\n",
      "Arima(5, 1, 1) RMSE=0.624\n",
      "Arima(5, 2, 0) RMSE=0.629\n",
      "Arima(6, 0, 0) RMSE=0.226\n",
      "Arima(6, 1, 0) RMSE=0.624\n",
      "Arima(6, 1, 1) RMSE=0.620\n",
      "Arima(6, 2, 0) RMSE=0.630\n",
      "Arima(6, 2, 1) RMSE=0.630\n",
      "Arima(7, 0, 0) RMSE=0.231\n",
      "Arima(7, 1, 0) RMSE=0.621\n",
      "Arima(7, 1, 1) RMSE=0.617\n",
      "Arima(7, 2, 0) RMSE=0.633\n",
      "Arima(7, 2, 1) RMSE=0.633\n",
      "\n",
      "\n",
      "Top 3 best performing Arima models:\n",
      "Arima(1, 0, 0) RMSE = 0.19505745130443572\n",
      "Arima(2, 0, 0) RMSE = 0.19618239171168336\n",
      "Arima(5, 0, 0) RMSE = 0.1989148593596869\n",
      "\n",
      "\n",
      "Sarima[(0, 0, 0), (0, 0, 0, 0), 'n'] RMSE=0.629\n",
      "Sarima[(0, 0, 1), (0, 0, 0, 0), 'n'] RMSE=0.595\n",
      "Sarima[(0, 0, 2), (0, 0, 0, 0), 'n'] RMSE=0.571\n",
      "Sarima[(0, 1, 0), (0, 0, 0, 0), 'n'] RMSE=0.196\n",
      "Sarima[(0, 1, 1), (0, 0, 0, 0), 'n'] RMSE=0.197\n",
      "Sarima[(0, 1, 2), (0, 0, 0, 0), 'n'] RMSE=0.201\n",
      "Sarima[(1, 0, 0), (0, 0, 0, 0), 'n'] RMSE=0.247\n",
      "Sarima[(1, 0, 1), (0, 0, 0, 0), 'n'] RMSE=0.248\n",
      "Sarima[(1, 0, 2), (0, 0, 0, 0), 'n'] RMSE=0.251\n",
      "Sarima[(1, 1, 0), (0, 0, 0, 0), 'n'] RMSE=0.197\n",
      "Sarima[(1, 1, 1), (0, 0, 0, 0), 'n'] RMSE=0.265\n",
      "Sarima[(1, 1, 2), (0, 0, 0, 0), 'n'] RMSE=0.269\n",
      "Sarima[(2, 0, 0), (0, 0, 0, 0), 'n'] RMSE=0.247\n",
      "Sarima[(2, 0, 1), (0, 0, 0, 0), 'n'] RMSE=68.674\n",
      "Sarima[(2, 0, 2), (0, 0, 0, 0), 'n'] RMSE=0.252\n",
      "Sarima[(2, 1, 0), (0, 0, 0, 0), 'n'] RMSE=0.201\n",
      "Sarima[(2, 1, 1), (0, 0, 0, 0), 'n'] RMSE=0.265\n",
      "Sarima[(2, 1, 2), (0, 0, 0, 0), 'n'] RMSE=0.291\n",
      "\n",
      "\n",
      "Top 3 best performing Sarima models:\n",
      "Sarima[(0, 1, 0), (0, 0, 0, 0), 'n'] RMSE = 0.19614766989769247\n",
      "Sarima[(0, 1, 1), (0, 0, 0, 0), 'n'] RMSE = 0.19706577214640766\n",
      "Sarima[(1, 1, 0), (0, 0, 0, 0), 'n'] RMSE = 0.19739571759244237\n",
      "\n",
      "\n"
     ]
    }
   ],
   "source": [
    "from multiprocessing import cpu_count\n",
    "from joblib import Parallel\n",
    "from joblib import delayed\n",
    "\n",
    "models = dict()\n",
    "models['Arima'] = arima_forecast\n",
    "models['Sarima'] = Sarima_forecast\n",
    "\n",
    "p_values = range(0, 8)\n",
    "d_values = range(0, 3)\n",
    "q_values = range(0, 2)\n",
    "\n",
    "orders_arima_list = arima_orders(p_values,d_values,q_values)\n",
    "configs_sarima_list = Sarima_configs(seasonal=[0])\n",
    "\n",
    "args = list() \n",
    "args.extend([orders_arima_list, configs_sarima_list])\n",
    "\n",
    "for (name, func), arg in zip(models.items(), args): \n",
    "    scores, name = grid_search_arima_family(func, name, train, test, arg, parallel=False)\n",
    "    print('\\n')\n",
    "    print('Top 3 best performing {0} models:'.format(name))\n",
    "    for order, error in scores[:3]: \n",
    "        print(name + str(order), 'RMSE = ' + str(error)) \n",
    "    print('\\n')"
   ]
  },
  {
   "cell_type": "markdown",
   "metadata": {},
   "source": [
    "### 9.1 Don't forget to plot your predictions "
   ]
  },
  {
   "cell_type": "code",
   "execution_count": 77,
   "metadata": {},
   "outputs": [
    {
     "data": {
      "image/png": "[encoded data removed]",
      "text/plain": [
       "<Figure size 576x576 with 1 Axes>"
      ]
     },
     "metadata": {
      "needs_background": "light"
     },
     "output_type": "display_data"
    }
   ],
   "source": [
    "score_arima, scores_arima, predictions_arima = evaluate_model(arima_forecast, train, test, (1,0,0))\n",
    "score_sarima, scores_sarima, predictions_sarima = evaluate_model(Sarima_forecast, train, test, [(0, 1, 0), (0, 0, 0, 0), 'n'])\n",
    "\n",
    "predictions = pd.DataFrame()\n",
    "predictions['Original'] = to_series(test)\n",
    "predictions['Arima'] = to_series(predictions_arima[:,:,np.newaxis])\n",
    "predictions['Sarima'] = to_series(predictions_sarima[:,:,np.newaxis])\n",
    "predictions.set_index([df.index[1246:]], inplace=True)\n",
    "\n",
    "plt.figure(figsize = (8,8))\n",
    "plt.plot(predictions.Original, color='blue', label='Original')\n",
    "plt.plot(predictions.Arima, color='red', label='Arima')\n",
    "plt.plot(predictions.Sarima, color='green', label='Sarima')\n",
    "\n",
    "plt.legend(loc='best')\n",
    "\n",
    "plt.title('BEST MODELS PREDICTIONS\\nRMSE_Arima: %.3f - RMSE_Sarima: %.3f'% (score_arima, score_sarima))\n",
    "plt.show()"
   ]
  }
 ],
 "metadata": {
  "kernelspec": {
   "display_name": "Python 3",
   "language": "python",
   "name": "python3"
  },
  "language_info": {
   "codemirror_mode": {
    "name": "ipython",
    "version": 3
   },
   "file_extension": ".py",
   "mimetype": "text/x-python",
   "name": "python",
   "nbconvert_exporter": "python",
   "pygments_lexer": "ipython3",
   "version": "3.7.9"
  }
 },
 "nbformat": 4,
 "nbformat_minor": 4
}
