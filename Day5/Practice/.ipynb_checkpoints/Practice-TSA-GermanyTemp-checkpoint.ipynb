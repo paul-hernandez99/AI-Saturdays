{
 "cells": [
  {
   "cell_type": "markdown",
   "metadata": {},
   "source": [
    "# Practice: Estacionalidad de Temperaturas en Alemania\n",
    "\n",
    "### Este ejercicio ha sido propuesto y creado íntegramente por el equipo de AI Saturdays Euskadi (thanks [@MaialenBerrondo](https://www.linkedin.com/in/maialen-berrondo-43197b94/)!)\n",
    "\n",
    "Un ejemplo típico de estacionalidad y análisis de series temporales es la predicción de la temperatura en un entorno. Por ello, vamos a tomar un caso de estudio de datos de temperaturas de Alemania, y vamos a aplicar una serie de funciones comentadas en la sesión de Time Series Analysis para comprender si existe una estacionalidad real en el caso de las temperaturas de Alemania, y si así se trata, de hacer predicciones de dichas temperaturas."
   ]
  },
  {
   "cell_type": "code",
   "execution_count": 1,
   "metadata": {},
   "outputs": [
    {
     "name": "stdout",
     "output_type": "stream",
     "text": [
      "Collecting pypr\n",
      "  Downloading PyPR-0.1.1.tar.gz (757 kB)\n",
      "Building wheels for collected packages: pypr\n",
      "  Building wheel for pypr (setup.py): started\n",
      "  Building wheel for pypr (setup.py): finished with status 'done'\n",
      "  Created wheel for pypr: filename=PyPR-0.1.1-py3-none-any.whl size=40933 sha256=8f523c905296f4290847373ebc00f894f0b74c3d577e1a8253239fea2c1c5b4f\n",
      "  Stored in directory: c:\\users\\alumno\\appdata\\local\\pip\\cache\\wheels\\48\\93\\7c\\b8303cd0f4442085459ee778f03922e4c492b13818cca628c0\n",
      "Successfully built pypr\n",
      "Installing collected packages: pypr\n",
      "Successfully installed pypr-0.1.1\n"
     ]
    }
   ],
   "source": [
    "!pip install pypr"
   ]
  },
  {
   "cell_type": "markdown",
   "metadata": {},
   "source": [
    "### Nota importante (Añadida desde el equipo de AI Saturdays Euskadi):\n",
    "\n",
    "Para que te funcione la librería ```ljungbox``` (que permite ejecutar el Q-Test Ljung-Box para encontrar autocorrelación residual), necesitarás hacer el siguiente ajuste en tu instalación de la librería ```pypr```.\n",
    "\n",
    "[Este enlace contiene la documentación en la que se basa la explicación. Esta explicación aplica a instalaciones hechas en Windows, para sistemas MacOS o Ubuntu habría que validar si el cambio planteado es correcto.](https://gist.github.com/betterxys/1def38e1fcbb7f3b2dab2393bcea52f0)\n",
    "\n",
    "1. Las librerías que instalas en tu entorno Conda (ya sea mediante el instalador gráfico de Anaconda o mediante comandos pip) se almacenan en una carpeta específica. Navega a la siguiente ruta de tu ordenador: ```{DISCO}\\Users\\{NOMBRE_USUARIO}\\anaconda3\\envs\\fastai\\Lib\\site-packages\\pypr\\stattest```\n",
    "2. Dentro de esa carpeta verás una carpeta y varios ficheros: ```__pycache__```, ```__init__.py```, ```ljungbox.py``` y ```model.select.py```. Abre el fichero ```__init__.py``` con un editor de texto (Notepad, Notepad++, Sublime Text, vim, nano, etc.).\n",
    "3. Edita el contenido del fichero para que quede de esta manera:\n",
    "\n",
    "`\n",
    "from .ljungbox import *\n",
    "from .model_select import *\n",
    "`\n",
    "\n",
    "¡Y listo! Haz el guardado del contenido editado y ya puedes volver a este Notebook."
   ]
  },
  {
   "cell_type": "code",
   "execution_count": null,
   "metadata": {
    "colab": {},
    "colab_type": "code",
    "id": "I0HQ3QGZpsGv"
   },
   "outputs": [],
   "source": [
    "import itertools\n",
    "import matplotlib.pylab as plt\n",
    "import numpy as np\n",
    "import pandas as pd\n",
    "import statsmodels.api as sm\n",
    "import warnings\n",
    "from pypr.stattest.ljungbox import * # If there are problems with the library, it just shows the last plot\n",
    "from pylab import rcParams\n",
    "from statsmodels.graphics.tsaplots import plot_pacf,plot_acf\n",
    "from statsmodels.tsa.arima_model import ARMA\n",
    "from statsmodels.tsa.arima_model import ARIMA\n",
    "from statsmodels.tsa.stattools import adfuller"
   ]
  },
  {
   "cell_type": "code",
   "execution_count": null,
   "metadata": {
    "colab": {},
    "colab_type": "code",
    "id": "a2Bfv1vypsG0"
   },
   "outputs": [],
   "source": [
    "%matplotlib inline\n",
    "rcParams['figure.figsize'] = 15, 10\n",
    "warnings.filterwarnings('ignore')"
   ]
  },
  {
   "cell_type": "markdown",
   "metadata": {},
   "source": [
    "## Load & Clean Data"
   ]
  },
  {
   "cell_type": "markdown",
   "metadata": {},
   "source": [
    "Como en todo proceso de Análisis de Datos, hay que hacer cierto EDA + Cleaning, para entender lo que tenemos por aquí. Así que carga el fichero CSV y empieza a ver patrones.\n",
    "\n",
    "Para el propósito de este ejercicio, quédate con aquellos valores del dataset a partir del 1970-01-01 (esa misma fecha inclusive)."
   ]
  },
  {
   "cell_type": "code",
   "execution_count": null,
   "metadata": {
    "colab": {},
    "colab_type": "code",
    "id": "x_s-yt5BpsG3"
   },
   "outputs": [],
   "source": [
    "# Cargado y lectura de fichero\n",
    "\n",
    "file_path = \n",
    "df_germany ="
   ]
  },
  {
   "cell_type": "code",
   "execution_count": null,
   "metadata": {
    "colab": {
     "base_uri": "https://localhost:8080/",
     "height": 228
    },
    "colab_type": "code",
    "executionInfo": {
     "elapsed": 962,
     "status": "ok",
     "timestamp": 1558255619212,
     "user": {
      "displayName": "Bhavesh Bhatt",
      "photoUrl": "https://lh5.googleusercontent.com/-Dxy3HXzth_c/AAAAAAAAAAI/AAAAAAAAHvk/4kcnA5cyAC4/s64/photo.jpg",
      "userId": "01561702845917398436"
     },
     "user_tz": -330
    },
    "id": "cJRmy_iepsG7",
    "outputId": "972fdfc1-9ca6-4f2e-ce9f-d1114fbb0cad"
   },
   "outputs": [],
   "source": [
    "# Ver que hay en el fichero\n",
    "\n"
   ]
  },
  {
   "cell_type": "code",
   "execution_count": null,
   "metadata": {
    "colab": {},
    "colab_type": "code",
    "id": "qhuRb9AzpsG9"
   },
   "outputs": [],
   "source": [
    "# Limpiar todos los datos que hagan falta (eliminar nulos, etc.)\n"
   ]
  },
  {
   "cell_type": "code",
   "execution_count": null,
   "metadata": {
    "colab": {},
    "colab_type": "code",
    "id": "gkos9PhnpsHD"
   },
   "outputs": [],
   "source": []
  },
  {
   "cell_type": "code",
   "execution_count": null,
   "metadata": {
    "colab": {},
    "colab_type": "code",
    "id": "9q2NHnRWpsHF"
   },
   "outputs": [],
   "source": [
    "# Tomar datos a partir de 1970-01-01 (esta fecha inclusive)\n",
    "\n"
   ]
  },
  {
   "cell_type": "code",
   "execution_count": null,
   "metadata": {
    "colab": {
     "base_uri": "https://localhost:8080/",
     "height": 52
    },
    "colab_type": "code",
    "executionInfo": {
     "elapsed": 979,
     "status": "ok",
     "timestamp": 1558255631677,
     "user": {
      "displayName": "Bhavesh Bhatt",
      "photoUrl": "https://lh5.googleusercontent.com/-Dxy3HXzth_c/AAAAAAAAAAI/AAAAAAAAHvk/4kcnA5cyAC4/s64/photo.jpg",
      "userId": "01561702845917398436"
     },
     "user_tz": -330
    },
    "id": "tX4p4-qBpsHK",
    "outputId": "edebd311-9a9b-4496-f174-5f87d5aef8b0"
   },
   "outputs": [],
   "source": [
    "# Comprobar una vez mas que no haya valores nulos ni vacios\n",
    "\n"
   ]
  },
  {
   "cell_type": "code",
   "execution_count": null,
   "metadata": {
    "colab": {
     "base_uri": "https://localhost:8080/",
     "height": 288
    },
    "colab_type": "code",
    "executionInfo": {
     "elapsed": 989,
     "status": "ok",
     "timestamp": 1558255686266,
     "user": {
      "displayName": "Bhavesh Bhatt",
      "photoUrl": "https://lh5.googleusercontent.com/-Dxy3HXzth_c/AAAAAAAAAAI/AAAAAAAAHvk/4kcnA5cyAC4/s64/photo.jpg",
      "userId": "01561702845917398436"
     },
     "user_tz": -330
    },
    "id": "kvK5YOMGpsHT",
    "outputId": "06ba7746-aff4-4d7a-fd3b-3eb02b0c5007"
   },
   "outputs": [],
   "source": [
    "# Una vez hechas las limpiezas pertinentes, ver como ha quedado nuestro dataset\n",
    "\n",
    "df_germany.describe()"
   ]
  },
  {
   "cell_type": "code",
   "execution_count": null,
   "metadata": {},
   "outputs": [],
   "source": [
    "df_germany.head(10)"
   ]
  },
  {
   "cell_type": "code",
   "execution_count": null,
   "metadata": {},
   "outputs": [],
   "source": [
    "df_germany.tail(10)"
   ]
  },
  {
   "cell_type": "markdown",
   "metadata": {},
   "source": [
    "## Plot the data & Check stationarity\n",
    "\n",
    "Y ahora vamos a averiguar si hay cierta estacionalidad implícita en los datos limpiados de temperaturas de Alemania."
   ]
  },
  {
   "cell_type": "code",
   "execution_count": null,
   "metadata": {
    "colab": {
     "base_uri": "https://localhost:8080/",
     "height": 612
    },
    "colab_type": "code",
    "executionInfo": {
     "elapsed": 4535,
     "status": "ok",
     "timestamp": 1558255720469,
     "user": {
      "displayName": "Bhavesh Bhatt",
      "photoUrl": "https://lh5.googleusercontent.com/-Dxy3HXzth_c/AAAAAAAAAAI/AAAAAAAAHvk/4kcnA5cyAC4/s64/photo.jpg",
      "userId": "01561702845917398436"
     },
     "user_tz": -330
    },
    "id": "sYSjuIOXpsHa",
    "outputId": "954433af-af15-462c-9995-e96efe4f790a"
   },
   "outputs": [],
   "source": [
    "# Hacer un plot de los datos que tenemos\n",
    "\n",
    "plt.plot(df_germany.Avg_Temp)"
   ]
  },
  {
   "cell_type": "code",
   "execution_count": null,
   "metadata": {
    "colab": {},
    "colab_type": "code",
    "id": "sMQvx2BUpsHd"
   },
   "outputs": [],
   "source": [
    "# Definir la funcion que compruebe la estacionalidad\n",
    "\n",
    "def stationarity_check(ts):\n",
    "    # Determing rolling statistics\n",
    "    roll_mean = ts.rolling(12).mean()\n",
    "    # Plot rolling statistics:\n",
    "    plt.plot(ts, color='green',label='Original')\n",
    "    plt.plot(roll_mean, color='blue', label='Rolling Mean')\n",
    "    plt.legend(loc='best')\n",
    "    plt.title('Rolling Mean')\n",
    "    plt.show(block=False)\n",
    "    # Perform Augmented Dickey-Fuller test:\n",
    "    print('Augmented Dickey-Fuller test:')\n",
    "    df_test = adfuller(ts)\n",
    "    df_output = pd.Series(df_test[0:4], index=['Test Statistic','p-value','#Lags Used','Number of Observations Used'])\n",
    "    print(\"df_output: \\n\",df_output)\n",
    "    for key,value in df_test[4].items():\n",
    "        df_output['Critical Value (%s)'%key] = value\n",
    "    print(df_output)"
   ]
  },
  {
   "cell_type": "code",
   "execution_count": null,
   "metadata": {
    "colab": {
     "base_uri": "https://localhost:8080/",
     "height": 866
    },
    "colab_type": "code",
    "executionInfo": {
     "elapsed": 2357,
     "status": "ok",
     "timestamp": 1558255773938,
     "user": {
      "displayName": "Bhavesh Bhatt",
      "photoUrl": "https://lh5.googleusercontent.com/-Dxy3HXzth_c/AAAAAAAAAAI/AAAAAAAAHvk/4kcnA5cyAC4/s64/photo.jpg",
      "userId": "01561702845917398436"
     },
     "user_tz": -330
    },
    "id": "htG0kigBpsHg",
    "outputId": "412f2c68-0ce1-4caa-d969-fd24343e0920"
   },
   "outputs": [],
   "source": [
    "#Ejecutar dicha funcion\n",
    "\n",
    "stationarity_check(df_germany.Avg_Temp)"
   ]
  },
  {
   "cell_type": "code",
   "execution_count": null,
   "metadata": {
    "colab": {
     "base_uri": "https://localhost:8080/",
     "height": 1211
    },
    "colab_type": "code",
    "executionInfo": {
     "elapsed": 1718,
     "status": "ok",
     "timestamp": 1558255838474,
     "user": {
      "displayName": "Bhavesh Bhatt",
      "photoUrl": "https://lh5.googleusercontent.com/-Dxy3HXzth_c/AAAAAAAAAAI/AAAAAAAAHvk/4kcnA5cyAC4/s64/photo.jpg",
      "userId": "01561702845917398436"
     },
     "user_tz": -330
    },
    "id": "Q9lokIKapsHj",
    "outputId": "cad03626-9b05-4d47-ead5-4c9a14c22271"
   },
   "outputs": [],
   "source": [
    "# Hacer un plot de ACF (Autocorrelacion) y PACF (Autocorrelacion Parcial)\n",
    "\n",
    "plot_acf(df_germany.Avg_Temp, lags=50)\n",
    "plot_pacf(df_germany.Avg_Temp, lags=50)\n",
    "plt.xlabel('lags')\n",
    "plt.show()"
   ]
  },
  {
   "cell_type": "markdown",
   "metadata": {},
   "source": [
    "## Select the parameters that fit best the models and forecast\n",
    "\n",
    "Ahora que hemos visto cómo se comportan los valores que tenemos en el dataset, vamos a averiguar qué parámetros seleccionar para ajustar mejor los modelos.\n",
    "\n",
    "Para ello, en base a estos parámetros establecidos que te dejamos a continuación, haz un cálculo de un modelo ARMA y ARIMA para poder compararlos, y en base al que mejor performance tenga, haz un ajuste y muéstralo en un gráfico."
   ]
  },
  {
   "cell_type": "code",
   "execution_count": null,
   "metadata": {
    "colab": {
     "base_uri": "https://localhost:8080/",
     "height": 34
    },
    "colab_type": "code",
    "executionInfo": {
     "elapsed": 986,
     "status": "ok",
     "timestamp": 1558255942635,
     "user": {
      "displayName": "Bhavesh Bhatt",
      "photoUrl": "https://lh5.googleusercontent.com/-Dxy3HXzth_c/AAAAAAAAAAI/AAAAAAAAHvk/4kcnA5cyAC4/s64/photo.jpg",
      "userId": "01561702845917398436"
     },
     "user_tz": -330
    },
    "id": "1Pj3kbRLpsHk",
    "outputId": "996ba056-070c-4ca5-c843-076d2889e180"
   },
   "outputs": [],
   "source": [
    "# Parametros dados\n",
    "\n",
    "p = q = range(1, 4)\n",
    "print (p)"
   ]
  },
  {
   "cell_type": "code",
   "execution_count": null,
   "metadata": {
    "colab": {
     "base_uri": "https://localhost:8080/",
     "height": 121
    },
    "colab_type": "code",
    "executionInfo": {
     "elapsed": 7068,
     "status": "ok",
     "timestamp": 1558255982320,
     "user": {
      "displayName": "Bhavesh Bhatt",
      "photoUrl": "https://lh5.googleusercontent.com/-Dxy3HXzth_c/AAAAAAAAAAI/AAAAAAAAHvk/4kcnA5cyAC4/s64/photo.jpg",
      "userId": "01561702845917398436"
     },
     "user_tz": -330
    },
    "id": "6woGDJ4SSqPu",
    "outputId": "02c29035-ab63-45e0-aa1c-a4cbd414bb5b"
   },
   "outputs": [],
   "source": [
    "# Prueba de modelos ARMA\n",
    "\n"
   ]
  },
  {
   "cell_type": "code",
   "execution_count": null,
   "metadata": {},
   "outputs": [],
   "source": [
    "# Parametros dados\n",
    "\n",
    "p = q = range(0, 4)\n",
    "r = range(0,2)"
   ]
  },
  {
   "cell_type": "code",
   "execution_count": null,
   "metadata": {
    "colab": {
     "base_uri": "https://localhost:8080/",
     "height": 345
    },
    "colab_type": "code",
    "executionInfo": {
     "elapsed": 8850,
     "status": "ok",
     "timestamp": 1558256483009,
     "user": {
      "displayName": "Bhavesh Bhatt",
      "photoUrl": "https://lh5.googleusercontent.com/-Dxy3HXzth_c/AAAAAAAAAAI/AAAAAAAAHvk/4kcnA5cyAC4/s64/photo.jpg",
      "userId": "01561702845917398436"
     },
     "user_tz": -330
    },
    "id": "tqTHcKm4psHm",
    "outputId": "2dd2b7ba-034d-4125-98a5-c3173f31366e"
   },
   "outputs": [],
   "source": [
    "# Prueba de modelos ARIMA\n",
    "\n"
   ]
  },
  {
   "cell_type": "code",
   "execution_count": null,
   "metadata": {
    "colab": {
     "base_uri": "https://localhost:8080/",
     "height": 607
    },
    "colab_type": "code",
    "executionInfo": {
     "elapsed": 4001,
     "status": "ok",
     "timestamp": 1558256569595,
     "user": {
      "displayName": "Bhavesh Bhatt",
      "photoUrl": "https://lh5.googleusercontent.com/-Dxy3HXzth_c/AAAAAAAAAAI/AAAAAAAAHvk/4kcnA5cyAC4/s64/photo.jpg",
      "userId": "01561702845917398436"
     },
     "user_tz": -330
    },
    "id": "Uy5r1o0RpsHo",
    "outputId": "68016d71-4b35-472a-db5b-60717ceeefc9"
   },
   "outputs": [],
   "source": [
    "# Ajuste y prediccion de mejor modelo\n",
    "\n"
   ]
  },
  {
   "cell_type": "code",
   "execution_count": null,
   "metadata": {},
   "outputs": [],
   "source": [
    "# Plotteo de mejor modelo\n",
    "\n"
   ]
  },
  {
   "cell_type": "markdown",
   "metadata": {},
   "source": [
    "## More forecasts (SARIMAX)\n",
    "\n",
    "Finalmente, vamos a hacer una nueva predicción con un modelo distinto, que no sea ARMA o ARIMA, sino de tipo SARIMAX."
   ]
  },
  {
   "cell_type": "code",
   "execution_count": null,
   "metadata": {
    "colab": {},
    "colab_type": "code",
    "id": "LYN_vdhCpsHu"
   },
   "outputs": [],
   "source": [
    "#Uso y ajuste de SARIMAX\n",
    "\n"
   ]
  },
  {
   "cell_type": "markdown",
   "metadata": {},
   "source": [
    "Haz un plot de los diagnósticos del ajuste obtenido en tu modelo ajustado."
   ]
  },
  {
   "cell_type": "code",
   "execution_count": null,
   "metadata": {
    "colab": {
     "base_uri": "https://localhost:8080/",
     "height": 730
    },
    "colab_type": "code",
    "executionInfo": {
     "elapsed": 2532,
     "status": "ok",
     "timestamp": 1558256634361,
     "user": {
      "displayName": "Bhavesh Bhatt",
      "photoUrl": "https://lh5.googleusercontent.com/-Dxy3HXzth_c/AAAAAAAAAAI/AAAAAAAAHvk/4kcnA5cyAC4/s64/photo.jpg",
      "userId": "01561702845917398436"
     },
     "user_tz": -330
    },
    "id": "k7hcPUaWpsHw",
    "outputId": "fd9cbb3d-957c-45d0-a850-6779e1181484"
   },
   "outputs": [],
   "source": []
  },
  {
   "cell_type": "markdown",
   "metadata": {},
   "source": [
    "Y ahora, utiliza este modelo ajustado para predecir valores, y representa este plotting de manera visual."
   ]
  },
  {
   "cell_type": "code",
   "execution_count": null,
   "metadata": {},
   "outputs": [],
   "source": []
  },
  {
   "cell_type": "markdown",
   "metadata": {},
   "source": [
    "Como se puede observar, el SARIMAX ha capturado mucho mejor las desviaciones de temperaturas, y por tanto permite hacer una predicción más fiel a la realidad que presenta el dataset."
   ]
  }
 ],
 "metadata": {
  "colab": {
   "collapsed_sections": [],
   "name": "ARIMA.ipynb",
   "provenance": [
    {
     "file_id": "1MHcrnMg64xOuw7szPW_eAcIMlrMNmAaN",
     "timestamp": 1557993547713
    }
   ],
   "version": "0.3.2"
  },
  "kernelspec": {
   "display_name": "Python 3",
   "language": "python",
   "name": "python3"
  },
  "language_info": {
   "codemirror_mode": {
    "name": "ipython",
    "version": 3
   },
   "file_extension": ".py",
   "mimetype": "text/x-python",
   "name": "python",
   "nbconvert_exporter": "python",
   "pygments_lexer": "ipython3",
   "version": "3.7.9"
  }
 },
 "nbformat": 4,
 "nbformat_minor": 1
}
