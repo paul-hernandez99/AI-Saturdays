{
 "cells": [
  {
   "cell_type": "markdown",
   "metadata": {
    "colab_type": "text",
    "id": "7mB-O_VvhJXQ"
   },
   "source": [
    "# **AISaturdays ECG Challenge**\n",
    "\n",
    "![AISaturdays](https://www.saturdays.ai/assets/images/ai-saturdays-122x122.png)\n",
    "\n",
    "Bienvenidas todas las personas al reto de esta semana. Esta vez detectaremos casos de enfermedad cardiovascular a través del análisis de electrocardiogramas (ECG) de los latidos del corazón.\n",
    "\n",
    "**Instrucciones:**\n",
    "\n",
    "- Se usará el lenguaje de programación Python 3.\n",
    "- Se usarán las librerías de python: Pandas, MatPlotLib, Numpy y keras.\n",
    "\n",
    "**Mediante este ejercicio, aprenderemos:**\n",
    "- Entender y ejecutar los NoteBooks con Python.\n",
    "- Ser capaz de utilizar funciones de Python y librerías adicionales.\n",
    "- Dataset:\n",
    " - Obtener el dataset y previsualizar la información del dataset.\n",
    " - Limpiar y normalizar la información del dataset.\n",
    " - Representar y analizar la información del dataset.\n",
    "- Aplicar un modelo de NN .\n",
    "- Mejorar la predicción optimizando el modelo.\n",
    "\n",
    "Este ejercicio está basado en un [paper](https://arxiv.org/pdf/1805.00794.pdf) que resuelve el problema al que nos enfrentamos. Tomadlo como una fuente de inspiración.\n",
    "\n",
    "¡Empecemos!"
   ]
  },
  {
   "cell_type": "markdown",
   "metadata": {
    "colab_type": "text",
    "id": "ao9twkE1hJXS"
   },
   "source": [
    "### 0. Importación de librerías"
   ]
  },
  {
   "cell_type": "code",
   "execution_count": 8,
   "metadata": {
    "colab": {},
    "colab_type": "code",
    "id": "Pky60QgthJXT"
   },
   "outputs": [],
   "source": [
    "import pandas as pd\n",
    "import matplotlib.pyplot as plt\n",
    "import numpy as np"
   ]
  },
  {
   "cell_type": "markdown",
   "metadata": {
    "colab_type": "text",
    "id": "l1jYJBHThJXU"
   },
   "source": [
    "## Análisis de datos"
   ]
  },
  {
   "cell_type": "markdown",
   "metadata": {
    "colab_type": "text",
    "id": "mujwvIabhJXU"
   },
   "source": [
    "### 1. Importa el dataset.\n",
    "\n"
   ]
  },
  {
   "cell_type": "code",
   "execution_count": 9,
   "metadata": {
    "colab": {},
    "colab_type": "code",
    "id": "5fsEI219hJXV"
   },
   "outputs": [],
   "source": [
    "#Solo una linea de código.\n",
    "df = pd.read_csv('mitbih_train.csv')"
   ]
  },
  {
   "cell_type": "markdown",
   "metadata": {
    "colab_type": "text",
    "id": "PZFp_wYchJXa"
   },
   "source": [
    "### 2. ¿Qué forma tiene el dataset?"
   ]
  },
  {
   "cell_type": "code",
   "execution_count": 10,
   "metadata": {
    "colab": {},
    "colab_type": "code",
    "id": "JoTfVW45hJXb",
    "outputId": "8d25202a-eaef-4684-8a99-f5ee1e984019"
   },
   "outputs": [
    {
     "data": {
      "text/plain": [
       "(87553, 188)"
      ]
     },
     "execution_count": 10,
     "metadata": {},
     "output_type": "execute_result"
    }
   ],
   "source": [
    "#Solo una linea de código.\n",
    "df.shape"
   ]
  },
  {
   "cell_type": "markdown",
   "metadata": {
    "colab_type": "text",
    "id": "pFsJVphghJXf"
   },
   "source": [
    "### 3. Vamos a ver cómo son los datos. Muestra las primero cinco filas del dataset."
   ]
  },
  {
   "cell_type": "code",
   "execution_count": 11,
   "metadata": {
    "colab": {},
    "colab_type": "code",
    "id": "Q39SynfYhJXg",
    "outputId": "1f938576-7582-4be6-b6ae-e2617585fd6e",
    "scrolled": true
   },
   "outputs": [
    {
     "data": {
      "text/html": [
       "<div>\n",
       "<style scoped>\n",
       "    .dataframe tbody tr th:only-of-type {\n",
       "        vertical-align: middle;\n",
       "    }\n",
       "\n",
       "    .dataframe tbody tr th {\n",
       "        vertical-align: top;\n",
       "    }\n",
       "\n",
       "    .dataframe thead th {\n",
       "        text-align: right;\n",
       "    }\n",
       "</style>\n",
       "<table border=\"1\" class=\"dataframe\">\n",
       "  <thead>\n",
       "    <tr style=\"text-align: right;\">\n",
       "      <th></th>\n",
       "      <th>9.779411554336547852e-01</th>\n",
       "      <th>9.264705777168273926e-01</th>\n",
       "      <th>6.813725233078002930e-01</th>\n",
       "      <th>2.450980395078659058e-01</th>\n",
       "      <th>1.544117629528045654e-01</th>\n",
       "      <th>1.911764740943908691e-01</th>\n",
       "      <th>1.519607901573181152e-01</th>\n",
       "      <th>8.578431606292724609e-02</th>\n",
       "      <th>5.882352963089942932e-02</th>\n",
       "      <th>4.901960864663124084e-02</th>\n",
       "      <th>...</th>\n",
       "      <th>0.000000000000000000e+00.79</th>\n",
       "      <th>0.000000000000000000e+00.80</th>\n",
       "      <th>0.000000000000000000e+00.81</th>\n",
       "      <th>0.000000000000000000e+00.82</th>\n",
       "      <th>0.000000000000000000e+00.83</th>\n",
       "      <th>0.000000000000000000e+00.84</th>\n",
       "      <th>0.000000000000000000e+00.85</th>\n",
       "      <th>0.000000000000000000e+00.86</th>\n",
       "      <th>0.000000000000000000e+00.87</th>\n",
       "      <th>0.000000000000000000e+00.88</th>\n",
       "    </tr>\n",
       "  </thead>\n",
       "  <tbody>\n",
       "    <tr>\n",
       "      <th>0</th>\n",
       "      <td>0.960114</td>\n",
       "      <td>0.863248</td>\n",
       "      <td>0.461538</td>\n",
       "      <td>0.196581</td>\n",
       "      <td>0.094017</td>\n",
       "      <td>0.125356</td>\n",
       "      <td>0.099715</td>\n",
       "      <td>0.088319</td>\n",
       "      <td>0.074074</td>\n",
       "      <td>0.082621</td>\n",
       "      <td>...</td>\n",
       "      <td>0.0</td>\n",
       "      <td>0.0</td>\n",
       "      <td>0.0</td>\n",
       "      <td>0.0</td>\n",
       "      <td>0.0</td>\n",
       "      <td>0.0</td>\n",
       "      <td>0.0</td>\n",
       "      <td>0.0</td>\n",
       "      <td>0.0</td>\n",
       "      <td>0.0</td>\n",
       "    </tr>\n",
       "    <tr>\n",
       "      <th>1</th>\n",
       "      <td>1.000000</td>\n",
       "      <td>0.659459</td>\n",
       "      <td>0.186486</td>\n",
       "      <td>0.070270</td>\n",
       "      <td>0.070270</td>\n",
       "      <td>0.059459</td>\n",
       "      <td>0.056757</td>\n",
       "      <td>0.043243</td>\n",
       "      <td>0.054054</td>\n",
       "      <td>0.045946</td>\n",
       "      <td>...</td>\n",
       "      <td>0.0</td>\n",
       "      <td>0.0</td>\n",
       "      <td>0.0</td>\n",
       "      <td>0.0</td>\n",
       "      <td>0.0</td>\n",
       "      <td>0.0</td>\n",
       "      <td>0.0</td>\n",
       "      <td>0.0</td>\n",
       "      <td>0.0</td>\n",
       "      <td>0.0</td>\n",
       "    </tr>\n",
       "    <tr>\n",
       "      <th>2</th>\n",
       "      <td>0.925414</td>\n",
       "      <td>0.665746</td>\n",
       "      <td>0.541436</td>\n",
       "      <td>0.276243</td>\n",
       "      <td>0.196133</td>\n",
       "      <td>0.077348</td>\n",
       "      <td>0.071823</td>\n",
       "      <td>0.060773</td>\n",
       "      <td>0.066298</td>\n",
       "      <td>0.058011</td>\n",
       "      <td>...</td>\n",
       "      <td>0.0</td>\n",
       "      <td>0.0</td>\n",
       "      <td>0.0</td>\n",
       "      <td>0.0</td>\n",
       "      <td>0.0</td>\n",
       "      <td>0.0</td>\n",
       "      <td>0.0</td>\n",
       "      <td>0.0</td>\n",
       "      <td>0.0</td>\n",
       "      <td>0.0</td>\n",
       "    </tr>\n",
       "    <tr>\n",
       "      <th>3</th>\n",
       "      <td>0.967136</td>\n",
       "      <td>1.000000</td>\n",
       "      <td>0.830986</td>\n",
       "      <td>0.586854</td>\n",
       "      <td>0.356808</td>\n",
       "      <td>0.248826</td>\n",
       "      <td>0.145540</td>\n",
       "      <td>0.089202</td>\n",
       "      <td>0.117371</td>\n",
       "      <td>0.150235</td>\n",
       "      <td>...</td>\n",
       "      <td>0.0</td>\n",
       "      <td>0.0</td>\n",
       "      <td>0.0</td>\n",
       "      <td>0.0</td>\n",
       "      <td>0.0</td>\n",
       "      <td>0.0</td>\n",
       "      <td>0.0</td>\n",
       "      <td>0.0</td>\n",
       "      <td>0.0</td>\n",
       "      <td>0.0</td>\n",
       "    </tr>\n",
       "    <tr>\n",
       "      <th>4</th>\n",
       "      <td>0.927461</td>\n",
       "      <td>1.000000</td>\n",
       "      <td>0.626943</td>\n",
       "      <td>0.193437</td>\n",
       "      <td>0.094991</td>\n",
       "      <td>0.072539</td>\n",
       "      <td>0.043178</td>\n",
       "      <td>0.053541</td>\n",
       "      <td>0.093264</td>\n",
       "      <td>0.189983</td>\n",
       "      <td>...</td>\n",
       "      <td>0.0</td>\n",
       "      <td>0.0</td>\n",
       "      <td>0.0</td>\n",
       "      <td>0.0</td>\n",
       "      <td>0.0</td>\n",
       "      <td>0.0</td>\n",
       "      <td>0.0</td>\n",
       "      <td>0.0</td>\n",
       "      <td>0.0</td>\n",
       "      <td>0.0</td>\n",
       "    </tr>\n",
       "  </tbody>\n",
       "</table>\n",
       "<p>5 rows × 188 columns</p>\n",
       "</div>"
      ],
      "text/plain": [
       "   9.779411554336547852e-01  9.264705777168273926e-01  \\\n",
       "0                  0.960114                  0.863248   \n",
       "1                  1.000000                  0.659459   \n",
       "2                  0.925414                  0.665746   \n",
       "3                  0.967136                  1.000000   \n",
       "4                  0.927461                  1.000000   \n",
       "\n",
       "   6.813725233078002930e-01  2.450980395078659058e-01  \\\n",
       "0                  0.461538                  0.196581   \n",
       "1                  0.186486                  0.070270   \n",
       "2                  0.541436                  0.276243   \n",
       "3                  0.830986                  0.586854   \n",
       "4                  0.626943                  0.193437   \n",
       "\n",
       "   1.544117629528045654e-01  1.911764740943908691e-01  \\\n",
       "0                  0.094017                  0.125356   \n",
       "1                  0.070270                  0.059459   \n",
       "2                  0.196133                  0.077348   \n",
       "3                  0.356808                  0.248826   \n",
       "4                  0.094991                  0.072539   \n",
       "\n",
       "   1.519607901573181152e-01  8.578431606292724609e-02  \\\n",
       "0                  0.099715                  0.088319   \n",
       "1                  0.056757                  0.043243   \n",
       "2                  0.071823                  0.060773   \n",
       "3                  0.145540                  0.089202   \n",
       "4                  0.043178                  0.053541   \n",
       "\n",
       "   5.882352963089942932e-02  4.901960864663124084e-02  ...  \\\n",
       "0                  0.074074                  0.082621  ...   \n",
       "1                  0.054054                  0.045946  ...   \n",
       "2                  0.066298                  0.058011  ...   \n",
       "3                  0.117371                  0.150235  ...   \n",
       "4                  0.093264                  0.189983  ...   \n",
       "\n",
       "   0.000000000000000000e+00.79  0.000000000000000000e+00.80  \\\n",
       "0                          0.0                          0.0   \n",
       "1                          0.0                          0.0   \n",
       "2                          0.0                          0.0   \n",
       "3                          0.0                          0.0   \n",
       "4                          0.0                          0.0   \n",
       "\n",
       "   0.000000000000000000e+00.81  0.000000000000000000e+00.82  \\\n",
       "0                          0.0                          0.0   \n",
       "1                          0.0                          0.0   \n",
       "2                          0.0                          0.0   \n",
       "3                          0.0                          0.0   \n",
       "4                          0.0                          0.0   \n",
       "\n",
       "   0.000000000000000000e+00.83  0.000000000000000000e+00.84  \\\n",
       "0                          0.0                          0.0   \n",
       "1                          0.0                          0.0   \n",
       "2                          0.0                          0.0   \n",
       "3                          0.0                          0.0   \n",
       "4                          0.0                          0.0   \n",
       "\n",
       "   0.000000000000000000e+00.85  0.000000000000000000e+00.86  \\\n",
       "0                          0.0                          0.0   \n",
       "1                          0.0                          0.0   \n",
       "2                          0.0                          0.0   \n",
       "3                          0.0                          0.0   \n",
       "4                          0.0                          0.0   \n",
       "\n",
       "   0.000000000000000000e+00.87  0.000000000000000000e+00.88  \n",
       "0                          0.0                          0.0  \n",
       "1                          0.0                          0.0  \n",
       "2                          0.0                          0.0  \n",
       "3                          0.0                          0.0  \n",
       "4                          0.0                          0.0  \n",
       "\n",
       "[5 rows x 188 columns]"
      ]
     },
     "execution_count": 11,
     "metadata": {},
     "output_type": "execute_result"
    }
   ],
   "source": [
    "#Solo una linea de código.\n",
    "df.head()"
   ]
  },
  {
   "cell_type": "markdown",
   "metadata": {
    "colab_type": "text",
    "id": "Q40at1iFhJXj"
   },
   "source": [
    "Este es el dataset de hoy. Esta vez, cada columna representa una lectura del electrocardiograma (recogido a 125Hz). Si en total hay 187 lecturas, en estas columnas tenemos alrededor de segundo y medio de pulsaciones. La última columna contiene la categoría a la que pertenecen estas pulsaciones. En total hay cinco, cada una representada por un número: \n",
    "\n",
    "- Normal: 0\n",
    "- Arritmia prematura (atrial, aberrante-atrial, nodal o supra-ventricular) : 1\n",
    "- Contracción prematura ventricular o escape ventricular: 2\n",
    "- Fusión de la contracción ventricular y normal: 3\n",
    "- Resucitación, fusión de normal y resucitación o inclasificable: 4\n"
   ]
  },
  {
   "cell_type": "markdown",
   "metadata": {
    "colab_type": "text",
    "id": "QUcQbT7shJXk"
   },
   "source": [
    "### 4. Describe la distribución de los datos."
   ]
  },
  {
   "cell_type": "code",
   "execution_count": 12,
   "metadata": {
    "colab": {},
    "colab_type": "code",
    "id": "U28kFZeuhJXl",
    "outputId": "82ac2fc3-8cfc-4dcf-bb07-44dfdb4f1e2d"
   },
   "outputs": [
    {
     "data": {
      "text/html": [
       "<div>\n",
       "<style scoped>\n",
       "    .dataframe tbody tr th:only-of-type {\n",
       "        vertical-align: middle;\n",
       "    }\n",
       "\n",
       "    .dataframe tbody tr th {\n",
       "        vertical-align: top;\n",
       "    }\n",
       "\n",
       "    .dataframe thead th {\n",
       "        text-align: right;\n",
       "    }\n",
       "</style>\n",
       "<table border=\"1\" class=\"dataframe\">\n",
       "  <thead>\n",
       "    <tr style=\"text-align: right;\">\n",
       "      <th></th>\n",
       "      <th>9.779411554336547852e-01</th>\n",
       "      <th>9.264705777168273926e-01</th>\n",
       "      <th>6.813725233078002930e-01</th>\n",
       "      <th>2.450980395078659058e-01</th>\n",
       "      <th>1.544117629528045654e-01</th>\n",
       "      <th>1.911764740943908691e-01</th>\n",
       "      <th>1.519607901573181152e-01</th>\n",
       "      <th>8.578431606292724609e-02</th>\n",
       "      <th>5.882352963089942932e-02</th>\n",
       "      <th>4.901960864663124084e-02</th>\n",
       "      <th>...</th>\n",
       "      <th>0.000000000000000000e+00.79</th>\n",
       "      <th>0.000000000000000000e+00.80</th>\n",
       "      <th>0.000000000000000000e+00.81</th>\n",
       "      <th>0.000000000000000000e+00.82</th>\n",
       "      <th>0.000000000000000000e+00.83</th>\n",
       "      <th>0.000000000000000000e+00.84</th>\n",
       "      <th>0.000000000000000000e+00.85</th>\n",
       "      <th>0.000000000000000000e+00.86</th>\n",
       "      <th>0.000000000000000000e+00.87</th>\n",
       "      <th>0.000000000000000000e+00.88</th>\n",
       "    </tr>\n",
       "  </thead>\n",
       "  <tbody>\n",
       "    <tr>\n",
       "      <th>count</th>\n",
       "      <td>87553.000000</td>\n",
       "      <td>87553.000000</td>\n",
       "      <td>87553.000000</td>\n",
       "      <td>87553.000000</td>\n",
       "      <td>87553.000000</td>\n",
       "      <td>87553.000000</td>\n",
       "      <td>87553.000000</td>\n",
       "      <td>87553.000000</td>\n",
       "      <td>87553.000000</td>\n",
       "      <td>87553.000000</td>\n",
       "      <td>...</td>\n",
       "      <td>87553.000000</td>\n",
       "      <td>87553.000000</td>\n",
       "      <td>87553.000000</td>\n",
       "      <td>87553.000000</td>\n",
       "      <td>87553.000000</td>\n",
       "      <td>87553.000000</td>\n",
       "      <td>87553.000000</td>\n",
       "      <td>87553.000000</td>\n",
       "      <td>87553.000000</td>\n",
       "      <td>87553.000000</td>\n",
       "    </tr>\n",
       "    <tr>\n",
       "      <th>mean</th>\n",
       "      <td>0.890359</td>\n",
       "      <td>0.758158</td>\n",
       "      <td>0.423969</td>\n",
       "      <td>0.219104</td>\n",
       "      <td>0.201127</td>\n",
       "      <td>0.210399</td>\n",
       "      <td>0.205809</td>\n",
       "      <td>0.201774</td>\n",
       "      <td>0.198693</td>\n",
       "      <td>0.196758</td>\n",
       "      <td>...</td>\n",
       "      <td>0.005025</td>\n",
       "      <td>0.004628</td>\n",
       "      <td>0.004291</td>\n",
       "      <td>0.003945</td>\n",
       "      <td>0.003681</td>\n",
       "      <td>0.003471</td>\n",
       "      <td>0.003221</td>\n",
       "      <td>0.002945</td>\n",
       "      <td>0.002807</td>\n",
       "      <td>0.473382</td>\n",
       "    </tr>\n",
       "    <tr>\n",
       "      <th>std</th>\n",
       "      <td>0.240910</td>\n",
       "      <td>0.221814</td>\n",
       "      <td>0.227305</td>\n",
       "      <td>0.206880</td>\n",
       "      <td>0.177058</td>\n",
       "      <td>0.171910</td>\n",
       "      <td>0.178482</td>\n",
       "      <td>0.177241</td>\n",
       "      <td>0.171778</td>\n",
       "      <td>0.168358</td>\n",
       "      <td>...</td>\n",
       "      <td>0.044155</td>\n",
       "      <td>0.042089</td>\n",
       "      <td>0.040525</td>\n",
       "      <td>0.038651</td>\n",
       "      <td>0.037193</td>\n",
       "      <td>0.036255</td>\n",
       "      <td>0.034790</td>\n",
       "      <td>0.032865</td>\n",
       "      <td>0.031924</td>\n",
       "      <td>1.143190</td>\n",
       "    </tr>\n",
       "    <tr>\n",
       "      <th>min</th>\n",
       "      <td>0.000000</td>\n",
       "      <td>0.000000</td>\n",
       "      <td>0.000000</td>\n",
       "      <td>0.000000</td>\n",
       "      <td>0.000000</td>\n",
       "      <td>0.000000</td>\n",
       "      <td>0.000000</td>\n",
       "      <td>0.000000</td>\n",
       "      <td>0.000000</td>\n",
       "      <td>0.000000</td>\n",
       "      <td>...</td>\n",
       "      <td>0.000000</td>\n",
       "      <td>0.000000</td>\n",
       "      <td>0.000000</td>\n",
       "      <td>0.000000</td>\n",
       "      <td>0.000000</td>\n",
       "      <td>0.000000</td>\n",
       "      <td>0.000000</td>\n",
       "      <td>0.000000</td>\n",
       "      <td>0.000000</td>\n",
       "      <td>0.000000</td>\n",
       "    </tr>\n",
       "    <tr>\n",
       "      <th>25%</th>\n",
       "      <td>0.921922</td>\n",
       "      <td>0.682482</td>\n",
       "      <td>0.250965</td>\n",
       "      <td>0.048458</td>\n",
       "      <td>0.082329</td>\n",
       "      <td>0.088415</td>\n",
       "      <td>0.073333</td>\n",
       "      <td>0.066116</td>\n",
       "      <td>0.065000</td>\n",
       "      <td>0.068643</td>\n",
       "      <td>...</td>\n",
       "      <td>0.000000</td>\n",
       "      <td>0.000000</td>\n",
       "      <td>0.000000</td>\n",
       "      <td>0.000000</td>\n",
       "      <td>0.000000</td>\n",
       "      <td>0.000000</td>\n",
       "      <td>0.000000</td>\n",
       "      <td>0.000000</td>\n",
       "      <td>0.000000</td>\n",
       "      <td>0.000000</td>\n",
       "    </tr>\n",
       "    <tr>\n",
       "      <th>50%</th>\n",
       "      <td>0.991342</td>\n",
       "      <td>0.826007</td>\n",
       "      <td>0.429467</td>\n",
       "      <td>0.165992</td>\n",
       "      <td>0.147870</td>\n",
       "      <td>0.158798</td>\n",
       "      <td>0.145320</td>\n",
       "      <td>0.144424</td>\n",
       "      <td>0.150000</td>\n",
       "      <td>0.148734</td>\n",
       "      <td>...</td>\n",
       "      <td>0.000000</td>\n",
       "      <td>0.000000</td>\n",
       "      <td>0.000000</td>\n",
       "      <td>0.000000</td>\n",
       "      <td>0.000000</td>\n",
       "      <td>0.000000</td>\n",
       "      <td>0.000000</td>\n",
       "      <td>0.000000</td>\n",
       "      <td>0.000000</td>\n",
       "      <td>0.000000</td>\n",
       "    </tr>\n",
       "    <tr>\n",
       "      <th>75%</th>\n",
       "      <td>1.000000</td>\n",
       "      <td>0.910506</td>\n",
       "      <td>0.578767</td>\n",
       "      <td>0.341727</td>\n",
       "      <td>0.258993</td>\n",
       "      <td>0.287634</td>\n",
       "      <td>0.298246</td>\n",
       "      <td>0.295393</td>\n",
       "      <td>0.290837</td>\n",
       "      <td>0.283636</td>\n",
       "      <td>...</td>\n",
       "      <td>0.000000</td>\n",
       "      <td>0.000000</td>\n",
       "      <td>0.000000</td>\n",
       "      <td>0.000000</td>\n",
       "      <td>0.000000</td>\n",
       "      <td>0.000000</td>\n",
       "      <td>0.000000</td>\n",
       "      <td>0.000000</td>\n",
       "      <td>0.000000</td>\n",
       "      <td>0.000000</td>\n",
       "    </tr>\n",
       "    <tr>\n",
       "      <th>max</th>\n",
       "      <td>1.000000</td>\n",
       "      <td>1.000000</td>\n",
       "      <td>1.000000</td>\n",
       "      <td>1.000000</td>\n",
       "      <td>1.000000</td>\n",
       "      <td>1.000000</td>\n",
       "      <td>1.000000</td>\n",
       "      <td>1.000000</td>\n",
       "      <td>1.000000</td>\n",
       "      <td>1.000000</td>\n",
       "      <td>...</td>\n",
       "      <td>1.000000</td>\n",
       "      <td>1.000000</td>\n",
       "      <td>1.000000</td>\n",
       "      <td>1.000000</td>\n",
       "      <td>1.000000</td>\n",
       "      <td>1.000000</td>\n",
       "      <td>1.000000</td>\n",
       "      <td>1.000000</td>\n",
       "      <td>1.000000</td>\n",
       "      <td>4.000000</td>\n",
       "    </tr>\n",
       "  </tbody>\n",
       "</table>\n",
       "<p>8 rows × 188 columns</p>\n",
       "</div>"
      ],
      "text/plain": [
       "       9.779411554336547852e-01  9.264705777168273926e-01  \\\n",
       "count              87553.000000              87553.000000   \n",
       "mean                   0.890359                  0.758158   \n",
       "std                    0.240910                  0.221814   \n",
       "min                    0.000000                  0.000000   \n",
       "25%                    0.921922                  0.682482   \n",
       "50%                    0.991342                  0.826007   \n",
       "75%                    1.000000                  0.910506   \n",
       "max                    1.000000                  1.000000   \n",
       "\n",
       "       6.813725233078002930e-01  2.450980395078659058e-01  \\\n",
       "count              87553.000000              87553.000000   \n",
       "mean                   0.423969                  0.219104   \n",
       "std                    0.227305                  0.206880   \n",
       "min                    0.000000                  0.000000   \n",
       "25%                    0.250965                  0.048458   \n",
       "50%                    0.429467                  0.165992   \n",
       "75%                    0.578767                  0.341727   \n",
       "max                    1.000000                  1.000000   \n",
       "\n",
       "       1.544117629528045654e-01  1.911764740943908691e-01  \\\n",
       "count              87553.000000              87553.000000   \n",
       "mean                   0.201127                  0.210399   \n",
       "std                    0.177058                  0.171910   \n",
       "min                    0.000000                  0.000000   \n",
       "25%                    0.082329                  0.088415   \n",
       "50%                    0.147870                  0.158798   \n",
       "75%                    0.258993                  0.287634   \n",
       "max                    1.000000                  1.000000   \n",
       "\n",
       "       1.519607901573181152e-01  8.578431606292724609e-02  \\\n",
       "count              87553.000000              87553.000000   \n",
       "mean                   0.205809                  0.201774   \n",
       "std                    0.178482                  0.177241   \n",
       "min                    0.000000                  0.000000   \n",
       "25%                    0.073333                  0.066116   \n",
       "50%                    0.145320                  0.144424   \n",
       "75%                    0.298246                  0.295393   \n",
       "max                    1.000000                  1.000000   \n",
       "\n",
       "       5.882352963089942932e-02  4.901960864663124084e-02  ...  \\\n",
       "count              87553.000000              87553.000000  ...   \n",
       "mean                   0.198693                  0.196758  ...   \n",
       "std                    0.171778                  0.168358  ...   \n",
       "min                    0.000000                  0.000000  ...   \n",
       "25%                    0.065000                  0.068643  ...   \n",
       "50%                    0.150000                  0.148734  ...   \n",
       "75%                    0.290837                  0.283636  ...   \n",
       "max                    1.000000                  1.000000  ...   \n",
       "\n",
       "       0.000000000000000000e+00.79  0.000000000000000000e+00.80  \\\n",
       "count                 87553.000000                 87553.000000   \n",
       "mean                      0.005025                     0.004628   \n",
       "std                       0.044155                     0.042089   \n",
       "min                       0.000000                     0.000000   \n",
       "25%                       0.000000                     0.000000   \n",
       "50%                       0.000000                     0.000000   \n",
       "75%                       0.000000                     0.000000   \n",
       "max                       1.000000                     1.000000   \n",
       "\n",
       "       0.000000000000000000e+00.81  0.000000000000000000e+00.82  \\\n",
       "count                 87553.000000                 87553.000000   \n",
       "mean                      0.004291                     0.003945   \n",
       "std                       0.040525                     0.038651   \n",
       "min                       0.000000                     0.000000   \n",
       "25%                       0.000000                     0.000000   \n",
       "50%                       0.000000                     0.000000   \n",
       "75%                       0.000000                     0.000000   \n",
       "max                       1.000000                     1.000000   \n",
       "\n",
       "       0.000000000000000000e+00.83  0.000000000000000000e+00.84  \\\n",
       "count                 87553.000000                 87553.000000   \n",
       "mean                      0.003681                     0.003471   \n",
       "std                       0.037193                     0.036255   \n",
       "min                       0.000000                     0.000000   \n",
       "25%                       0.000000                     0.000000   \n",
       "50%                       0.000000                     0.000000   \n",
       "75%                       0.000000                     0.000000   \n",
       "max                       1.000000                     1.000000   \n",
       "\n",
       "       0.000000000000000000e+00.85  0.000000000000000000e+00.86  \\\n",
       "count                 87553.000000                 87553.000000   \n",
       "mean                      0.003221                     0.002945   \n",
       "std                       0.034790                     0.032865   \n",
       "min                       0.000000                     0.000000   \n",
       "25%                       0.000000                     0.000000   \n",
       "50%                       0.000000                     0.000000   \n",
       "75%                       0.000000                     0.000000   \n",
       "max                       1.000000                     1.000000   \n",
       "\n",
       "       0.000000000000000000e+00.87  0.000000000000000000e+00.88  \n",
       "count                 87553.000000                 87553.000000  \n",
       "mean                      0.002807                     0.473382  \n",
       "std                       0.031924                     1.143190  \n",
       "min                       0.000000                     0.000000  \n",
       "25%                       0.000000                     0.000000  \n",
       "50%                       0.000000                     0.000000  \n",
       "75%                       0.000000                     0.000000  \n",
       "max                       1.000000                     4.000000  \n",
       "\n",
       "[8 rows x 188 columns]"
      ]
     },
     "execution_count": 12,
     "metadata": {},
     "output_type": "execute_result"
    }
   ],
   "source": [
    "#Solo una linea de código.\n",
    "df.describe()"
   ]
  },
  {
   "cell_type": "code",
   "execution_count": 13,
   "metadata": {},
   "outputs": [
    {
     "name": "stdout",
     "output_type": "stream",
     "text": [
      "<class 'pandas.core.frame.DataFrame'>\n",
      "RangeIndex: 87553 entries, 0 to 87552\n",
      "Columns: 188 entries, 9.779411554336547852e-01 to 0.000000000000000000e+00.88\n",
      "dtypes: float64(188)\n",
      "memory usage: 125.6 MB\n"
     ]
    }
   ],
   "source": [
    "df.info()"
   ]
  },
  {
   "cell_type": "code",
   "execution_count": 14,
   "metadata": {},
   "outputs": [
    {
     "data": {
      "text/plain": [
       "9.779411554336547852e-01       0\n",
       "9.264705777168273926e-01       0\n",
       "6.813725233078002930e-01       0\n",
       "2.450980395078659058e-01       0\n",
       "1.544117629528045654e-01       0\n",
       "                              ..\n",
       "0.000000000000000000e+00.84    0\n",
       "0.000000000000000000e+00.85    0\n",
       "0.000000000000000000e+00.86    0\n",
       "0.000000000000000000e+00.87    0\n",
       "0.000000000000000000e+00.88    0\n",
       "Length: 188, dtype: int64"
      ]
     },
     "execution_count": 14,
     "metadata": {},
     "output_type": "execute_result"
    }
   ],
   "source": [
    "df.isnull().sum()"
   ]
  },
  {
   "cell_type": "markdown",
   "metadata": {
    "colab_type": "text",
    "id": "L2kz9b1jhJXo"
   },
   "source": [
    "### 5. Vamos a ver cómo es uno de estos electrocardiogramas. Haz una gráfica con los datos de una de las filas."
   ]
  },
  {
   "cell_type": "code",
   "execution_count": 15,
   "metadata": {
    "colab": {},
    "colab_type": "code",
    "id": "50XGDJS5hJXp",
    "outputId": "722340f3-5829-4b6c-ec44-b3fd9a3e4b13",
    "scrolled": true
   },
   "outputs": [
    {
     "data": {
      "image/png": "[encoded data removed]",
      "text/plain": [
       "<Figure size 576x360 with 1 Axes>"
      ]
     },
     "metadata": {
      "needs_background": "light"
     },
     "output_type": "display_data"
    }
   ],
   "source": [
    "#Solo una linea de código.\n",
    "x = np.arange(0,1501,8.05)\n",
    "plt.figure(figsize=(8, 5))\n",
    "plt.title('Example of an ECG')\n",
    "plt.plot(x,df.iloc[0,:187], c='green');"
   ]
  },
  {
   "cell_type": "markdown",
   "metadata": {
    "colab_type": "text",
    "id": "hGRsUDc_hJXt"
   },
   "source": [
    "### 6. Ahora que hemos visualizado nuestros datos, vamos a trabajar con ellos. Primero tenemos que dividirlos entre input y output. \n",
    "\n",
    "Divide el dataset en dos: una parte que contenga todas las columnas con datos del electrocardiograma y otro con las etiquetas. Transformar el dataset en un array de Numpy lo hace mas fácil porque puedes usar slicing. "
   ]
  },
  {
   "cell_type": "code",
   "execution_count": 16,
   "metadata": {
    "colab": {},
    "colab_type": "code",
    "id": "VfVdyFcfhJXu"
   },
   "outputs": [],
   "source": [
    "#Tres lineas de código, usando .values y slicing.\n",
    "dataset = np.array(df)\n",
    "X = dataset[:,:187]\n",
    "y = np.array([[int(i)] for i in dataset[:,187]])"
   ]
  },
  {
   "cell_type": "markdown",
   "metadata": {
    "colab_type": "text",
    "id": "4YloJfZUhJXw"
   },
   "source": [
    "### 7. Crea arrays con los índices de los ejemplos que pertenecen a cada categoría. La función [np.argwhere](https://docs.scipy.org/doc/numpy/reference/generated/numpy.argwhere.html) viene muy bien aquí. "
   ]
  },
  {
   "cell_type": "code",
   "execution_count": 17,
   "metadata": {
    "colab": {},
    "colab_type": "code",
    "id": "Be68Gpi2hJXx"
   },
   "outputs": [],
   "source": [
    "#5 lineas de código\n",
    "label_zero = np.squeeze(np.argwhere(np.squeeze(y)==0))\n",
    "label_one = np.squeeze(np.argwhere(np.squeeze(y)==1))\n",
    "label_two = np.squeeze(np.argwhere(np.squeeze(y)==2))\n",
    "label_three = np.squeeze(np.argwhere(np.squeeze(y)==3))\n",
    "label_four = np.squeeze(np.argwhere(np.squeeze(y)==4))"
   ]
  },
  {
   "cell_type": "markdown",
   "metadata": {
    "colab_type": "text",
    "id": "D8DFkW8bhJX0"
   },
   "source": [
    "### 8. Cuenta cuántos ejemplos tenemos de cada categoría."
   ]
  },
  {
   "cell_type": "code",
   "execution_count": 18,
   "metadata": {
    "colab": {},
    "colab_type": "code",
    "id": "3lvyQIIBhJX0",
    "outputId": "10274d37-df9b-4ca0-bf58-429ccff39318",
    "scrolled": true
   },
   "outputs": [
    {
     "data": {
      "text/html": [
       "<div>\n",
       "<style scoped>\n",
       "    .dataframe tbody tr th:only-of-type {\n",
       "        vertical-align: middle;\n",
       "    }\n",
       "\n",
       "    .dataframe tbody tr th {\n",
       "        vertical-align: top;\n",
       "    }\n",
       "\n",
       "    .dataframe thead th {\n",
       "        text-align: right;\n",
       "    }\n",
       "</style>\n",
       "<table border=\"1\" class=\"dataframe\">\n",
       "  <thead>\n",
       "    <tr style=\"text-align: right;\">\n",
       "      <th></th>\n",
       "      <th>example_numbers</th>\n",
       "    </tr>\n",
       "  </thead>\n",
       "  <tbody>\n",
       "    <tr>\n",
       "      <th>0</th>\n",
       "      <td>72470</td>\n",
       "    </tr>\n",
       "    <tr>\n",
       "      <th>4</th>\n",
       "      <td>6431</td>\n",
       "    </tr>\n",
       "    <tr>\n",
       "      <th>2</th>\n",
       "      <td>5788</td>\n",
       "    </tr>\n",
       "    <tr>\n",
       "      <th>1</th>\n",
       "      <td>2223</td>\n",
       "    </tr>\n",
       "    <tr>\n",
       "      <th>3</th>\n",
       "      <td>641</td>\n",
       "    </tr>\n",
       "  </tbody>\n",
       "</table>\n",
       "</div>"
      ],
      "text/plain": [
       "   example_numbers\n",
       "0            72470\n",
       "4             6431\n",
       "2             5788\n",
       "1             2223\n",
       "3              641"
      ]
     },
     "execution_count": 18,
     "metadata": {},
     "output_type": "execute_result"
    }
   ],
   "source": [
    "#5 lineas de código\n",
    "label_count = pd.DataFrame(data=df.iloc[:,187].value_counts().values, index=[0,4,2,1,3], columns = ['example_numbers'])\n",
    "label_count.head()"
   ]
  },
  {
   "cell_type": "markdown",
   "metadata": {
    "colab_type": "text",
    "id": "UBlbXOgBhJX3"
   },
   "source": [
    "### 9. Para ver mejor cuántos tenemos de cada tipo vamos a hacer un gráfico de barras. Utiliza [plt.bar](https://matplotlib.org/3.1.1/api/_as_gen/matplotlib.pyplot.bar.html) con una label apropiada para cada barra."
   ]
  },
  {
   "cell_type": "code",
   "execution_count": 19,
   "metadata": {
    "colab": {},
    "colab_type": "code",
    "id": "q-AMnfX0hJX3",
    "outputId": "0873d997-7f4d-407a-d3b0-9d6302b984d1"
   },
   "outputs": [
    {
     "data": {
      "text/plain": [
       "<BarContainer object of 5 artists>"
      ]
     },
     "execution_count": 19,
     "metadata": {},
     "output_type": "execute_result"
    },
    {
     "data": {
      "image/png": "[encoded data removed]",
      "text/plain": [
       "<Figure size 432x288 with 1 Axes>"
      ]
     },
     "metadata": {
      "needs_background": "light"
     },
     "output_type": "display_data"
    }
   ],
   "source": [
    "#Dos lineas de código\n",
    "plt.title('Number of examples group by Categories')\n",
    "plt.bar(x=label_count.index, height=label_count.example_numbers, color='orange')"
   ]
  },
  {
   "cell_type": "markdown",
   "metadata": {
    "colab_type": "text",
    "id": "zTemtlxIhJX9"
   },
   "source": [
    "### 10. Finalmente, vamos a comparar electrocardiogramas de un tipo con los otros con otra gráfica. Dibuja un electrocardiograma de cada tipo, uno encima del otro. Puntos extra por ponerle un título y leyenda."
   ]
  },
  {
   "cell_type": "code",
   "execution_count": 20,
   "metadata": {
    "colab": {},
    "colab_type": "code",
    "id": "c5KjUhmHhJX9"
   },
   "outputs": [
    {
     "data": {
      "image/png": "[encoded data removed]",
      "text/plain": [
       "<Figure size 1080x576 with 1 Axes>"
      ]
     },
     "metadata": {
      "needs_background": "light"
     },
     "output_type": "display_data"
    }
   ],
   "source": [
    "#6 lineas de código\n",
    "\n",
    "plt.figure(figsize=(15, 8))\n",
    "plt.title('Examples of ECG')\n",
    "plt.plot(x,X[label_zero[100]], c='black', label='Normal')\n",
    "plt.plot(x,X[label_one[100]], c='yellow', label='Arritmia prematura')\n",
    "plt.plot(x,X[label_two[100]], c='green', label='Contracción prematura ventricular o escape ventricular')\n",
    "plt.plot(x,X[label_three[100]], c='red', label='Fusión de la contracción ventricular y normal')\n",
    "plt.plot(x,X[label_four[100]], c='blue', label='Resucitación, fusión de normal y resucitación o inclasificable')\n",
    "plt.legend(title='Heart-beats:', loc='best');"
   ]
  },
  {
   "cell_type": "markdown",
   "metadata": {
    "colab_type": "text",
    "id": "Id6hugrmhJYA"
   },
   "source": [
    "## Preparación de datos"
   ]
  },
  {
   "cell_type": "markdown",
   "metadata": {
    "colab_type": "text",
    "id": "fAgikAoWhJYB"
   },
   "source": [
    "### 11. La mejor forma de tratar con categorias es utilizar un OneHotEncoding. Transforma Y a su OneHotEncoding."
   ]
  },
  {
   "cell_type": "code",
   "execution_count": 21,
   "metadata": {
    "colab": {},
    "colab_type": "code",
    "id": "qIDdzcpihJYB"
   },
   "outputs": [],
   "source": [
    "#Dos lineas de código\n",
    "y_oneHot = np.zeros((y.shape[0], y.max()+1), dtype=int)\n",
    "y_oneHot[np.arange(y.shape[0]), np.squeeze(y)] = 1"
   ]
  },
  {
   "cell_type": "markdown",
   "metadata": {
    "colab_type": "text",
    "id": "9sSftNhMhJYD"
   },
   "source": [
    "### 12. Comprueba que el OneHotEncoding ha funcionado, es decir, que por cada columna en la Y original se han creado 5, y que los valores del original y el OneHotEncoding se corresponden entre sí."
   ]
  },
  {
   "cell_type": "code",
   "execution_count": 22,
   "metadata": {
    "colab": {},
    "colab_type": "code",
    "id": "8xvZ_kwbhJYE",
    "outputId": "87de7a25-d38d-460b-a4be-23de53bcd09b"
   },
   "outputs": [
    {
     "name": "stdout",
     "output_type": "stream",
     "text": [
      "Shape:\n",
      "\ty       : (87553, 1)\n",
      "\ty_oneHot: (87553, 5)\n",
      "\n",
      "Some examples of y:\n",
      "[[0]\n",
      " [0]\n",
      " [0]\n",
      " ...\n",
      " [4]\n",
      " [4]\n",
      " [4]]\n",
      "\n",
      "Some examples of y_oneHot:\n",
      "[[1 0 0 0 0]\n",
      " [1 0 0 0 0]\n",
      " [1 0 0 0 0]\n",
      " ...\n",
      " [0 0 0 0 1]\n",
      " [0 0 0 0 1]\n",
      " [0 0 0 0 1]]\n"
     ]
    }
   ],
   "source": [
    "#4 lineas de código\n",
    "print('Shape:\\n\\ty       : {0}\\n\\ty_oneHot: {1}\\n'.format(y.shape,y_oneHot.shape))\n",
    "print('Some examples of y:\\n{0}\\n'.format(y))\n",
    "print('Some examples of y_oneHot:\\n{0}'.format(y_oneHot))"
   ]
  },
  {
   "cell_type": "markdown",
   "metadata": {
    "colab_type": "text",
    "id": "OH84gOWGhJYH"
   },
   "source": [
    "### 13. Mezcla X e Y de forma aleatoria (para que las etiquetas todavía se refieran a los ejemplos originales, usa [shuffle](https://scikit-learn.org/stable/modules/generated/sklearn.utils.shuffle.html))."
   ]
  },
  {
   "cell_type": "code",
   "execution_count": 23,
   "metadata": {
    "colab": {},
    "colab_type": "code",
    "id": "1AWwJCX7hJYH"
   },
   "outputs": [],
   "source": [
    "#Dos lineas de código\n",
    "from sklearn.utils import shuffle\n",
    "X,y_oneHot = shuffle(X,y_oneHot)"
   ]
  },
  {
   "cell_type": "markdown",
   "metadata": {
    "colab_type": "text",
    "id": "T721f2zthJYQ"
   },
   "source": [
    "### 14. Para poder introducir los datos en el modelo, necesitamos que cada punto de información esté solo dentro del array (no podemos dar un array como valor). Antes teníamos los datos estructurados así:\n",
    "\n",
    "$ X = [[a_1,a_2,a_3...,a_n],[b_1,b_2,b_3...,b_n]...[z_1,z_2,z_3,z_n] $\n",
    "\n",
    "Para poder usarlos necesitamos aislar cada uno de esos valores, sin eliminar su agrupación por ejemplos. Es decir:\n",
    "\n",
    "$ X = [[[a_1],[a_2],[a_3]...,[a_n]],[[b_1],[b_2],[b_3]...,[b_n]]...[[z_1],[z_2],[z_3],[z_n]] $\n",
    "\n",
    "Esto se consigue utilizando la función [expand_dims](https://docs.scipy.org/doc/numpy/reference/generated/numpy.expand_dims.html) de numpy."
   ]
  },
  {
   "cell_type": "code",
   "execution_count": 24,
   "metadata": {
    "colab": {},
    "colab_type": "code",
    "id": "ITtKUKQhhJYR"
   },
   "outputs": [],
   "source": [
    "#Solo una linea de código\n",
    "X = X[:,:, np.newaxis]"
   ]
  },
  {
   "cell_type": "markdown",
   "metadata": {
    "colab_type": "text",
    "id": "-giOiqiYhJYT"
   },
   "source": [
    "### 15. ¡Ya casi estamos! Solo nos queda hacer un train_test_split y estaría todo listo para implementar el modelo."
   ]
  },
  {
   "cell_type": "code",
   "execution_count": 25,
   "metadata": {
    "colab": {},
    "colab_type": "code",
    "id": "js6uqn4BhJYU"
   },
   "outputs": [],
   "source": [
    "#Dos lineas de código\n",
    "from sklearn.model_selection import train_test_split\n",
    "X_train, X_test, y_train, y_test = train_test_split(X,y_oneHot,test_size=0.3,random_state=42)"
   ]
  },
  {
   "cell_type": "markdown",
   "metadata": {
    "colab_type": "text",
    "id": "S2OXup6RhJYW"
   },
   "source": [
    "## Modelos prometedores"
   ]
  },
  {
   "cell_type": "markdown",
   "metadata": {
    "colab_type": "text",
    "id": "ye1mPrYohJYW"
   },
   "source": [
    "En esta parte del challenge os planteamos un modelo ya creado para que podais ver como funciona y trastear con los diferentes parámetros. "
   ]
  },
  {
   "cell_type": "markdown",
   "metadata": {
    "colab_type": "text",
    "id": "GHGzAc55hJYX"
   },
   "source": [
    "Primero importamos unas pocas librerias para plantear el modelo:"
   ]
  },
  {
   "cell_type": "code",
   "execution_count": 2,
   "metadata": {
    "colab": {},
    "colab_type": "code",
    "id": "h7zqDfcAhJYX"
   },
   "outputs": [
    {
     "name": "stderr",
     "output_type": "stream",
     "text": [
      "Using TensorFlow backend.\n"
     ]
    }
   ],
   "source": [
    "from sklearn import model_selection\n",
    "from sklearn.metrics import confusion_matrix\n",
    "\n",
    "import keras\n",
    "from keras.layers import Dense, Dropout, Activation, Flatten, Conv1D, Conv2D, MaxPooling1D, MaxPooling2D, Lambda, MaxPool2D, BatchNormalization\n",
    "from keras.utils import np_utils\n",
    "\n",
    "from keras import models, layers, optimizers\n",
    "from sklearn.model_selection import train_test_split\n",
    "from sklearn.metrics import confusion_matrix, accuracy_score\n",
    "from sklearn.utils import class_weight\n",
    "\n",
    "from keras.optimizers import SGD, RMSprop, Adam, Adagrad, Adadelta, RMSprop\n",
    "from keras.models import Sequential, model_from_json\n",
    "from keras.preprocessing.image import ImageDataGenerator\n",
    "from keras.callbacks import ReduceLROnPlateau, ModelCheckpoint\n",
    "from keras import backend as K\n",
    "from keras.applications.vgg16 import VGG16\n",
    "from keras.models import Model\n",
    "\n",
    "from sklearn.metrics import accuracy_score, classification_report, confusion_matrix, label_ranking_average_precision_score, label_ranking_loss, coverage_error \n",
    "import itertools"
   ]
  },
  {
   "cell_type": "markdown",
   "metadata": {
    "colab_type": "text",
    "id": "nC6AHHMvhJYZ"
   },
   "source": [
    "### 16. ¿Cuál es la longitud de la entrada? (Esta será la cantidad de neuronas que tendremos en la primera capa).¿Cuántas neuronas tendremos en nuestra última capa? También necesitamos un batch_size si queremos entrenar la red neuronal con SGD."
   ]
  },
  {
   "cell_type": "code",
   "execution_count": 23,
   "metadata": {
    "colab": {},
    "colab_type": "code",
    "id": "_2t48inzhJYa"
   },
   "outputs": [],
   "source": [
    "signal_length = 187\n",
    "n_classes = 5\n",
    "batch_size = 20"
   ]
  },
  {
   "cell_type": "markdown",
   "metadata": {
    "colab_type": "text",
    "id": "9W8F-CVJhJYd"
   },
   "source": [
    "Este es el modelo de la red neuronal. Tiene cuatro capas, dos de ellas ocultas, y utiliza como función de activación ReLU, sigmoid y softmax. "
   ]
  },
  {
   "cell_type": "code",
   "execution_count": 24,
   "metadata": {
    "colab": {},
    "colab_type": "code",
    "id": "VBc_yhfThJYe",
    "outputId": "b60eb195-6c94-4a41-d75a-a00e94971fe7"
   },
   "outputs": [
    {
     "name": "stdout",
     "output_type": "stream",
     "text": [
      "Model: \"sequential_2\"\n",
      "_________________________________________________________________\n",
      "Layer (type)                 Output Shape              Param #   \n",
      "=================================================================\n",
      "conv1d_1 (Conv1D)            (None, 183, 32)           192       \n",
      "_________________________________________________________________\n",
      "dropout_1 (Dropout)          (None, 183, 32)           0         \n",
      "_________________________________________________________________\n",
      "batch_normalization_1 (Batch (None, 183, 32)           128       \n",
      "_________________________________________________________________\n",
      "activation_1 (Activation)    (None, 183, 32)           0         \n",
      "_________________________________________________________________\n",
      "conv1d_2 (Conv1D)            (None, 180, 32)           4128      \n",
      "_________________________________________________________________\n",
      "dropout_2 (Dropout)          (None, 180, 32)           0         \n",
      "_________________________________________________________________\n",
      "batch_normalization_2 (Batch (None, 180, 32)           128       \n",
      "_________________________________________________________________\n",
      "activation_2 (Activation)    (None, 180, 32)           0         \n",
      "_________________________________________________________________\n",
      "max_pooling1d_1 (MaxPooling1 (None, 90, 32)            0         \n",
      "_________________________________________________________________\n",
      "conv1d_3 (Conv1D)            (None, 87, 32)            4128      \n",
      "_________________________________________________________________\n",
      "dropout_3 (Dropout)          (None, 87, 32)            0         \n",
      "_________________________________________________________________\n",
      "batch_normalization_3 (Batch (None, 87, 32)            128       \n",
      "_________________________________________________________________\n",
      "activation_3 (Activation)    (None, 87, 32)            0         \n",
      "_________________________________________________________________\n",
      "max_pooling1d_2 (MaxPooling1 (None, 43, 32)            0         \n",
      "_________________________________________________________________\n",
      "conv1d_4 (Conv1D)            (None, 40, 32)            4128      \n",
      "_________________________________________________________________\n",
      "dropout_4 (Dropout)          (None, 40, 32)            0         \n",
      "_________________________________________________________________\n",
      "batch_normalization_4 (Batch (None, 40, 32)            128       \n",
      "_________________________________________________________________\n",
      "activation_4 (Activation)    (None, 40, 32)            0         \n",
      "_________________________________________________________________\n",
      "max_pooling1d_3 (MaxPooling1 (None, 20, 32)            0         \n",
      "_________________________________________________________________\n",
      "flatten_1 (Flatten)          (None, 640)               0         \n",
      "_________________________________________________________________\n",
      "dense_1 (Dense)              (None, 128)               82048     \n",
      "_________________________________________________________________\n",
      "dropout_5 (Dropout)          (None, 128)               0         \n",
      "_________________________________________________________________\n",
      "dense_2 (Dense)              (None, 5)                 645       \n",
      "=================================================================\n",
      "Total params: 95,781\n",
      "Trainable params: 95,525\n",
      "Non-trainable params: 256\n",
      "_________________________________________________________________\n"
     ]
    }
   ],
   "source": [
    "model = Sequential()\n",
    "\n",
    "model.add(Conv1D(32, kernel_size=(5), input_shape=(signal_length, 1)))\n",
    "model.add(Dropout(0.5))\n",
    "model.add(BatchNormalization())\n",
    "model.add(Activation('relu'))\n",
    "\n",
    "model.add(Conv1D(32, (4)))\n",
    "model.add(Dropout(0.5))\n",
    "model.add(BatchNormalization())\n",
    "model.add(Activation('relu'))\n",
    "model.add(MaxPooling1D(pool_size=(2)))\n",
    "\n",
    "model.add(Conv1D(32, (4)))\n",
    "model.add(Dropout(0.5))\n",
    "model.add(BatchNormalization())\n",
    "model.add(Activation('relu'))\n",
    "model.add(MaxPooling1D(pool_size=(2)))\n",
    "\n",
    "model.add(Conv1D(32, (4)))\n",
    "model.add(Dropout(0.5))\n",
    "model.add(BatchNormalization())\n",
    "model.add(Activation('relu'))\n",
    "model.add(MaxPooling1D(pool_size=(2)))\n",
    "\n",
    "model.add(Flatten())\n",
    "\n",
    "model.add(Dense(128, activation='sigmoid'))\n",
    "model.add(Dropout(0.5))\n",
    "model.add(Dense(n_classes, activation='softmax'))\n",
    "\n",
    "\n",
    "model.summary()\n",
    "model.compile(loss=keras.losses.categorical_crossentropy, \n",
    "              optimizer=keras.optimizers.Adadelta(),\n",
    "              metrics=['accuracy'])\n"
   ]
  },
  {
   "cell_type": "markdown",
   "metadata": {
    "colab_type": "text",
    "id": "GdhXK-U1hJYg"
   },
   "source": [
    "Para compilar el modelo, se llama .compile(). Aquí se especifica que función de pérdida usamos, que optimizadores aplicamos y que métricas queremos guardar de cada epoch."
   ]
  },
  {
   "cell_type": "code",
   "execution_count": 25,
   "metadata": {
    "colab": {},
    "colab_type": "code",
    "id": "CB5NPusjhJYg"
   },
   "outputs": [],
   "source": [
    "model.compile(loss='categorical_crossentropy', optimizer=Adam(), metrics=['accuracy'])"
   ]
  },
  {
   "cell_type": "markdown",
   "metadata": {
    "colab_type": "text",
    "id": "xFrpp2yShJYi"
   },
   "source": [
    "Ahora entrenamos el modelo un número de épocas y con una batch_size especifica. Esto nos devuelve un objeto history con la accuracy de todas las fases de entrenamiento."
   ]
  },
  {
   "cell_type": "code",
   "execution_count": 48,
   "metadata": {
    "colab": {},
    "colab_type": "code",
    "id": "-mf7fDdchJYi",
    "outputId": "6656fc56-133a-4a48-bd49-77efaa251f63"
   },
   "outputs": [
    {
     "name": "stdout",
     "output_type": "stream",
     "text": [
      "Train on 61287 samples, validate on 26266 samples\n",
      "Epoch 1/75\n",
      "61287/61287 [==============================] - 253s 4ms/step - loss: 0.3292 - accuracy: 0.9088 - val_loss: 0.3028 - val_accuracy: 0.9211\n",
      "Epoch 2/75\n",
      "61287/61287 [==============================] - 244s 4ms/step - loss: 0.2248 - accuracy: 0.9376 - val_loss: 0.2041 - val_accuracy: 0.9395 0.2248 - accura\n",
      "Epoch 3/75\n",
      "61287/61287 [==============================] - 247s 4ms/step - loss: 0.1961 - accuracy: 0.9455 - val_loss: 0.2004 - val_accuracy: 0.9355\n",
      "Epoch 4/75\n",
      "61287/61287 [==============================] - 243s 4ms/step - loss: 0.1793 - accuracy: 0.9494 - val_loss: 0.1610 - val_accuracy: 0.9520\n",
      "Epoch 5/75\n",
      "61287/61287 [==============================] - 244s 4ms/step - loss: 0.1661 - accuracy: 0.9532 - val_loss: 0.1798 - val_accuracy: 0.9444\n",
      "Epoch 6/75\n",
      "61287/61287 [==============================] - 244s 4ms/step - loss: 0.1590 - accuracy: 0.9551 - val_loss: 0.1846 - val_accuracy: 0.9425\n",
      "Epoch 7/75\n",
      "61287/61287 [==============================] - 246s 4ms/step - loss: 0.1529 - accuracy: 0.9568 - val_loss: 0.1817 - val_accuracy: 0.9400\n",
      "Epoch 8/75\n",
      "61287/61287 [==============================] - 246s 4ms/step - loss: 0.1495 - accuracy: 0.9580 - val_loss: 0.1880 - val_accuracy: 0.9368\n",
      "Epoch 9/75\n",
      "61287/61287 [==============================] - 247s 4ms/step - loss: 0.1448 - accuracy: 0.9598 - val_loss: 0.2263 - val_accuracy: 0.9345\n",
      "Epoch 10/75\n",
      "61287/61287 [==============================] - 251s 4ms/step - loss: 0.1416 - accuracy: 0.9602 - val_loss: 0.1853 - val_accuracy: 0.9379\n",
      "Epoch 11/75\n",
      "61287/61287 [==============================] - 248s 4ms/step - loss: 0.1407 - accuracy: 0.9603 - val_loss: 0.2218 - val_accuracy: 0.9291\n",
      "Epoch 12/75\n",
      "61287/61287 [==============================] - 251s 4ms/step - loss: 0.1368 - accuracy: 0.9616 - val_loss: 0.2077 - val_accuracy: 0.9359\n",
      "Epoch 13/75\n",
      "61287/61287 [==============================] - 251s 4ms/step - loss: 0.1355 - accuracy: 0.9624 - val_loss: 0.1846 - val_accuracy: 0.9466\n",
      "Epoch 14/75\n",
      "61287/61287 [==============================] - 253s 4ms/step - loss: 0.1318 - accuracy: 0.9624 - val_loss: 0.2356 - val_accuracy: 0.9250\n",
      "Epoch 15/75\n",
      "61287/61287 [==============================] - 249s 4ms/step - loss: 0.1302 - accuracy: 0.9637 - val_loss: 0.2432 - val_accuracy: 0.9296\n",
      "Epoch 16/75\n",
      "61287/61287 [==============================] - 250s 4ms/step - loss: 0.1282 - accuracy: 0.9640 - val_loss: 0.2503 - val_accuracy: 0.9192\n",
      "Epoch 17/75\n",
      "61287/61287 [==============================] - 250s 4ms/step - loss: 0.1246 - accuracy: 0.9649 - val_loss: 0.2184 - val_accuracy: 0.9280\n",
      "Epoch 18/75\n",
      "61287/61287 [==============================] - 251s 4ms/step - loss: 0.1254 - accuracy: 0.9649 - val_loss: 0.2121 - val_accuracy: 0.9362\n",
      "Epoch 19/75\n",
      "61287/61287 [==============================] - 251s 4ms/step - loss: 0.1235 - accuracy: 0.9651 - val_loss: 0.2303 - val_accuracy: 0.9352\n",
      "Epoch 20/75\n",
      "61287/61287 [==============================] - 251s 4ms/step - loss: 0.1215 - accuracy: 0.9657 - val_loss: 0.2997 - val_accuracy: 0.9015\n",
      "Epoch 21/75\n",
      "61287/61287 [==============================] - 251s 4ms/step - loss: 0.1252 - accuracy: 0.9651 - val_loss: 0.1886 - val_accuracy: 0.9464\n",
      "Epoch 22/75\n",
      "61287/61287 [==============================] - 252s 4ms/step - loss: 0.1202 - accuracy: 0.9658 - val_loss: 0.1984 - val_accuracy: 0.9411\n",
      "Epoch 23/75\n",
      "61287/61287 [==============================] - 253s 4ms/step - loss: 0.1193 - accuracy: 0.9662 - val_loss: 0.2560 - val_accuracy: 0.9167\n",
      "Epoch 24/75\n",
      "61287/61287 [==============================] - 252s 4ms/step - loss: 0.1192 - accuracy: 0.9665 - val_loss: 0.2390 - val_accuracy: 0.9311\n",
      "Epoch 25/75\n",
      "61287/61287 [==============================] - 253s 4ms/step - loss: 0.1189 - accuracy: 0.9661 - val_loss: 0.2443 - val_accuracy: 0.9239\n",
      "Epoch 26/75\n",
      "61287/61287 [==============================] - 253s 4ms/step - loss: 0.1155 - accuracy: 0.9676 - val_loss: 0.3684 - val_accuracy: 0.8865\n",
      "Epoch 27/75\n",
      "61287/61287 [==============================] - 254s 4ms/step - loss: 0.1171 - accuracy: 0.9681 - val_loss: 0.2569 - val_accuracy: 0.9199\n",
      "Epoch 28/75\n",
      "61287/61287 [==============================] - 218s 4ms/step - loss: 0.1154 - accuracy: 0.9682 - val_loss: 0.2533 - val_accuracy: 0.9320\n",
      "Epoch 29/75\n",
      "61287/61287 [==============================] - 206s 3ms/step - loss: 0.1167 - accuracy: 0.9673 - val_loss: 0.3153 - val_accuracy: 0.9090\n",
      "Epoch 30/75\n",
      "61287/61287 [==============================] - 230s 4ms/step - loss: 0.1136 - accuracy: 0.9681 - val_loss: 0.2882 - val_accuracy: 0.9202\n",
      "Epoch 31/75\n",
      "61287/61287 [==============================] - 257s 4ms/step - loss: 0.1129 - accuracy: 0.9686 - val_loss: 0.3068 - val_accuracy: 0.9034\n",
      "Epoch 32/75\n",
      "61287/61287 [==============================] - 259s 4ms/step - loss: 0.1117 - accuracy: 0.9687 - val_loss: 0.2515 - val_accuracy: 0.9391\n",
      "Epoch 33/75\n",
      "61287/61287 [==============================] - 278s 5ms/step - loss: 0.1109 - accuracy: 0.9686 - val_loss: 0.3261 - val_accuracy: 0.9084\n",
      "Epoch 34/75\n",
      "61287/61287 [==============================] - 263s 4ms/step - loss: 0.1132 - accuracy: 0.9679 - val_loss: 0.2346 - val_accuracy: 0.9329\n",
      "Epoch 35/75\n",
      "61287/61287 [==============================] - 253s 4ms/step - loss: 0.1114 - accuracy: 0.9695 - val_loss: 0.4279 - val_accuracy: 0.8685\n",
      "Epoch 36/75\n",
      "61287/61287 [==============================] - 281s 5ms/step - loss: 0.1107 - accuracy: 0.9691 - val_loss: 0.2357 - val_accuracy: 0.9342\n",
      "Epoch 37/75\n",
      "61287/61287 [==============================] - 300s 5ms/step - loss: 0.1102 - accuracy: 0.9694 - val_loss: 0.4660 - val_accuracy: 0.8553\n",
      "Epoch 38/75\n",
      "61287/61287 [==============================] - 301s 5ms/step - loss: 0.1083 - accuracy: 0.9690 - val_loss: 0.3152 - val_accuracy: 0.9116\n",
      "Epoch 39/75\n",
      "61287/61287 [==============================] - 294s 5ms/step - loss: 0.1073 - accuracy: 0.9700 - val_loss: 0.3050 - val_accuracy: 0.9237\n",
      "Epoch 40/75\n",
      "61287/61287 [==============================] - 295s 5ms/step - loss: 0.1079 - accuracy: 0.9696 - val_loss: 0.3576 - val_accuracy: 0.9106\n",
      "Epoch 41/75\n",
      "61287/61287 [==============================] - 617s 10ms/step - loss: 0.1097 - accuracy: 0.9694 - val_loss: 0.3738 - val_accuracy: 0.9098\n",
      "Epoch 42/75\n",
      "61287/61287 [==============================] - 298s 5ms/step - loss: 0.1088 - accuracy: 0.9693 - val_loss: 0.4556 - val_accuracy: 0.8603\n",
      "Epoch 43/75\n",
      "61287/61287 [==============================] - 295s 5ms/step - loss: 0.1059 - accuracy: 0.9700 - val_loss: 0.4551 - val_accuracy: 0.8771\n",
      "Epoch 44/75\n",
      "61287/61287 [==============================] - 310s 5ms/step - loss: 0.1079 - accuracy: 0.9700 - val_loss: 0.4789 - val_accuracy: 0.8640\n",
      "Epoch 45/75\n",
      "61287/61287 [==============================] - 331s 5ms/step - loss: 0.1063 - accuracy: 0.9700 - val_loss: 0.4429 - val_accuracy: 0.8739\n",
      "Epoch 46/75\n",
      "61287/61287 [==============================] - 295s 5ms/step - loss: 0.1105 - accuracy: 0.9691 - val_loss: 0.4731 - val_accuracy: 0.8467\n",
      "Epoch 47/75\n",
      "61287/61287 [==============================] - 288s 5ms/step - loss: 0.1064 - accuracy: 0.9698 - val_loss: 0.4008 - val_accuracy: 0.8976\n",
      "Epoch 48/75\n",
      "61287/61287 [==============================] - 285s 5ms/step - loss: 0.1054 - accuracy: 0.9706 - val_loss: 0.4389 - val_accuracy: 0.8702\n",
      "Epoch 49/75\n",
      "61287/61287 [==============================] - 289s 5ms/step - loss: 0.1051 - accuracy: 0.9707 - val_loss: 0.4029 - val_accuracy: 0.9017\n",
      "Epoch 50/75\n",
      "61287/61287 [==============================] - 281s 5ms/step - loss: 0.1040 - accuracy: 0.9709 - val_loss: 0.4699 - val_accuracy: 0.8707\n",
      "Epoch 51/75\n",
      "61287/61287 [==============================] - 276s 5ms/step - loss: 0.1062 - accuracy: 0.9701 - val_loss: 0.5408 - val_accuracy: 0.8098\n",
      "Epoch 52/75\n",
      "61287/61287 [==============================] - 290s 5ms/step - loss: 0.1061 - accuracy: 0.9697 - val_loss: 0.4467 - val_accuracy: 0.8759\n",
      "Epoch 53/75\n",
      "61287/61287 [==============================] - 269s 4ms/step - loss: 0.1026 - accuracy: 0.9708 - val_loss: 0.4203 - val_accuracy: 0.9041\n",
      "Epoch 54/75\n",
      "61287/61287 [==============================] - 260s 4ms/step - loss: 0.1042 - accuracy: 0.9713 - val_loss: 0.4089 - val_accuracy: 0.9031\n",
      "Epoch 55/75\n",
      "61287/61287 [==============================] - 250s 4ms/step - loss: 0.1048 - accuracy: 0.9701 - val_loss: 0.6192 - val_accuracy: 0.7921\n",
      "Epoch 56/75\n",
      "61287/61287 [==============================] - 258s 4ms/step - loss: 0.1028 - accuracy: 0.9708 - val_loss: 0.3795 - val_accuracy: 0.9133\n",
      "Epoch 57/75\n",
      "61287/61287 [==============================] - 254s 4ms/step - loss: 0.1018 - accuracy: 0.9713 - val_loss: 0.4267 - val_accuracy: 0.8953\n",
      "Epoch 58/75\n",
      "61287/61287 [==============================] - 254s 4ms/step - loss: 0.1045 - accuracy: 0.9709 - val_loss: 0.5962 - val_accuracy: 0.7843\n",
      "Epoch 59/75\n",
      "61287/61287 [==============================] - 256s 4ms/step - loss: 0.1018 - accuracy: 0.9719 - val_loss: 0.4164 - val_accuracy: 0.9003\n",
      "Epoch 60/75\n",
      "61287/61287 [==============================] - 255s 4ms/step - loss: 0.1006 - accuracy: 0.9716 - val_loss: 0.3637 - val_accuracy: 0.9179\n",
      "Epoch 61/75\n",
      "61287/61287 [==============================] - 252s 4ms/step - loss: 0.1030 - accuracy: 0.9706 - val_loss: 0.5263 - val_accuracy: 0.8399\n",
      "Epoch 62/75\n",
      "61287/61287 [==============================] - 247s 4ms/step - loss: 0.1003 - accuracy: 0.9709 - val_loss: 0.4529 - val_accuracy: 0.9029\n",
      "Epoch 63/75\n",
      "61287/61287 [==============================] - 248s 4ms/step - loss: 0.1010 - accuracy: 0.9713 - val_loss: 0.3636 - val_accuracy: 0.9237\n",
      "Epoch 64/75\n",
      "61287/61287 [==============================] - 248s 4ms/step - loss: 0.1018 - accuracy: 0.9716 - val_loss: 0.6107 - val_accuracy: 0.7954\n",
      "Epoch 65/75\n",
      "61287/61287 [==============================] - 250s 4ms/step - loss: 0.1011 - accuracy: 0.9710 - val_loss: 0.5839 - val_accuracy: 0.8012\n",
      "Epoch 66/75\n",
      "61287/61287 [==============================] - 249s 4ms/step - loss: 0.1004 - accuracy: 0.9720 - val_loss: 0.6071 - val_accuracy: 0.7778\n",
      "Epoch 67/75\n",
      "61287/61287 [==============================] - 251s 4ms/step - loss: 0.1001 - accuracy: 0.9718 - val_loss: 0.3731 - val_accuracy: 0.9218\n",
      "Epoch 68/75\n",
      "61287/61287 [==============================] - 250s 4ms/step - loss: 0.1005 - accuracy: 0.9716 - val_loss: 0.4865 - val_accuracy: 0.9055\n",
      "Epoch 69/75\n",
      "61287/61287 [==============================] - 250s 4ms/step - loss: 0.1011 - accuracy: 0.9714 - val_loss: 0.2966 - val_accuracy: 0.9133\n",
      "Epoch 70/75\n",
      "61287/61287 [==============================] - 250s 4ms/step - loss: 0.1000 - accuracy: 0.9718 - val_loss: 0.3630 - val_accuracy: 0.9107\n",
      "Epoch 71/75\n",
      "61287/61287 [==============================] - 251s 4ms/step - loss: 0.1008 - accuracy: 0.9719 - val_loss: 0.5271 - val_accuracy: 0.8939\n",
      "Epoch 72/75\n",
      "61287/61287 [==============================] - 249s 4ms/step - loss: 0.0995 - accuracy: 0.9717 - val_loss: 0.5415 - val_accuracy: 0.8690\n",
      "Epoch 73/75\n",
      "61287/61287 [==============================] - 249s 4ms/step - loss: 0.1002 - accuracy: 0.9715 - val_loss: 0.6204 - val_accuracy: 0.7865\n",
      "Epoch 74/75\n",
      "61287/61287 [==============================] - 250s 4ms/step - loss: 0.1012 - accuracy: 0.9716 - val_loss: 0.5547 - val_accuracy: 0.8580\n",
      "Epoch 75/75\n",
      "61287/61287 [==============================] - 250s 4ms/step - loss: 0.0980 - accuracy: 0.9723 - val_loss: 0.4736 - val_accuracy: 0.8971\n"
     ]
    }
   ],
   "source": [
    "history = model.fit(X_train, y_train,\n",
    "                    epochs=75, \n",
    "                    batch_size=batch_size, \n",
    "                    verbose=1, \n",
    "                    validation_data=(X_test, y_test))"
   ]
  },
  {
   "cell_type": "code",
   "execution_count": 54,
   "metadata": {},
   "outputs": [
    {
     "data": {
      "text/plain": [
       "['history.pkl']"
      ]
     },
     "execution_count": 54,
     "metadata": {},
     "output_type": "execute_result"
    }
   ],
   "source": [
    "import joblib\n",
    "\n",
    "joblib.dump(model, 'model.pkl')\n",
    "joblib.dump(history, 'history.pkl')"
   ]
  },
  {
   "cell_type": "code",
   "execution_count": 1,
   "metadata": {},
   "outputs": [
    {
     "name": "stderr",
     "output_type": "stream",
     "text": [
      "Using TensorFlow backend.\n"
     ]
    }
   ],
   "source": [
    "import joblib\n",
    "\n",
    "model = joblib.load('model.pkl')\n",
    "history = joblib.load('history.pkl')"
   ]
  },
  {
   "cell_type": "markdown",
   "metadata": {
    "colab_type": "text",
    "id": "NliUnXSGhJYl"
   },
   "source": [
    "### 17. Accede a la accuracy histórica del modelo (con el atributo history)."
   ]
  },
  {
   "cell_type": "code",
   "execution_count": 11,
   "metadata": {
    "colab": {},
    "colab_type": "code",
    "id": "aWds4b6ChJYl",
    "outputId": "a4255044-3b63-4b4d-adea-08a65c5da792"
   },
   "outputs": [
    {
     "name": "stdout",
     "output_type": "stream",
     "text": [
      "[0.9087735, 0.937605, 0.9455023, 0.94935304, 0.9532364, 0.9550639, 0.95677716, 0.95798457, 0.9597794, 0.9601873, 0.9603342, 0.9616232, 0.96235746, 0.962439, 0.96366274, 0.9639891, 0.9649028, 0.9648539, 0.96511495, 0.96570235, 0.96514755, 0.9658002, 0.9661918, 0.96648556, 0.9660776, 0.96757877, 0.96806824, 0.9682151, 0.9673177, 0.9681335, 0.9686067, 0.9687209, 0.9685904, 0.9679377, 0.96948785, 0.96912885, 0.9693573, 0.969031, 0.96999365, 0.96960205, 0.96940625, 0.96932465, 0.96999365, 0.97001, 0.97002625, 0.9690636, 0.96979785, 0.9706463, 0.97069526, 0.97089106, 0.9700915, 0.9696999, 0.9708421, 0.97128266, 0.97014046, 0.9708421, 0.9712663, 0.97094, 0.97185373, 0.971609, 0.97063, 0.97092366, 0.9713479, 0.9716253, 0.97097266, 0.97195166, 0.9718211, 0.9716416, 0.9714295, 0.9718048, 0.97187006, 0.9716906, 0.9715437, 0.9716416, 0.9723106]\n"
     ]
    }
   ],
   "source": [
    "#Solo una linea de código\n",
    "print(history.history['accuracy'])"
   ]
  },
  {
   "cell_type": "markdown",
   "metadata": {
    "colab_type": "text",
    "id": "xzB3t9CYhJYo"
   },
   "source": [
    "### 18. Ahora podemos ver si nuestro modelo está haciendo overfitting. Dibuja una gráfica con la accuracy en train y en validation usando los datos del objeto history."
   ]
  },
  {
   "cell_type": "code",
   "execution_count": 31,
   "metadata": {
    "colab": {},
    "colab_type": "code",
    "id": "KP_SRAnphJYp",
    "outputId": "43c5e9ba-51c1-4adc-aaa2-fe1e4825d40b"
   },
   "outputs": [
    {
     "data": {
      "image/png": "[encoded data removed]",
      "text/plain": [
       "<Figure size 576x432 with 1 Axes>"
      ]
     },
     "metadata": {
      "needs_background": "light"
     },
     "output_type": "display_data"
    }
   ],
   "source": [
    "#Dos lineas de código\n",
    "\n",
    "plt.figure(figsize=(8,6))\n",
    "plt.plot(history.history['accuracy'], label = 'train', color='red')\n",
    "plt.plot(history.history['val_accuracy'], label = 'test', color='green')\n",
    "plt.xlabel('epochs')\n",
    "plt.ylabel('accuracy')\n",
    "plt.legend(loc='best')\n",
    "plt.title('Accuracy');"
   ]
  },
  {
   "cell_type": "code",
   "execution_count": 134,
   "metadata": {},
   "outputs": [
    {
     "name": "stdout",
     "output_type": "stream",
     "text": [
      "Best number of epoch to avoid overfitting in accuracy: 4\n"
     ]
    }
   ],
   "source": [
    "epoch = 1\n",
    "best = 0\n",
    "for (i,j) in zip(history.history['accuracy'],history.history['val_accuracy']):\n",
    "        if np.absolute(i-j)<0.005:\n",
    "            best = epoch\n",
    "        epoch = epoch + 1\n",
    "print('Best number of epoch to avoid overfitting in accuracy:', best)"
   ]
  },
  {
   "cell_type": "markdown",
   "metadata": {
    "colab_type": "text",
    "id": "p2RC2_pghJYr"
   },
   "source": [
    "### 19. Lo mismo, pero con la pérdida o loss."
   ]
  },
  {
   "cell_type": "code",
   "execution_count": 32,
   "metadata": {
    "colab": {},
    "colab_type": "code",
    "id": "eaJxqJWYhJYs",
    "outputId": "b320b106-1c86-4e5b-d9d4-a6f186e54b4b"
   },
   "outputs": [
    {
     "data": {
      "image/png": "[encoded data removed]",
      "text/plain": [
       "<Figure size 576x432 with 1 Axes>"
      ]
     },
     "metadata": {
      "needs_background": "light"
     },
     "output_type": "display_data"
    }
   ],
   "source": [
    "#Dos lineas de código\n",
    "\n",
    "plt.figure(figsize=(8,6))\n",
    "plt.plot(history.history['loss'], label = 'train', color='red')\n",
    "plt.plot(history.history['val_loss'], label = 'test', color='green')\n",
    "plt.xlabel('epochs')\n",
    "plt.ylabel('loss')\n",
    "plt.legend(loc='best')\n",
    "plt.title('Loss');"
   ]
  },
  {
   "cell_type": "code",
   "execution_count": 144,
   "metadata": {},
   "outputs": [
    {
     "name": "stdout",
     "output_type": "stream",
     "text": [
      "Best number of epoch to avoid overfitting in loss: 5\n"
     ]
    }
   ],
   "source": [
    "epoch = 1\n",
    "best = 0\n",
    "for (i,j) in zip(history.history['loss'],history.history['val_loss']):\n",
    "        if np.absolute(i-j)<0.018:\n",
    "            best = epoch\n",
    "        epoch = epoch + 1\n",
    "print('Best number of epoch to avoid overfitting in loss:', best)"
   ]
  },
  {
   "cell_type": "markdown",
   "metadata": {
    "colab_type": "text",
    "id": "YFu3wMNZhJYv"
   },
   "source": [
    "### 20. Vamos a ver lo que predice con el X_test."
   ]
  },
  {
   "cell_type": "code",
   "execution_count": 74,
   "metadata": {
    "colab": {},
    "colab_type": "code",
    "id": "vd1FIayQhJYw"
   },
   "outputs": [],
   "source": [
    "#Solo una linea de código\n",
    "test_pred = model.predict_classes(X_test)"
   ]
  },
  {
   "cell_type": "code",
   "execution_count": 75,
   "metadata": {},
   "outputs": [
    {
     "data": {
      "text/plain": [
       "0    23243\n",
       "4     1812\n",
       "2      650\n",
       "1      561\n",
       "dtype: int64"
      ]
     },
     "execution_count": 75,
     "metadata": {},
     "output_type": "execute_result"
    }
   ],
   "source": [
    "df_y_pred = pd.DataFrame(test_pred)\n",
    "df_y_pred.value_counts()"
   ]
  },
  {
   "cell_type": "markdown",
   "metadata": {
    "colab_type": "text",
    "id": "YVhxvfzLhJYy"
   },
   "source": [
    "### 21. ¿Qué dimensiones tiene la predicción y_pred?"
   ]
  },
  {
   "cell_type": "code",
   "execution_count": 76,
   "metadata": {
    "colab": {},
    "colab_type": "code",
    "id": "6M4DrqzZhJYz",
    "outputId": "4fd63c75-7e76-4c07-e2be-29f6f5217ad6"
   },
   "outputs": [
    {
     "data": {
      "text/plain": [
       "(26266,)"
      ]
     },
     "execution_count": 76,
     "metadata": {},
     "output_type": "execute_result"
    }
   ],
   "source": [
    "#Solo una linea de código\n",
    "test_pred.shape"
   ]
  },
  {
   "cell_type": "markdown",
   "metadata": {
    "colab_type": "text",
    "id": "BBuCsReShJY2"
   },
   "source": [
    "### 22. Compara una predicción con el valor esperado utilizando un gráfico de barras."
   ]
  },
  {
   "cell_type": "code",
   "execution_count": 77,
   "metadata": {
    "colab": {},
    "colab_type": "code",
    "id": "pGsxbYnWhJY3",
    "outputId": "61943267-f1d2-42c8-d9e3-2a57ee8de15e"
   },
   "outputs": [],
   "source": [
    "#Solo una linea de código\n",
    "test_pred = test_pred[:,np.newaxis]\n",
    "y_pred = np.zeros((test_pred.shape[0], test_pred.max()+1), dtype=int)\n",
    "y_pred[np.arange(test_pred.shape[0]), np.squeeze(test_pred)] = 1"
   ]
  },
  {
   "cell_type": "markdown",
   "metadata": {
    "colab_type": "text",
    "id": "sXFer3AZhJY5"
   },
   "source": [
    "¿El modelo plantea una sola posibilidad o las probabilidades de cada categoria al estimar?"
   ]
  },
  {
   "cell_type": "markdown",
   "metadata": {
    "colab_type": "text",
    "id": "eoQVwwFhhJY5"
   },
   "source": [
    "Este snippet de código genera un report del modelo, y el siguiente una matriz de confusión. Utilizadlo para evaluar vuestro modelo."
   ]
  },
  {
   "cell_type": "code",
   "execution_count": 78,
   "metadata": {
    "colab": {},
    "colab_type": "code",
    "id": "YX_k97bghJY6",
    "outputId": "53a2a5b0-49c7-4c98-c3e3-b1e5f225de73"
   },
   "outputs": [
    {
     "name": "stdout",
     "output_type": "stream",
     "text": [
      "              precision    recall  f1-score   support\n",
      "\n",
      "           0       0.92      0.98      0.95     21755\n",
      "           1       0.26      0.22      0.24       668\n",
      "           2       0.91      0.34      0.49      1758\n",
      "           3       0.00      0.00      0.00       187\n",
      "           4       0.91      0.87      0.89      1898\n",
      "\n",
      "    accuracy                           0.90     26266\n",
      "   macro avg       0.60      0.48      0.51     26266\n",
      "weighted avg       0.89      0.90      0.89     26266\n",
      "\n"
     ]
    }
   ],
   "source": [
    "print(classification_report(y_test.argmax(axis=1), y_pred.argmax(axis=1)))"
   ]
  },
  {
   "cell_type": "code",
   "execution_count": 79,
   "metadata": {
    "colab": {},
    "colab_type": "code",
    "id": "O3E_a95ihJY8",
    "outputId": "77424721-254d-4556-a7b0-fa7f40a16bf9"
   },
   "outputs": [
    {
     "name": "stdout",
     "output_type": "stream",
     "text": [
      "Normalized confusion matrix\n"
     ]
    },
    {
     "data": {
      "image/png": "[encoded data removed]",
      "text/plain": [
       "<Figure size 720x720 with 2 Axes>"
      ]
     },
     "metadata": {
      "needs_background": "light"
     },
     "output_type": "display_data"
    }
   ],
   "source": [
    "def plot_confusion_matrix(cm, classes,\n",
    "                          normalize=False,\n",
    "                          title='Confusion matrix',\n",
    "                          cmap=plt.cm.Blues):\n",
    "    \"\"\"\n",
    "    This function prints and plots the confusion matrix.\n",
    "    Normalization can be applied by setting `normalize=True`.\n",
    "    \"\"\"\n",
    "    if normalize:\n",
    "        cm = cm.astype('float') / cm.sum(axis=1)[:, np.newaxis]\n",
    "        print(\"Normalized confusion matrix\")\n",
    "    else:\n",
    "        print('Confusion matrix, without normalization')\n",
    "\n",
    "    plt.imshow(cm, interpolation='nearest', cmap=cmap)\n",
    "    plt.title(title)\n",
    "    plt.colorbar()\n",
    "    tick_marks = np.arange(len(classes))\n",
    "    plt.xticks(tick_marks, classes, rotation=45)\n",
    "    plt.yticks(tick_marks, classes)\n",
    "\n",
    "    fmt = '.2f' if normalize else 'd'\n",
    "    thresh = cm.max() / 2.\n",
    "    for i, j in itertools.product(range(cm.shape[0]), range(cm.shape[1])):\n",
    "        plt.text(j, i, format(cm[i, j], fmt),\n",
    "                 horizontalalignment=\"center\",\n",
    "                 color=\"white\" if cm[i, j] > thresh else \"black\")\n",
    "\n",
    "    plt.tight_layout()\n",
    "    plt.ylabel('True label')\n",
    "    plt.xlabel('Predicted label')\n",
    "\n",
    "# Compute confusion matrix\n",
    "cnf_matrix = confusion_matrix(y_test.argmax(axis=1), y_pred.argmax(axis=1))\n",
    "np.set_printoptions(precision=2)\n",
    "\n",
    "# Plot non-normalized confusion matrix\n",
    "plt.figure(figsize=(10, 10))\n",
    "plot_confusion_matrix(cnf_matrix, classes=['N', 'S', 'V', 'F', 'Q'],\n",
    "                      title='Confusion matrix, with normalization',\n",
    "                      normalize=True)\n",
    "plt.show()"
   ]
  },
  {
   "cell_type": "markdown",
   "metadata": {
    "colab_type": "text",
    "id": "dXtlz07VhJZB"
   },
   "source": [
    "**Preguntas:**\n",
    "- Si tomamos todo lo que no sea normal como positivo, ¿el modelo se equivoca mas en falsos positivos o en falsos negativos?\n",
    "- ¿Que categoría genera mayor error?\n",
    "- ¿Existe overfitting?\n",
    "- ¿Como afecta batch_size al entrenamiento?"
   ]
  },
  {
   "cell_type": "markdown",
   "metadata": {
    "colab_type": "text",
    "id": "6jdUQrynhJZD"
   },
   "source": [
    "Ahora os toca a vosotros mejorar el modelo. Probad con otros optimizadores, cambiar la función de coste, volveros locos con el batch_size..... El paper del principio puede dar alguna pista. Como siempre, el que tenga la mejor score, ¡tiene premio!"
   ]
  },
  {
   "cell_type": "code",
   "execution_count": 5,
   "metadata": {},
   "outputs": [
    {
     "name": "stdout",
     "output_type": "stream",
     "text": [
      "Model: \"sequential_2\"\n",
      "_________________________________________________________________\n",
      "Layer (type)                 Output Shape              Param #   \n",
      "=================================================================\n",
      "conv1d_5 (Conv1D)            (None, 183, 32)           192       \n",
      "_________________________________________________________________\n",
      "dropout_6 (Dropout)          (None, 183, 32)           0         \n",
      "_________________________________________________________________\n",
      "batch_normalization_5 (Batch (None, 183, 32)           128       \n",
      "_________________________________________________________________\n",
      "activation_5 (Activation)    (None, 183, 32)           0         \n",
      "_________________________________________________________________\n",
      "conv1d_6 (Conv1D)            (None, 180, 32)           4128      \n",
      "_________________________________________________________________\n",
      "dropout_7 (Dropout)          (None, 180, 32)           0         \n",
      "_________________________________________________________________\n",
      "batch_normalization_6 (Batch (None, 180, 32)           128       \n",
      "_________________________________________________________________\n",
      "activation_6 (Activation)    (None, 180, 32)           0         \n",
      "_________________________________________________________________\n",
      "max_pooling1d_4 (MaxPooling1 (None, 90, 32)            0         \n",
      "_________________________________________________________________\n",
      "conv1d_7 (Conv1D)            (None, 87, 32)            4128      \n",
      "_________________________________________________________________\n",
      "dropout_8 (Dropout)          (None, 87, 32)            0         \n",
      "_________________________________________________________________\n",
      "batch_normalization_7 (Batch (None, 87, 32)            128       \n",
      "_________________________________________________________________\n",
      "activation_7 (Activation)    (None, 87, 32)            0         \n",
      "_________________________________________________________________\n",
      "max_pooling1d_5 (MaxPooling1 (None, 43, 32)            0         \n",
      "_________________________________________________________________\n",
      "conv1d_8 (Conv1D)            (None, 40, 32)            4128      \n",
      "_________________________________________________________________\n",
      "dropout_9 (Dropout)          (None, 40, 32)            0         \n",
      "_________________________________________________________________\n",
      "batch_normalization_8 (Batch (None, 40, 32)            128       \n",
      "_________________________________________________________________\n",
      "activation_8 (Activation)    (None, 40, 32)            0         \n",
      "_________________________________________________________________\n",
      "max_pooling1d_6 (MaxPooling1 (None, 20, 32)            0         \n",
      "_________________________________________________________________\n",
      "flatten_2 (Flatten)          (None, 640)               0         \n",
      "_________________________________________________________________\n",
      "dense_3 (Dense)              (None, 128)               82048     \n",
      "_________________________________________________________________\n",
      "dropout_10 (Dropout)         (None, 128)               0         \n",
      "_________________________________________________________________\n",
      "dense_4 (Dense)              (None, 5)                 645       \n",
      "=================================================================\n",
      "Total params: 95,781\n",
      "Trainable params: 95,525\n",
      "Non-trainable params: 256\n",
      "_________________________________________________________________\n"
     ]
    }
   ],
   "source": [
    "model_1 = Sequential()\n",
    "\n",
    "model_1.add(Conv1D(32, kernel_size=(5), input_shape=(187, 1)))\n",
    "model_1.add(Dropout(0.5))\n",
    "model_1.add(BatchNormalization())\n",
    "model_1.add(Activation('relu'))\n",
    "\n",
    "model_1.add(Conv1D(32, (4)))\n",
    "model_1.add(Dropout(0.5))\n",
    "model_1.add(BatchNormalization())\n",
    "model_1.add(Activation('relu'))\n",
    "model_1.add(MaxPooling1D(pool_size=(2)))\n",
    "\n",
    "model_1.add(Conv1D(32, (4)))\n",
    "model_1.add(Dropout(0.5))\n",
    "model_1.add(BatchNormalization())\n",
    "model_1.add(Activation('relu'))\n",
    "model_1.add(MaxPooling1D(pool_size=(2)))\n",
    "\n",
    "model_1.add(Conv1D(32, (4)))\n",
    "model_1.add(Dropout(0.5))\n",
    "model_1.add(BatchNormalization())\n",
    "model_1.add(Activation('relu'))\n",
    "model_1.add(MaxPooling1D(pool_size=(2)))\n",
    "\n",
    "model_1.add(Flatten())\n",
    "\n",
    "model_1.add(Dense(128, activation='sigmoid'))\n",
    "model_1.add(Dropout(0.5))\n",
    "model_1.add(Dense(5, activation='softmax'))\n",
    "\n",
    "\n",
    "model_1.summary()\n"
   ]
  },
  {
   "cell_type": "code",
   "execution_count": 155,
   "metadata": {},
   "outputs": [],
   "source": [
    "model_1.compile(loss='categorical_crossentropy', optimizer=Adam(), metrics=['accuracy'])"
   ]
  },
  {
   "cell_type": "code",
   "execution_count": 156,
   "metadata": {
    "scrolled": true
   },
   "outputs": [
    {
     "name": "stdout",
     "output_type": "stream",
     "text": [
      "Train on 61287 samples, validate on 26266 samples\n",
      "Epoch 1/4\n",
      "61287/61287 [==============================] - 254s 4ms/step - loss: 0.3328 - accuracy: 0.9074 - val_loss: 0.2660 - val_accuracy: 0.9314\n",
      "Epoch 2/4\n",
      "61287/61287 [==============================] - 240s 4ms/step - loss: 0.2227 - accuracy: 0.9381 - val_loss: 0.2103 - val_accuracy: 0.9424\n",
      "Epoch 3/4\n",
      "61287/61287 [==============================] - 233s 4ms/step - loss: 0.1969 - accuracy: 0.9456 - val_loss: 0.1792 - val_accuracy: 0.9518\n",
      "Epoch 4/4\n",
      "61287/61287 [==============================] - 252s 4ms/step - loss: 0.1774 - accuracy: 0.9500 - val_loss: 0.1588 - val_accuracy: 0.9578\n"
     ]
    }
   ],
   "source": [
    "history_1 = model_1.fit(X_train, y_train,\n",
    "                    epochs=4, \n",
    "                    batch_size=20, \n",
    "                    verbose=1, \n",
    "                    validation_data=(X_test, y_test))"
   ]
  },
  {
   "cell_type": "code",
   "execution_count": 157,
   "metadata": {},
   "outputs": [
    {
     "name": "stdout",
     "output_type": "stream",
     "text": [
      "Normalized confusion matrix\n"
     ]
    },
    {
     "data": {
      "image/png": "[encoded data removed]",
      "text/plain": [
       "<Figure size 720x720 with 2 Axes>"
      ]
     },
     "metadata": {
      "needs_background": "light"
     },
     "output_type": "display_data"
    },
    {
     "name": "stdout",
     "output_type": "stream",
     "text": [
      "              precision    recall  f1-score   support\n",
      "\n",
      "           0       0.96      0.99      0.98     21755\n",
      "           1       0.90      0.51      0.65       668\n",
      "           2       0.91      0.83      0.86      1758\n",
      "           3       0.89      0.09      0.17       187\n",
      "           4       0.98      0.89      0.94      1898\n",
      "\n",
      "    accuracy                           0.96     26266\n",
      "   macro avg       0.93      0.66      0.72     26266\n",
      "weighted avg       0.96      0.96      0.95     26266\n",
      "\n"
     ]
    }
   ],
   "source": [
    "test_pred = model_1.predict_classes(X_test)\n",
    "\n",
    "test_pred.shape\n",
    "\n",
    "test_pred = test_pred[:,np.newaxis]\n",
    "y_pred = np.zeros((test_pred.shape[0], test_pred.max()+1), dtype=int)\n",
    "y_pred[np.arange(test_pred.shape[0]), np.squeeze(test_pred)] = 1\n",
    "\n",
    "def plot_confusion_matrix(cm, classes,\n",
    "                          normalize=False,\n",
    "                          title='Confusion matrix',\n",
    "                          cmap=plt.cm.Blues):\n",
    "    \"\"\"\n",
    "    This function prints and plots the confusion matrix.\n",
    "    Normalization can be applied by setting `normalize=True`.\n",
    "    \"\"\"\n",
    "    if normalize:\n",
    "        cm = cm.astype('float') / cm.sum(axis=1)[:, np.newaxis]\n",
    "        print(\"Normalized confusion matrix\")\n",
    "    else:\n",
    "        print('Confusion matrix, without normalization')\n",
    "\n",
    "    plt.imshow(cm, interpolation='nearest', cmap=cmap)\n",
    "    plt.title(title)\n",
    "    plt.colorbar()\n",
    "    tick_marks = np.arange(len(classes))\n",
    "    plt.xticks(tick_marks, classes, rotation=45)\n",
    "    plt.yticks(tick_marks, classes)\n",
    "\n",
    "    fmt = '.2f' if normalize else 'd'\n",
    "    thresh = cm.max() / 2.\n",
    "    for i, j in itertools.product(range(cm.shape[0]), range(cm.shape[1])):\n",
    "        plt.text(j, i, format(cm[i, j], fmt),\n",
    "                 horizontalalignment=\"center\",\n",
    "                 color=\"white\" if cm[i, j] > thresh else \"black\")\n",
    "\n",
    "    plt.tight_layout()\n",
    "    plt.ylabel('True label')\n",
    "    plt.xlabel('Predicted label')\n",
    "\n",
    "# Compute confusion matrix\n",
    "cnf_matrix = confusion_matrix(y_test.argmax(axis=1), y_pred.argmax(axis=1))\n",
    "np.set_printoptions(precision=2)\n",
    "\n",
    "# Plot non-normalized confusion matrix\n",
    "plt.figure(figsize=(10, 10))\n",
    "plot_confusion_matrix(cnf_matrix, classes=['N', 'S', 'V', 'F', 'Q'],\n",
    "                      title='Confusion matrix, with normalization',\n",
    "                      normalize=True)\n",
    "plt.show()\n",
    "\n",
    "print(classification_report(y_test.argmax(axis=1), y_pred.argmax(axis=1)))"
   ]
  },
  {
   "cell_type": "code",
   "execution_count": 158,
   "metadata": {},
   "outputs": [
    {
     "data": {
      "image/png": "[encoded data removed]",
      "text/plain": [
       "<Figure size 576x432 with 1 Axes>"
      ]
     },
     "metadata": {
      "needs_background": "light"
     },
     "output_type": "display_data"
    }
   ],
   "source": [
    "plt.figure(figsize=(8,6))\n",
    "plt.plot(history_1.history['accuracy'], label = 'train', color='red')\n",
    "plt.plot(history_1.history['val_accuracy'], label = 'test', color='green')\n",
    "plt.xlabel('epochs')\n",
    "plt.ylabel('accuracy')\n",
    "plt.legend(loc='best')\n",
    "plt.title('Accuracy');"
   ]
  },
  {
   "cell_type": "code",
   "execution_count": 159,
   "metadata": {},
   "outputs": [
    {
     "data": {
      "image/png": "[encoded data removed]",
      "text/plain": [
       "<Figure size 576x432 with 1 Axes>"
      ]
     },
     "metadata": {
      "needs_background": "light"
     },
     "output_type": "display_data"
    }
   ],
   "source": [
    "plt.figure(figsize=(8,6))\n",
    "plt.plot(history_1.history['loss'], label = 'train', color='red')\n",
    "plt.plot(history_1.history['val_loss'], label = 'test', color='green')\n",
    "plt.xlabel('epochs')\n",
    "plt.ylabel('loss')\n",
    "plt.legend(loc='best')\n",
    "plt.title('Loss');"
   ]
  },
  {
   "cell_type": "code",
   "execution_count": 163,
   "metadata": {},
   "outputs": [
    {
     "name": "stdout",
     "output_type": "stream",
     "text": [
      "Model: \"sequential_3\"\n",
      "_________________________________________________________________\n",
      "Layer (type)                 Output Shape              Param #   \n",
      "=================================================================\n",
      "conv1d_5 (Conv1D)            (None, 183, 32)           192       \n",
      "_________________________________________________________________\n",
      "dropout_6 (Dropout)          (None, 183, 32)           0         \n",
      "_________________________________________________________________\n",
      "batch_normalization_5 (Batch (None, 183, 32)           128       \n",
      "_________________________________________________________________\n",
      "activation_5 (Activation)    (None, 183, 32)           0         \n",
      "_________________________________________________________________\n",
      "conv1d_6 (Conv1D)            (None, 180, 32)           4128      \n",
      "_________________________________________________________________\n",
      "dropout_7 (Dropout)          (None, 180, 32)           0         \n",
      "_________________________________________________________________\n",
      "batch_normalization_6 (Batch (None, 180, 32)           128       \n",
      "_________________________________________________________________\n",
      "activation_6 (Activation)    (None, 180, 32)           0         \n",
      "_________________________________________________________________\n",
      "max_pooling1d_4 (MaxPooling1 (None, 90, 32)            0         \n",
      "_________________________________________________________________\n",
      "conv1d_7 (Conv1D)            (None, 87, 32)            4128      \n",
      "_________________________________________________________________\n",
      "dropout_8 (Dropout)          (None, 87, 32)            0         \n",
      "_________________________________________________________________\n",
      "batch_normalization_7 (Batch (None, 87, 32)            128       \n",
      "_________________________________________________________________\n",
      "activation_7 (Activation)    (None, 87, 32)            0         \n",
      "_________________________________________________________________\n",
      "max_pooling1d_5 (MaxPooling1 (None, 43, 32)            0         \n",
      "_________________________________________________________________\n",
      "conv1d_8 (Conv1D)            (None, 40, 32)            4128      \n",
      "_________________________________________________________________\n",
      "dropout_9 (Dropout)          (None, 40, 32)            0         \n",
      "_________________________________________________________________\n",
      "batch_normalization_8 (Batch (None, 40, 32)            128       \n",
      "_________________________________________________________________\n",
      "activation_8 (Activation)    (None, 40, 32)            0         \n",
      "_________________________________________________________________\n",
      "max_pooling1d_6 (MaxPooling1 (None, 20, 32)            0         \n",
      "_________________________________________________________________\n",
      "flatten_2 (Flatten)          (None, 640)               0         \n",
      "_________________________________________________________________\n",
      "dense_2 (Dense)              (None, 128)               82048     \n",
      "_________________________________________________________________\n",
      "dropout_10 (Dropout)         (None, 128)               0         \n",
      "_________________________________________________________________\n",
      "dense_3 (Dense)              (None, 5)                 645       \n",
      "=================================================================\n",
      "Total params: 95,781\n",
      "Trainable params: 95,525\n",
      "Non-trainable params: 256\n",
      "_________________________________________________________________\n"
     ]
    }
   ],
   "source": [
    "model_2 = keras.models.clone_model(model_1)\n",
    "model_2.summary()"
   ]
  },
  {
   "cell_type": "code",
   "execution_count": 164,
   "metadata": {},
   "outputs": [],
   "source": [
    "model_2.compile(loss='categorical_crossentropy', optimizer=Adam(), metrics=['accuracy'])"
   ]
  },
  {
   "cell_type": "code",
   "execution_count": 172,
   "metadata": {
    "scrolled": true
   },
   "outputs": [
    {
     "name": "stdout",
     "output_type": "stream",
     "text": [
      "Train on 61287 samples, validate on 26266 samples\n",
      "Epoch 1/1\n",
      "61287/61287 [==============================] - 223s 4ms/step - loss: 0.1618 - accuracy: 0.9554 - val_loss: 0.1558 - val_accuracy: 0.9588\n"
     ]
    }
   ],
   "source": [
    "history_2 = model_2.fit(X_train, y_train,\n",
    "                    epochs=12, \n",
    "                    batch_size=500, \n",
    "                    verbose=1, \n",
    "                    validation_data=(X_test, y_test))"
   ]
  },
  {
   "cell_type": "code",
   "execution_count": 173,
   "metadata": {},
   "outputs": [
    {
     "name": "stdout",
     "output_type": "stream",
     "text": [
      "Normalized confusion matrix\n"
     ]
    },
    {
     "data": {
      "image/png": "[encoded data removed]",
      "text/plain": [
       "<Figure size 720x720 with 2 Axes>"
      ]
     },
     "metadata": {
      "needs_background": "light"
     },
     "output_type": "display_data"
    },
    {
     "name": "stdout",
     "output_type": "stream",
     "text": [
      "              precision    recall  f1-score   support\n",
      "\n",
      "           0       0.97      0.99      0.98     21755\n",
      "           1       0.90      0.55      0.68       668\n",
      "           2       0.84      0.87      0.86      1758\n",
      "           3       0.93      0.14      0.24       187\n",
      "           4       0.99      0.92      0.95      1898\n",
      "\n",
      "    accuracy                           0.96     26266\n",
      "   macro avg       0.93      0.69      0.74     26266\n",
      "weighted avg       0.96      0.96      0.96     26266\n",
      "\n"
     ]
    }
   ],
   "source": [
    "test_pred = model_2.predict_classes(X_test)\n",
    "\n",
    "test_pred.shape\n",
    "\n",
    "test_pred = test_pred[:,np.newaxis]\n",
    "y_pred = np.zeros((test_pred.shape[0], test_pred.max()+1), dtype=int)\n",
    "y_pred[np.arange(test_pred.shape[0]), np.squeeze(test_pred)] = 1\n",
    "\n",
    "def plot_confusion_matrix(cm, classes,\n",
    "                          normalize=False,\n",
    "                          title='Confusion matrix',\n",
    "                          cmap=plt.cm.Blues):\n",
    "    \"\"\"\n",
    "    This function prints and plots the confusion matrix.\n",
    "    Normalization can be applied by setting `normalize=True`.\n",
    "    \"\"\"\n",
    "    if normalize:\n",
    "        cm = cm.astype('float') / cm.sum(axis=1)[:, np.newaxis]\n",
    "        print(\"Normalized confusion matrix\")\n",
    "    else:\n",
    "        print('Confusion matrix, without normalization')\n",
    "\n",
    "    plt.imshow(cm, interpolation='nearest', cmap=cmap)\n",
    "    plt.title(title)\n",
    "    plt.colorbar()\n",
    "    tick_marks = np.arange(len(classes))\n",
    "    plt.xticks(tick_marks, classes, rotation=45)\n",
    "    plt.yticks(tick_marks, classes)\n",
    "\n",
    "    fmt = '.2f' if normalize else 'd'\n",
    "    thresh = cm.max() / 2.\n",
    "    for i, j in itertools.product(range(cm.shape[0]), range(cm.shape[1])):\n",
    "        plt.text(j, i, format(cm[i, j], fmt),\n",
    "                 horizontalalignment=\"center\",\n",
    "                 color=\"white\" if cm[i, j] > thresh else \"black\")\n",
    "\n",
    "    plt.tight_layout()\n",
    "    plt.ylabel('True label')\n",
    "    plt.xlabel('Predicted label')\n",
    "\n",
    "# Compute confusion matrix\n",
    "cnf_matrix = confusion_matrix(y_test.argmax(axis=1), y_pred.argmax(axis=1))\n",
    "np.set_printoptions(precision=2)\n",
    "\n",
    "# Plot non-normalized confusion matrix\n",
    "plt.figure(figsize=(10, 10))\n",
    "plot_confusion_matrix(cnf_matrix, classes=['N', 'S', 'V', 'F', 'Q'],\n",
    "                      title='Confusion matrix, with normalization',\n",
    "                      normalize=True)\n",
    "plt.show()\n",
    "\n",
    "print(classification_report(y_test.argmax(axis=1), y_pred.argmax(axis=1)))"
   ]
  },
  {
   "cell_type": "code",
   "execution_count": 31,
   "metadata": {},
   "outputs": [
    {
     "name": "stdout",
     "output_type": "stream",
     "text": [
      "Model: \"sequential_2\"\n",
      "_________________________________________________________________\n",
      "Layer (type)                 Output Shape              Param #   \n",
      "=================================================================\n",
      "conv1d_5 (Conv1D)            (None, 183, 32)           192       \n",
      "_________________________________________________________________\n",
      "dropout_6 (Dropout)          (None, 183, 32)           0         \n",
      "_________________________________________________________________\n",
      "batch_normalization_5 (Batch (None, 183, 32)           128       \n",
      "_________________________________________________________________\n",
      "activation_5 (Activation)    (None, 183, 32)           0         \n",
      "_________________________________________________________________\n",
      "conv1d_6 (Conv1D)            (None, 180, 32)           4128      \n",
      "_________________________________________________________________\n",
      "dropout_7 (Dropout)          (None, 180, 32)           0         \n",
      "_________________________________________________________________\n",
      "batch_normalization_6 (Batch (None, 180, 32)           128       \n",
      "_________________________________________________________________\n",
      "activation_6 (Activation)    (None, 180, 32)           0         \n",
      "_________________________________________________________________\n",
      "max_pooling1d_4 (MaxPooling1 (None, 90, 32)            0         \n",
      "_________________________________________________________________\n",
      "conv1d_7 (Conv1D)            (None, 87, 32)            4128      \n",
      "_________________________________________________________________\n",
      "dropout_8 (Dropout)          (None, 87, 32)            0         \n",
      "_________________________________________________________________\n",
      "batch_normalization_7 (Batch (None, 87, 32)            128       \n",
      "_________________________________________________________________\n",
      "activation_7 (Activation)    (None, 87, 32)            0         \n",
      "_________________________________________________________________\n",
      "max_pooling1d_5 (MaxPooling1 (None, 43, 32)            0         \n",
      "_________________________________________________________________\n",
      "conv1d_8 (Conv1D)            (None, 40, 32)            4128      \n",
      "_________________________________________________________________\n",
      "dropout_9 (Dropout)          (None, 40, 32)            0         \n",
      "_________________________________________________________________\n",
      "batch_normalization_8 (Batch (None, 40, 32)            128       \n",
      "_________________________________________________________________\n",
      "activation_8 (Activation)    (None, 40, 32)            0         \n",
      "_________________________________________________________________\n",
      "max_pooling1d_6 (MaxPooling1 (None, 20, 32)            0         \n",
      "_________________________________________________________________\n",
      "flatten_2 (Flatten)          (None, 640)               0         \n",
      "_________________________________________________________________\n",
      "dense_3 (Dense)              (None, 128)               82048     \n",
      "_________________________________________________________________\n",
      "dropout_10 (Dropout)         (None, 128)               0         \n",
      "_________________________________________________________________\n",
      "dense_4 (Dense)              (None, 5)                 645       \n",
      "=================================================================\n",
      "Total params: 95,781\n",
      "Trainable params: 95,525\n",
      "Non-trainable params: 256\n",
      "_________________________________________________________________\n"
     ]
    }
   ],
   "source": [
    "model_4 = keras.models.clone_model(model_1)\n",
    "model_4.summary()"
   ]
  },
  {
   "cell_type": "code",
   "execution_count": 32,
   "metadata": {},
   "outputs": [],
   "source": [
    "model_4.compile(loss='categorical_crossentropy', optimizer=Adam(), metrics=['accuracy'])"
   ]
  },
  {
   "cell_type": "code",
   "execution_count": 33,
   "metadata": {
    "scrolled": true
   },
   "outputs": [
    {
     "name": "stdout",
     "output_type": "stream",
     "text": [
      "Train on 61287 samples, validate on 26266 samples\n",
      "Epoch 1/6\n",
      "61287/61287 [==============================] - 246s 4ms/step - loss: 0.3786 - accuracy: 0.8933 - val_loss: 0.3296 - val_accuracy: 0.9124\n",
      "Epoch 2/6\n",
      "61287/61287 [==============================] - 219s 4ms/step - loss: 0.2332 - accuracy: 0.9364 - val_loss: 0.2170 - val_accuracy: 0.9456\n",
      "Epoch 3/6\n",
      "61287/61287 [==============================] - 219s 4ms/step - loss: 0.1996 - accuracy: 0.9446 - val_loss: 0.2047 - val_accuracy: 0.9499\n",
      "Epoch 4/6\n",
      "61287/61287 [==============================] - 219s 4ms/step - loss: 0.1769 - accuracy: 0.9505 - val_loss: 0.1662 - val_accuracy: 0.9580\n",
      "Epoch 5/6\n",
      "61287/61287 [==============================] - 219s 4ms/step - loss: 0.1628 - accuracy: 0.9545 - val_loss: 0.1522 - val_accuracy: 0.9582\n",
      "Epoch 6/6\n",
      "61287/61287 [==============================] - 219s 4ms/step - loss: 0.1536 - accuracy: 0.9566 - val_loss: 0.1837 - val_accuracy: 0.9509\n"
     ]
    }
   ],
   "source": [
    "history_4 = model_4.fit(X_train, y_train,\n",
    "                    epochs=6, \n",
    "                    batch_size=64, \n",
    "                    verbose=1, \n",
    "                    validation_data=(X_test, y_test))"
   ]
  },
  {
   "cell_type": "code",
   "execution_count": 34,
   "metadata": {},
   "outputs": [
    {
     "data": {
      "image/png": "[encoded data removed]",
      "text/plain": [
       "<Figure size 576x432 with 1 Axes>"
      ]
     },
     "metadata": {
      "needs_background": "light"
     },
     "output_type": "display_data"
    }
   ],
   "source": [
    "plt.figure(figsize=(8,6))\n",
    "plt.plot(history_4.history['accuracy'], label = 'train', color='red')\n",
    "plt.plot(history_4.history['val_accuracy'], label = 'test', color='green')\n",
    "plt.xlabel('epochs')\n",
    "plt.ylabel('accuracy')\n",
    "plt.legend(loc='best')\n",
    "plt.title('Accuracy');"
   ]
  },
  {
   "cell_type": "code",
   "execution_count": 35,
   "metadata": {},
   "outputs": [
    {
     "data": {
      "image/png": "[encoded data removed]",
      "text/plain": [
       "<Figure size 576x432 with 1 Axes>"
      ]
     },
     "metadata": {
      "needs_background": "light"
     },
     "output_type": "display_data"
    }
   ],
   "source": [
    "plt.figure(figsize=(8,6))\n",
    "plt.plot(history_4.history['loss'], label = 'train', color='red')\n",
    "plt.plot(history_4.history['val_loss'], label = 'test', color='green')\n",
    "plt.xlabel('epochs')\n",
    "plt.ylabel('loss')\n",
    "plt.legend(loc='best')\n",
    "plt.title('Loss');"
   ]
  },
  {
   "cell_type": "code",
   "execution_count": 36,
   "metadata": {},
   "outputs": [
    {
     "name": "stdout",
     "output_type": "stream",
     "text": [
      "Normalized confusion matrix\n"
     ]
    },
    {
     "data": {
      "image/png": "[encoded data removed]",
      "text/plain": [
       "<Figure size 720x720 with 2 Axes>"
      ]
     },
     "metadata": {
      "needs_background": "light"
     },
     "output_type": "display_data"
    },
    {
     "name": "stdout",
     "output_type": "stream",
     "text": [
      "              precision    recall  f1-score   support\n",
      "\n",
      "           0       0.95      1.00      0.97     21693\n",
      "           1       0.99      0.42      0.59       671\n",
      "           2       0.87      0.80      0.84      1788\n",
      "           3       1.00      0.06      0.11       197\n",
      "           4       1.00      0.86      0.92      1917\n",
      "\n",
      "    accuracy                           0.95     26266\n",
      "   macro avg       0.96      0.63      0.69     26266\n",
      "weighted avg       0.95      0.95      0.94     26266\n",
      "\n"
     ]
    }
   ],
   "source": [
    "test_pred = model_4.predict_classes(X_test)\n",
    "\n",
    "test_pred.shape\n",
    "\n",
    "test_pred = test_pred[:,np.newaxis]\n",
    "y_pred = np.zeros((test_pred.shape[0], test_pred.max()+1), dtype=int)\n",
    "y_pred[np.arange(test_pred.shape[0]), np.squeeze(test_pred)] = 1\n",
    "\n",
    "def plot_confusion_matrix(cm, classes,\n",
    "                          normalize=False,\n",
    "                          title='Confusion matrix',\n",
    "                          cmap=plt.cm.Blues):\n",
    "    \"\"\"\n",
    "    This function prints and plots the confusion matrix.\n",
    "    Normalization can be applied by setting `normalize=True`.\n",
    "    \"\"\"\n",
    "    if normalize:\n",
    "        cm = cm.astype('float') / cm.sum(axis=1)[:, np.newaxis]\n",
    "        print(\"Normalized confusion matrix\")\n",
    "    else:\n",
    "        print('Confusion matrix, without normalization')\n",
    "\n",
    "    plt.imshow(cm, interpolation='nearest', cmap=cmap)\n",
    "    plt.title(title)\n",
    "    plt.colorbar()\n",
    "    tick_marks = np.arange(len(classes))\n",
    "    plt.xticks(tick_marks, classes, rotation=45)\n",
    "    plt.yticks(tick_marks, classes)\n",
    "\n",
    "    fmt = '.2f' if normalize else 'd'\n",
    "    thresh = cm.max() / 2.\n",
    "    for i, j in itertools.product(range(cm.shape[0]), range(cm.shape[1])):\n",
    "        plt.text(j, i, format(cm[i, j], fmt),\n",
    "                 horizontalalignment=\"center\",\n",
    "                 color=\"white\" if cm[i, j] > thresh else \"black\")\n",
    "\n",
    "    plt.tight_layout()\n",
    "    plt.ylabel('True label')\n",
    "    plt.xlabel('Predicted label')\n",
    "\n",
    "# Compute confusion matrix\n",
    "cnf_matrix = confusion_matrix(y_test.argmax(axis=1), y_pred.argmax(axis=1))\n",
    "np.set_printoptions(precision=2)\n",
    "\n",
    "# Plot non-normalized confusion matrix\n",
    "plt.figure(figsize=(10, 10))\n",
    "plot_confusion_matrix(cnf_matrix, classes=['N', 'S', 'V', 'F', 'Q'],\n",
    "                      title='Confusion matrix, with normalization',\n",
    "                      normalize=True)\n",
    "plt.show()\n",
    "\n",
    "print(classification_report(y_test.argmax(axis=1), y_pred.argmax(axis=1)))"
   ]
  },
  {
   "cell_type": "code",
   "execution_count": 6,
   "metadata": {},
   "outputs": [
    {
     "name": "stdout",
     "output_type": "stream",
     "text": [
      "Model: \"sequential_2\"\n",
      "_________________________________________________________________\n",
      "Layer (type)                 Output Shape              Param #   \n",
      "=================================================================\n",
      "conv1d_5 (Conv1D)            (None, 183, 32)           192       \n",
      "_________________________________________________________________\n",
      "dropout_6 (Dropout)          (None, 183, 32)           0         \n",
      "_________________________________________________________________\n",
      "batch_normalization_5 (Batch (None, 183, 32)           128       \n",
      "_________________________________________________________________\n",
      "activation_5 (Activation)    (None, 183, 32)           0         \n",
      "_________________________________________________________________\n",
      "conv1d_6 (Conv1D)            (None, 180, 32)           4128      \n",
      "_________________________________________________________________\n",
      "dropout_7 (Dropout)          (None, 180, 32)           0         \n",
      "_________________________________________________________________\n",
      "batch_normalization_6 (Batch (None, 180, 32)           128       \n",
      "_________________________________________________________________\n",
      "activation_6 (Activation)    (None, 180, 32)           0         \n",
      "_________________________________________________________________\n",
      "max_pooling1d_4 (MaxPooling1 (None, 90, 32)            0         \n",
      "_________________________________________________________________\n",
      "conv1d_7 (Conv1D)            (None, 87, 32)            4128      \n",
      "_________________________________________________________________\n",
      "dropout_8 (Dropout)          (None, 87, 32)            0         \n",
      "_________________________________________________________________\n",
      "batch_normalization_7 (Batch (None, 87, 32)            128       \n",
      "_________________________________________________________________\n",
      "activation_7 (Activation)    (None, 87, 32)            0         \n",
      "_________________________________________________________________\n",
      "max_pooling1d_5 (MaxPooling1 (None, 43, 32)            0         \n",
      "_________________________________________________________________\n",
      "conv1d_8 (Conv1D)            (None, 40, 32)            4128      \n",
      "_________________________________________________________________\n",
      "dropout_9 (Dropout)          (None, 40, 32)            0         \n",
      "_________________________________________________________________\n",
      "batch_normalization_8 (Batch (None, 40, 32)            128       \n",
      "_________________________________________________________________\n",
      "activation_8 (Activation)    (None, 40, 32)            0         \n",
      "_________________________________________________________________\n",
      "max_pooling1d_6 (MaxPooling1 (None, 20, 32)            0         \n",
      "_________________________________________________________________\n",
      "flatten_2 (Flatten)          (None, 640)               0         \n",
      "_________________________________________________________________\n",
      "dense_3 (Dense)              (None, 128)               82048     \n",
      "_________________________________________________________________\n",
      "dropout_10 (Dropout)         (None, 128)               0         \n",
      "_________________________________________________________________\n",
      "dense_4 (Dense)              (None, 5)                 645       \n",
      "=================================================================\n",
      "Total params: 95,781\n",
      "Trainable params: 95,525\n",
      "Non-trainable params: 256\n",
      "_________________________________________________________________\n"
     ]
    }
   ],
   "source": [
    "model_3 = keras.models.clone_model(model_1)\n",
    "model_3.summary()"
   ]
  },
  {
   "cell_type": "code",
   "execution_count": 7,
   "metadata": {},
   "outputs": [],
   "source": [
    "model_3.compile(loss='categorical_crossentropy', optimizer=Adam(), metrics=['accuracy'])"
   ]
  },
  {
   "cell_type": "code",
   "execution_count": 26,
   "metadata": {
    "scrolled": true
   },
   "outputs": [
    {
     "name": "stdout",
     "output_type": "stream",
     "text": [
      "Train on 61287 samples, validate on 26266 samples\n",
      "Epoch 1/5\n",
      "61287/61287 [==============================] - 226s 4ms/step - loss: 0.3326 - accuracy: 0.9057 - val_loss: 0.2346 - val_accuracy: 0.9421\n",
      "Epoch 2/5\n",
      "61287/61287 [==============================] - 237s 4ms/step - loss: 0.2164 - accuracy: 0.9393 - val_loss: 0.1949 - val_accuracy: 0.9507\n",
      "Epoch 3/5\n",
      "61287/61287 [==============================] - 223s 4ms/step - loss: 0.1893 - accuracy: 0.9472 - val_loss: 0.1906 - val_accuracy: 0.9451\n",
      "Epoch 4/5\n",
      "61287/61287 [==============================] - 231s 4ms/step - loss: 0.1720 - accuracy: 0.9516 - val_loss: 0.1519 - val_accuracy: 0.9570\n",
      "Epoch 5/5\n",
      "61287/61287 [==============================] - 236s 4ms/step - loss: 0.1585 - accuracy: 0.9549 - val_loss: 0.1381 - val_accuracy: 0.9577\n"
     ]
    }
   ],
   "source": [
    "history_3 = model_3.fit(X_train, y_train,\n",
    "                    epochs=5, \n",
    "                    batch_size=32, \n",
    "                    verbose=1, \n",
    "                    validation_data=(X_test, y_test))"
   ]
  },
  {
   "cell_type": "code",
   "execution_count": 30,
   "metadata": {},
   "outputs": [
    {
     "data": {
      "image/png": "[encoded data removed]",
      "text/plain": [
       "<Figure size 576x432 with 1 Axes>"
      ]
     },
     "metadata": {
      "needs_background": "light"
     },
     "output_type": "display_data"
    }
   ],
   "source": [
    "plt.figure(figsize=(8,6))\n",
    "plt.plot(history_3.history['accuracy'], label = 'train', color='red')\n",
    "plt.plot(history_3.history['val_accuracy'], label = 'test', color='green')\n",
    "plt.xlabel('epochs')\n",
    "plt.ylabel('accuracy')\n",
    "plt.legend(loc='best')\n",
    "plt.title('Accuracy');"
   ]
  },
  {
   "cell_type": "code",
   "execution_count": 29,
   "metadata": {},
   "outputs": [
    {
     "data": {
      "image/png": "[encoded data removed]",
      "text/plain": [
       "<Figure size 576x432 with 1 Axes>"
      ]
     },
     "metadata": {
      "needs_background": "light"
     },
     "output_type": "display_data"
    }
   ],
   "source": [
    "plt.figure(figsize=(8,6))\n",
    "plt.plot(history_3.history['loss'], label = 'train', color='red')\n",
    "plt.plot(history_3.history['val_loss'], label = 'test', color='green')\n",
    "plt.xlabel('epochs')\n",
    "plt.ylabel('loss')\n",
    "plt.legend(loc='best')\n",
    "plt.title('Loss');"
   ]
  },
  {
   "cell_type": "code",
   "execution_count": 28,
   "metadata": {},
   "outputs": [
    {
     "name": "stdout",
     "output_type": "stream",
     "text": [
      "Normalized confusion matrix\n"
     ]
    },
    {
     "data": {
      "image/png": "[encoded data removed]",
      "text/plain": [
       "<Figure size 720x720 with 2 Axes>"
      ]
     },
     "metadata": {
      "needs_background": "light"
     },
     "output_type": "display_data"
    },
    {
     "name": "stdout",
     "output_type": "stream",
     "text": [
      "              precision    recall  f1-score   support\n",
      "\n",
      "           0       0.96      1.00      0.98     21693\n",
      "           1       0.86      0.50      0.63       671\n",
      "           2       0.93      0.79      0.86      1788\n",
      "           3       0.81      0.15      0.25       197\n",
      "           4       0.98      0.93      0.96      1917\n",
      "\n",
      "    accuracy                           0.96     26266\n",
      "   macro avg       0.91      0.67      0.73     26266\n",
      "weighted avg       0.96      0.96      0.95     26266\n",
      "\n"
     ]
    }
   ],
   "source": [
    "test_pred = model_3.predict_classes(X_test)\n",
    "\n",
    "test_pred.shape\n",
    "\n",
    "test_pred = test_pred[:,np.newaxis]\n",
    "y_pred = np.zeros((test_pred.shape[0], test_pred.max()+1), dtype=int)\n",
    "y_pred[np.arange(test_pred.shape[0]), np.squeeze(test_pred)] = 1\n",
    "\n",
    "def plot_confusion_matrix(cm, classes,\n",
    "                          normalize=False,\n",
    "                          title='Confusion matrix',\n",
    "                          cmap=plt.cm.Blues):\n",
    "    \"\"\"\n",
    "    This function prints and plots the confusion matrix.\n",
    "    Normalization can be applied by setting `normalize=True`.\n",
    "    \"\"\"\n",
    "    if normalize:\n",
    "        cm = cm.astype('float') / cm.sum(axis=1)[:, np.newaxis]\n",
    "        print(\"Normalized confusion matrix\")\n",
    "    else:\n",
    "        print('Confusion matrix, without normalization')\n",
    "\n",
    "    plt.imshow(cm, interpolation='nearest', cmap=cmap)\n",
    "    plt.title(title)\n",
    "    plt.colorbar()\n",
    "    tick_marks = np.arange(len(classes))\n",
    "    plt.xticks(tick_marks, classes, rotation=45)\n",
    "    plt.yticks(tick_marks, classes)\n",
    "\n",
    "    fmt = '.2f' if normalize else 'd'\n",
    "    thresh = cm.max() / 2.\n",
    "    for i, j in itertools.product(range(cm.shape[0]), range(cm.shape[1])):\n",
    "        plt.text(j, i, format(cm[i, j], fmt),\n",
    "                 horizontalalignment=\"center\",\n",
    "                 color=\"white\" if cm[i, j] > thresh else \"black\")\n",
    "\n",
    "    plt.tight_layout()\n",
    "    plt.ylabel('True label')\n",
    "    plt.xlabel('Predicted label')\n",
    "\n",
    "# Compute confusion matrix\n",
    "cnf_matrix = confusion_matrix(y_test.argmax(axis=1), y_pred.argmax(axis=1))\n",
    "np.set_printoptions(precision=2)\n",
    "\n",
    "# Plot non-normalized confusion matrix\n",
    "plt.figure(figsize=(10, 10))\n",
    "plot_confusion_matrix(cnf_matrix, classes=['N', 'S', 'V', 'F', 'Q'],\n",
    "                      title='Confusion matrix, with normalization',\n",
    "                      normalize=True)\n",
    "plt.show()\n",
    "\n",
    "print(classification_report(y_test.argmax(axis=1), y_pred.argmax(axis=1)))"
   ]
  }
 ],
 "metadata": {
  "colab": {
   "collapsed_sections": [],
   "name": "AISaturdays_ChallengeSession5.ipynb",
   "provenance": [
    {
     "file_id": "1eDULJv1udQFKK4WLY0M_f9jBxibhzmXs",
     "timestamp": 1583527306059
    }
   ]
  },
  "kernelspec": {
   "display_name": "Python 3",
   "language": "python",
   "name": "python3"
  },
  "language_info": {
   "codemirror_mode": {
    "name": "ipython",
    "version": 3
   },
   "file_extension": ".py",
   "mimetype": "text/x-python",
   "name": "python",
   "nbconvert_exporter": "python",
   "pygments_lexer": "ipython3",
   "version": "3.7.9"
  }
 },
 "nbformat": 4,
 "nbformat_minor": 1
}
