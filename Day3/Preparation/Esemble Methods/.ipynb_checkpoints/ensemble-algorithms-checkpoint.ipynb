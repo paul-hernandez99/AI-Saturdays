{
 "cells": [
  {
   "cell_type": "markdown",
   "metadata": {},
   "source": [
    "# Gradient Boosting and Random Forest examples"
   ]
  },
  {
   "cell_type": "code",
   "execution_count": null,
   "metadata": {},
   "outputs": [],
   "source": [
    "!pip install xgboost"
   ]
  },
  {
   "cell_type": "code",
   "execution_count": null,
   "metadata": {
    "ExecuteTime": {
     "end_time": "2020-09-15T05:41:37.085861Z",
     "start_time": "2020-09-15T05:41:35.815763Z"
    }
   },
   "outputs": [],
   "source": [
    "# Data manipulation\n",
    "import numpy as np\n",
    "import pandas as pd\n",
    "\n",
    "# Data Split\n",
    "from sklearn.model_selection import train_test_split\n",
    "\n",
    "# Model implementation\n",
    "from sklearn.ensemble import RandomForestRegressor, RandomForestClassifier\n",
    "from xgboost import XGBClassifier\n",
    "\n",
    "# Model analysis metrics\n",
    "# Classifier\n",
    "from sklearn.metrics import confusion_matrix, classification_report\n",
    "from sklearn.metrics import roc_auc_score, roc_curve\n",
    "\n",
    "# Regressor\n",
    "from sklearn.metrics import mean_squared_error, r2_score\n",
    "\n",
    "# Save models into a file\n",
    "import pickle\n",
    "\n",
    "# Data visualization\n",
    "import matplotlib.pyplot as plt\n",
    "import seaborn as sns\n",
    "from mpl_toolkits.mplot3d import Axes3D"
   ]
  },
  {
   "cell_type": "code",
   "execution_count": null,
   "metadata": {
    "ExecuteTime": {
     "end_time": "2020-09-15T05:41:39.927426Z",
     "start_time": "2020-09-15T05:41:39.918444Z"
    }
   },
   "outputs": [],
   "source": [
    "# Magic command:\n",
    "%matplotlib notebook"
   ]
  },
  {
   "cell_type": "markdown",
   "metadata": {},
   "source": [
    "## Classifier (XGBoost)\n",
    "\n",
    "Documentation: \n",
    "https://xgboost.readthedocs.io/en/latest/python/python_api.html"
   ]
  },
  {
   "cell_type": "code",
   "execution_count": null,
   "metadata": {
    "ExecuteTime": {
     "end_time": "2020-09-15T05:41:42.257807Z",
     "start_time": "2020-09-15T05:41:42.239161Z"
    }
   },
   "outputs": [],
   "source": [
    "# Read the CSV file with pandas\n",
    "heart_data = pd.read_csv(\"./framingham.csv\")"
   ]
  },
  {
   "cell_type": "code",
   "execution_count": null,
   "metadata": {
    "ExecuteTime": {
     "end_time": "2020-09-15T05:41:42.996852Z",
     "start_time": "2020-09-15T05:41:42.990653Z"
    }
   },
   "outputs": [],
   "source": [
    "#heart_data.dropna(inplace=True)\n",
    "heart_data.head()\n",
    "heart_data.TenYearCHD.mean()"
   ]
  },
  {
   "cell_type": "code",
   "execution_count": null,
   "metadata": {
    "ExecuteTime": {
     "end_time": "2020-09-15T05:41:44.058152Z",
     "start_time": "2020-09-15T05:41:44.046109Z"
    }
   },
   "outputs": [],
   "source": [
    "# We will do exactly the same as we did with the logistic regression example\n",
    "# Obtain data \n",
    "x = heart_data.drop(\"TenYearCHD\", axis=1)\n",
    "y = heart_data[\"TenYearCHD\"]\n",
    "\n",
    "# Split into training and testing sets\n",
    "xtrain, xtest, ytrain, ytest = train_test_split(x,y, stratify=y, test_size=.4)"
   ]
  },
  {
   "cell_type": "code",
   "execution_count": null,
   "metadata": {
    "ExecuteTime": {
     "end_time": "2020-09-15T05:41:45.420247Z",
     "start_time": "2020-09-15T05:41:44.993149Z"
    }
   },
   "outputs": [],
   "source": [
    "# Delcare an instance of the random forest classifier (read documentation and feel free\n",
    "# to experiment with the parameters)\n",
    "gradient_boosting_cls = XGBClassifier(\n",
    "    n_estimators=400,\n",
    "    learning_rate=0.001,\n",
    "    max_depth=3,\n",
    "    scale_pos_weight=5.5\n",
    ")\n",
    "\n",
    "gradient_boosting_cls.fit(xtrain,ytrain)"
   ]
  },
  {
   "cell_type": "code",
   "execution_count": null,
   "metadata": {
    "ExecuteTime": {
     "end_time": "2020-09-15T05:41:46.215897Z",
     "start_time": "2020-09-15T05:41:46.049185Z"
    },
    "run_control": {
     "marked": true
    },
    "scrolled": false
   },
   "outputs": [],
   "source": [
    "predictions = gradient_boosting_cls.predict(xtrain)\n",
    "plt.figure()\n",
    "confusion_mat = confusion_matrix(ytrain,predictions)\n",
    "sns.heatmap(confusion_mat,annot=True)\n",
    "plt.show()"
   ]
  },
  {
   "cell_type": "code",
   "execution_count": null,
   "metadata": {
    "ExecuteTime": {
     "end_time": "2020-09-15T05:41:52.091853Z",
     "start_time": "2020-09-15T05:41:52.018068Z"
    }
   },
   "outputs": [],
   "source": [
    "# Generate a set of predictions using the trained model\n",
    "predictions = gradient_boosting_cls.predict(xtest)\n",
    "# We can obtain the accuracy\n",
    "print(f\"Accuracy on test set:{round(gradient_boosting_cls.score(xtest,ytest),2)}\")"
   ]
  },
  {
   "cell_type": "code",
   "execution_count": null,
   "metadata": {
    "ExecuteTime": {
     "end_time": "2020-09-15T05:41:54.317336Z",
     "start_time": "2020-09-15T05:41:54.218593Z"
    }
   },
   "outputs": [],
   "source": [
    "# As we did before, due to the nature of classification, we can use a confusion \n",
    "# Matrix to evaluate the performance\n",
    "plt.figure()\n",
    "confusion_mat = confusion_matrix(ytest,predictions)\n",
    "sns.heatmap(confusion_mat,annot=True)\n",
    "plt.show()"
   ]
  },
  {
   "cell_type": "code",
   "execution_count": null,
   "metadata": {
    "ExecuteTime": {
     "end_time": "2020-09-15T05:41:57.021324Z",
     "start_time": "2020-09-15T05:41:57.004556Z"
    }
   },
   "outputs": [],
   "source": [
    "# It is possible to obtain the report of classification\n",
    "print(classification_report(ytest,predictions))"
   ]
  },
  {
   "cell_type": "code",
   "execution_count": null,
   "metadata": {
    "ExecuteTime": {
     "end_time": "2020-09-15T05:41:59.704764Z",
     "start_time": "2020-09-15T05:41:59.598214Z"
    }
   },
   "outputs": [],
   "source": [
    "# It is now possible to obtain a roc and a auc score:\n",
    "predict_proba = gradient_boosting_cls.predict_proba(xtest.fillna(-1000))[:,1]\n",
    "roc_auc = roc_auc_score(ytest,predict_proba )\n",
    "fpr, tpr, thresholds = roc_curve(ytest, predict_proba)\n",
    "\n",
    "fig,ax = plt.subplots(figsize=(5,5))\n",
    "#ax.set_aspect(\"equal\")\n",
    "ax.plot(fpr, tpr, label=f'RandomForestRegression (area = {round(roc_auc,2)})')\n",
    "plt.plot([0, 1], [0, 1],'r--', label=\"Random Classification\")\n",
    "plt.xlim(0.0, 1.0)\n",
    "plt.ylim(0.0, 1.05)\n",
    "plt.grid()\n",
    "plt.xlabel('False Positive Rate')\n",
    "plt.ylabel('True Positive Rate')\n",
    "plt.title('Receiver operating characteristic (ROC)')\n",
    "plt.legend(loc=\"lower right\")\n",
    "plt.show()"
   ]
  },
  {
   "cell_type": "code",
   "execution_count": null,
   "metadata": {
    "ExecuteTime": {
     "end_time": "2020-09-15T05:42:08.416327Z",
     "start_time": "2020-09-15T05:42:07.617698Z"
    }
   },
   "outputs": [],
   "source": [
    "# Determine the feature importance\n",
    "imp = pd.Series({x.columns[i]:gradient_boosting_cls.feature_importances_[i]\n",
    "                 for i in range(len(x.columns))}).sort_values(ascending=False)\n",
    "\n",
    "plt.figure()\n",
    "plt.bar(imp.index, imp)\n",
    "plt.title(\"Feature Importance\")\n",
    "plt.grid()\n",
    "plt.xticks(rotation=90)\n",
    "plt.show()"
   ]
  },
  {
   "cell_type": "code",
   "execution_count": null,
   "metadata": {
    "ExecuteTime": {
     "end_time": "2020-09-15T05:42:14.770677Z",
     "start_time": "2020-09-15T05:42:14.323435Z"
    },
    "scrolled": false
   },
   "outputs": [],
   "source": [
    "# 3D visualization\n",
    "fig = plt.figure(figsize=(10,8))\n",
    "ax = fig.add_subplot(221,projection='3d')\n",
    "p = ax.scatter(heart_data.BMI,heart_data.age, heart_data.sysBP, c=heart_data.TenYearCHD, s=2)\n",
    "fig.colorbar(p)\n",
    "ax.set_xlabel(\"BMI\")\n",
    "ax.set_ylabel(\"age\")\n",
    "ax.set_zlabel(\"sysBP\")\n",
    "plt.title(\"Real data\")\n",
    "\n",
    "ax = fig.add_subplot(222,projection='3d')\n",
    "p = ax.scatter(heart_data.BMI,heart_data.age, heart_data.sysBP, c=gradient_boosting_cls.predict(x), s=2)\n",
    "fig.colorbar(p)\n",
    "ax.set_xlabel(\"BMI\")\n",
    "ax.set_ylabel(\"age\")\n",
    "ax.set_zlabel(\"sysBP\")\n",
    "plt.title(\"Predicted data\")\n",
    "\n",
    "ax = fig.add_subplot(223,projection='3d')\n",
    "f = ax.scatter(heart_data.BMI,heart_data.age, heart_data.sysBP, c=gradient_boosting_cls.predict_proba(x)[:,1], s=2)\n",
    "fig.colorbar(f)\n",
    "ax.set_xlabel(\"BMI\")\n",
    "ax.set_ylabel(\"age\")\n",
    "ax.set_zlabel(\"sysBP\")\n",
    "plt.title(\"Probability of predicted data\")\n",
    "\n",
    "\n",
    "plt.show()\n",
    "plt.tight_layout()"
   ]
  },
  {
   "cell_type": "markdown",
   "metadata": {},
   "source": [
    "## Random Forest Regressor\n",
    "\n",
    "Documentation:\n",
    "\n",
    "https://scikit-learn.org/stable/modules/generated/sklearn.ensemble.RandomForestRegressor.html"
   ]
  },
  {
   "cell_type": "code",
   "execution_count": null,
   "metadata": {
    "ExecuteTime": {
     "end_time": "2020-09-15T05:42:24.968532Z",
     "start_time": "2020-09-15T05:42:24.251548Z"
    }
   },
   "outputs": [],
   "source": [
    "# Obtain data for regressor predictions\n",
    "\n",
    "from sklearn.datasets import load_boston\n",
    "bh_data = load_boston() # Same as the Linear regression example"
   ]
  },
  {
   "cell_type": "code",
   "execution_count": null,
   "metadata": {
    "ExecuteTime": {
     "end_time": "2020-09-15T05:42:25.787798Z",
     "start_time": "2020-09-15T05:42:25.763983Z"
    }
   },
   "outputs": [],
   "source": [
    "# See the data, we will do the same as we did int the linear reg. example\n",
    "df = pd.DataFrame(bh_data.data, columns=bh_data.feature_names)\n",
    "df[\"MEDV\"] = bh_data.target\n",
    "df.head()"
   ]
  },
  {
   "cell_type": "code",
   "execution_count": null,
   "metadata": {
    "ExecuteTime": {
     "end_time": "2020-09-15T05:42:26.985230Z",
     "start_time": "2020-09-15T05:42:26.977026Z"
    }
   },
   "outputs": [],
   "source": [
    "# Select the features for the model (all the features)\n",
    "X = df.drop(\"MEDV\",axis=1)\n",
    "Y = df[\"MEDV\"]\n",
    "\n",
    "# Split the data into test and train\n",
    "X_train, X_test, Y_train, Y_test = train_test_split(X,Y, test_size=0.2, random_state=9)"
   ]
  },
  {
   "cell_type": "code",
   "execution_count": null,
   "metadata": {
    "ExecuteTime": {
     "end_time": "2020-09-15T05:42:33.275827Z",
     "start_time": "2020-09-15T05:42:32.901196Z"
    }
   },
   "outputs": [],
   "source": [
    "# Create an instance of the Random Forest Regressor\n",
    "random_forest_reg = RandomForestRegressor(n_estimators=100)\n",
    "\n",
    "# Fit the data to the random forest regressor model (train the model)\n",
    "random_forest_reg.fit(X_train,Y_train)"
   ]
  },
  {
   "cell_type": "code",
   "execution_count": null,
   "metadata": {
    "ExecuteTime": {
     "end_time": "2020-09-15T05:42:34.706045Z",
     "start_time": "2020-09-15T05:42:34.685295Z"
    }
   },
   "outputs": [],
   "source": [
    "# Predict the values\n",
    "predictions = random_forest_reg.predict(X_test)"
   ]
  },
  {
   "cell_type": "code",
   "execution_count": null,
   "metadata": {
    "ExecuteTime": {
     "end_time": "2020-09-15T05:42:36.200988Z",
     "start_time": "2020-09-15T05:42:35.996420Z"
    }
   },
   "outputs": [],
   "source": [
    "# Determine the importance\n",
    "imp = pd.Series({X.columns[i]:random_forest_reg.feature_importances_[i] for i in range(len(X.columns))}).sort_values(ascending=False)\n",
    "\n",
    "plt.figure()\n",
    "plt.bar(imp.index, imp)\n",
    "plt.title(\"Feature Importance\")\n",
    "plt.grid()\n",
    "plt.xticks(rotation=90)\n",
    "plt.show()"
   ]
  },
  {
   "cell_type": "code",
   "execution_count": null,
   "metadata": {
    "ExecuteTime": {
     "end_time": "2020-09-15T05:43:04.832922Z",
     "start_time": "2020-09-15T05:43:04.826386Z"
    }
   },
   "outputs": [],
   "source": [
    "# To determine the performance of the model we can use some metrics\n",
    "\n",
    "# Square root of the mean squared error:\n",
    "test_rmse = np.sqrt(mean_squared_error(Y_test,predictions))\n",
    "\n",
    "# Determination coeficient (R2)\n",
    "test_r2sc = r2_score(Y_test,predictions)\n",
    "\n",
    "# Remember the lower the value is the better it is\n",
    "print(\"Square root of the mean squared error\",test_rmse)\n",
    "\n",
    "# The closer to one the better\n",
    "print(\"Determination Coeficient\",test_r2sc)"
   ]
  },
  {
   "cell_type": "code",
   "execution_count": null,
   "metadata": {
    "ExecuteTime": {
     "end_time": "2020-09-15T05:43:10.172869Z",
     "start_time": "2020-09-15T05:43:10.112432Z"
    }
   },
   "outputs": [],
   "source": [
    "# 3D visualization\n",
    "fig = plt.figure()\n",
    "ax = fig.add_subplot(111,projection='3d')\n",
    "ax.scatter(X.LSTAT,X.RM, Y, s=1)\n",
    "ax.scatter(X.LSTAT, X.RM, random_forest_reg.predict(X), s=1, c=X.NOX, cmap=\"YlOrRd\")\n",
    "ax.set_xlabel(\"LSTAT\")\n",
    "ax.set_ylabel(\"RM\")\n",
    "ax.set_zlabel(\"MEDV\")\n",
    "plt.show()"
   ]
  }
 ],
 "metadata": {
  "hide_input": false,
  "kernelspec": {
   "display_name": "Python 3",
   "language": "python",
   "name": "python3"
  },
  "language_info": {
   "codemirror_mode": {
    "name": "ipython",
    "version": 3
   },
   "file_extension": ".py",
   "mimetype": "text/x-python",
   "name": "python",
   "nbconvert_exporter": "python",
   "pygments_lexer": "ipython3",
   "version": "3.7.9"
  },
  "varInspector": {
   "cols": {
    "lenName": 16,
    "lenType": 16,
    "lenVar": 40
   },
   "kernels_config": {
    "python": {
     "delete_cmd_postfix": "",
     "delete_cmd_prefix": "del ",
     "library": "var_list.py",
     "varRefreshCmd": "print(var_dic_list())"
    },
    "r": {
     "delete_cmd_postfix": ") ",
     "delete_cmd_prefix": "rm(",
     "library": "var_list.r",
     "varRefreshCmd": "cat(var_dic_list()) "
    }
   },
   "types_to_exclude": [
    "module",
    "function",
    "builtin_function_or_method",
    "instance",
    "_Feature"
   ],
   "window_display": false
  }
 },
 "nbformat": 4,
 "nbformat_minor": 2
}
