{
 "cells": [
  {
   "cell_type": "markdown",
   "metadata": {},
   "source": [
    "# **AISaturdays Rental Challenge**\n",
    "\n",
    "![AISaturdays](https://www.saturdays.ai/assets/images/ai-saturdays-122x122.png)\n",
    "\n",
    "Bienvenido al reto de **AISaturdays** de Inteligencia Artificial para la predicción de precios de rentals de los barrios de una ciudad. En este ejercicio estimaremos el precio de una oferta de alquiler, dependiendo de unos datos descritos más abajo.\n",
    "\n",
    "**Instrucciones:**\n",
    "\n",
    "- Se usará el lenguaje de programación Python 3.\n",
    "- Se usarán las librerías de python: Pandas, MatPlotLib, Numpy.\n",
    "\n",
    "**Mediante este ejercicio, aprenderemos:**\n",
    "- Entender y ejecutar los NoteBooks con Python.\n",
    "- Ser capaz de utilizar funciones de Python y librerías adicionales.\n",
    "- Dataset:\n",
    " - Obtener el dataset y previsualizar la información del dataset.\n",
    " - Limpiar y normalizar la información del dataset.\n",
    " - Representar y analizar la información del dataset.\n",
    "- Aplicar el algoritmo de Random Forest\n",
    "- Mejorar la predicción usando Hyperparameter Tuning, Feature engineering y Gradient Boosting\n",
    "\n",
    "¡Empecemos!\n"
   ]
  },
  {
   "cell_type": "markdown",
   "metadata": {},
   "source": [
    "#1.Importación de librerias "
   ]
  },
  {
   "cell_type": "code",
   "execution_count": 1,
   "metadata": {},
   "outputs": [],
   "source": [
    "import pandas as pd\n",
    "import matplotlib\n",
    "import matplotlib.pyplot as plt\n",
    "import seaborn as sns\n",
    "import numpy as np\n",
    "import statsmodels.api as sm\n",
    "import scipy.stats as stats"
   ]
  },
  {
   "cell_type": "markdown",
   "metadata": {},
   "source": [
    "#2. Dataset"
   ]
  },
  {
   "cell_type": "markdown",
   "metadata": {},
   "source": [
    "0. Lee el .csv con los datos y muestra las primeras filas."
   ]
  },
  {
   "cell_type": "code",
   "execution_count": 2,
   "metadata": {},
   "outputs": [
    {
     "data": {
      "text/html": [
       "<div>\n",
       "<style scoped>\n",
       "    .dataframe tbody tr th:only-of-type {\n",
       "        vertical-align: middle;\n",
       "    }\n",
       "\n",
       "    .dataframe tbody tr th {\n",
       "        vertical-align: top;\n",
       "    }\n",
       "\n",
       "    .dataframe thead th {\n",
       "        text-align: right;\n",
       "    }\n",
       "</style>\n",
       "<table border=\"1\" class=\"dataframe\">\n",
       "  <thead>\n",
       "    <tr style=\"text-align: right;\">\n",
       "      <th></th>\n",
       "      <th>Unnamed: 0</th>\n",
       "      <th>id</th>\n",
       "      <th>name</th>\n",
       "      <th>host_id</th>\n",
       "      <th>host_name</th>\n",
       "      <th>neighbourhood_group</th>\n",
       "      <th>neighbourhood</th>\n",
       "      <th>latitude</th>\n",
       "      <th>longitude</th>\n",
       "      <th>room_type</th>\n",
       "      <th>minimum_nights</th>\n",
       "      <th>number_of_reviews</th>\n",
       "      <th>last_review</th>\n",
       "      <th>reviews_per_month</th>\n",
       "      <th>calculated_host_listings_count</th>\n",
       "      <th>availability_365</th>\n",
       "      <th>price</th>\n",
       "    </tr>\n",
       "  </thead>\n",
       "  <tbody>\n",
       "    <tr>\n",
       "      <th>0</th>\n",
       "      <td>35706</td>\n",
       "      <td>28341280</td>\n",
       "      <td>Bushwick Rustic Loft</td>\n",
       "      <td>10812370</td>\n",
       "      <td>Al</td>\n",
       "      <td>Brooklyn</td>\n",
       "      <td>Bushwick</td>\n",
       "      <td>40.69987</td>\n",
       "      <td>-73.91821</td>\n",
       "      <td>Private room</td>\n",
       "      <td>1</td>\n",
       "      <td>28</td>\n",
       "      <td>2019-07-07</td>\n",
       "      <td>2.75</td>\n",
       "      <td>1</td>\n",
       "      <td>36</td>\n",
       "      <td>69</td>\n",
       "    </tr>\n",
       "    <tr>\n",
       "      <th>1</th>\n",
       "      <td>2434</td>\n",
       "      <td>1213991</td>\n",
       "      <td>Private 2 bedroom Midtown Manhattan</td>\n",
       "      <td>6626827</td>\n",
       "      <td>Steve</td>\n",
       "      <td>Manhattan</td>\n",
       "      <td>Hell's Kitchen</td>\n",
       "      <td>40.76247</td>\n",
       "      <td>-73.99294</td>\n",
       "      <td>Private room</td>\n",
       "      <td>4</td>\n",
       "      <td>77</td>\n",
       "      <td>2019-06-19</td>\n",
       "      <td>1.81</td>\n",
       "      <td>1</td>\n",
       "      <td>21</td>\n",
       "      <td>240</td>\n",
       "    </tr>\n",
       "    <tr>\n",
       "      <th>2</th>\n",
       "      <td>44725</td>\n",
       "      <td>34372753</td>\n",
       "      <td>Spacious Manhattan Apartment</td>\n",
       "      <td>40038018</td>\n",
       "      <td>Yves</td>\n",
       "      <td>Manhattan</td>\n",
       "      <td>Midtown</td>\n",
       "      <td>40.76152</td>\n",
       "      <td>-73.97176</td>\n",
       "      <td>Entire home/apt</td>\n",
       "      <td>5</td>\n",
       "      <td>2</td>\n",
       "      <td>2019-06-09</td>\n",
       "      <td>1.00</td>\n",
       "      <td>1</td>\n",
       "      <td>132</td>\n",
       "      <td>449</td>\n",
       "    </tr>\n",
       "    <tr>\n",
       "      <th>3</th>\n",
       "      <td>32341</td>\n",
       "      <td>25311295</td>\n",
       "      <td>★Modern,Cozy 3BDR/2BA Getaway in Upper East!</td>\n",
       "      <td>17896706</td>\n",
       "      <td>Mark</td>\n",
       "      <td>Manhattan</td>\n",
       "      <td>Upper East Side</td>\n",
       "      <td>40.77988</td>\n",
       "      <td>-73.95482</td>\n",
       "      <td>Entire home/apt</td>\n",
       "      <td>4</td>\n",
       "      <td>58</td>\n",
       "      <td>2019-06-18</td>\n",
       "      <td>4.26</td>\n",
       "      <td>1</td>\n",
       "      <td>158</td>\n",
       "      <td>399</td>\n",
       "    </tr>\n",
       "    <tr>\n",
       "      <th>4</th>\n",
       "      <td>9648</td>\n",
       "      <td>7411421</td>\n",
       "      <td>Hip &amp; Trendy Williamsburg 2 BR 2BA Apartment</td>\n",
       "      <td>3750905</td>\n",
       "      <td>Louis</td>\n",
       "      <td>Brooklyn</td>\n",
       "      <td>Williamsburg</td>\n",
       "      <td>40.71303</td>\n",
       "      <td>-73.95580</td>\n",
       "      <td>Entire home/apt</td>\n",
       "      <td>2</td>\n",
       "      <td>28</td>\n",
       "      <td>2019-06-22</td>\n",
       "      <td>0.61</td>\n",
       "      <td>1</td>\n",
       "      <td>170</td>\n",
       "      <td>109</td>\n",
       "    </tr>\n",
       "  </tbody>\n",
       "</table>\n",
       "</div>"
      ],
      "text/plain": [
       "   Unnamed: 0        id                                          name  \\\n",
       "0       35706  28341280                          Bushwick Rustic Loft   \n",
       "1        2434   1213991           Private 2 bedroom Midtown Manhattan   \n",
       "2       44725  34372753                  Spacious Manhattan Apartment   \n",
       "3       32341  25311295  ★Modern,Cozy 3BDR/2BA Getaway in Upper East!   \n",
       "4        9648   7411421  Hip & Trendy Williamsburg 2 BR 2BA Apartment   \n",
       "\n",
       "    host_id host_name neighbourhood_group    neighbourhood  latitude  \\\n",
       "0  10812370        Al            Brooklyn         Bushwick  40.69987   \n",
       "1   6626827     Steve           Manhattan   Hell's Kitchen  40.76247   \n",
       "2  40038018      Yves           Manhattan          Midtown  40.76152   \n",
       "3  17896706      Mark           Manhattan  Upper East Side  40.77988   \n",
       "4   3750905     Louis            Brooklyn     Williamsburg  40.71303   \n",
       "\n",
       "   longitude        room_type  minimum_nights  number_of_reviews last_review  \\\n",
       "0  -73.91821     Private room               1                 28  2019-07-07   \n",
       "1  -73.99294     Private room               4                 77  2019-06-19   \n",
       "2  -73.97176  Entire home/apt               5                  2  2019-06-09   \n",
       "3  -73.95482  Entire home/apt               4                 58  2019-06-18   \n",
       "4  -73.95580  Entire home/apt               2                 28  2019-06-22   \n",
       "\n",
       "   reviews_per_month  calculated_host_listings_count  availability_365  price  \n",
       "0               2.75                               1                36     69  \n",
       "1               1.81                               1                21    240  \n",
       "2               1.00                               1               132    449  \n",
       "3               4.26                               1               158    399  \n",
       "4               0.61                               1               170    109  "
      ]
     },
     "execution_count": 2,
     "metadata": {},
     "output_type": "execute_result"
    }
   ],
   "source": [
    "#Dos lineas de código\n",
    "df = pd.read_csv(\"data.csv\")\n",
    "df.head()"
   ]
  },
  {
   "cell_type": "markdown",
   "metadata": {},
   "source": [
    "1. Muestra el numero de features y ejemplos en el dataset."
   ]
  },
  {
   "cell_type": "code",
   "execution_count": 3,
   "metadata": {},
   "outputs": [
    {
     "data": {
      "text/plain": [
       "Unnamed: 0                        32759\n",
       "id                                32759\n",
       "name                              32755\n",
       "host_id                           32759\n",
       "host_name                         32742\n",
       "neighbourhood_group               32759\n",
       "neighbourhood                     32759\n",
       "latitude                          32759\n",
       "longitude                         32759\n",
       "room_type                         32759\n",
       "minimum_nights                    32759\n",
       "number_of_reviews                 32759\n",
       "last_review                       25987\n",
       "reviews_per_month                 25987\n",
       "calculated_host_listings_count    32759\n",
       "availability_365                  32759\n",
       "price                             32759\n",
       "dtype: int64"
      ]
     },
     "execution_count": 3,
     "metadata": {},
     "output_type": "execute_result"
    }
   ],
   "source": [
    "# Sólo con una línea de código\n",
    "df.count()"
   ]
  },
  {
   "cell_type": "markdown",
   "metadata": {},
   "source": [
    "2. Obtén que tipos de datos (dtypes) contiene el dataset."
   ]
  },
  {
   "cell_type": "code",
   "execution_count": 4,
   "metadata": {},
   "outputs": [
    {
     "name": "stdout",
     "output_type": "stream",
     "text": [
      "<class 'pandas.core.frame.DataFrame'>\n",
      "RangeIndex: 32759 entries, 0 to 32758\n",
      "Data columns (total 17 columns):\n",
      " #   Column                          Non-Null Count  Dtype  \n",
      "---  ------                          --------------  -----  \n",
      " 0   Unnamed: 0                      32759 non-null  int64  \n",
      " 1   id                              32759 non-null  int64  \n",
      " 2   name                            32755 non-null  object \n",
      " 3   host_id                         32759 non-null  int64  \n",
      " 4   host_name                       32742 non-null  object \n",
      " 5   neighbourhood_group             32759 non-null  object \n",
      " 6   neighbourhood                   32759 non-null  object \n",
      " 7   latitude                        32759 non-null  float64\n",
      " 8   longitude                       32759 non-null  float64\n",
      " 9   room_type                       32759 non-null  object \n",
      " 10  minimum_nights                  32759 non-null  int64  \n",
      " 11  number_of_reviews               32759 non-null  int64  \n",
      " 12  last_review                     25987 non-null  object \n",
      " 13  reviews_per_month               25987 non-null  float64\n",
      " 14  calculated_host_listings_count  32759 non-null  int64  \n",
      " 15  availability_365                32759 non-null  int64  \n",
      " 16  price                           32759 non-null  int64  \n",
      "dtypes: float64(3), int64(8), object(6)\n",
      "memory usage: 4.2+ MB\n"
     ]
    }
   ],
   "source": [
    "# Sólo con una línea de código\n",
    "df.info()"
   ]
  },
  {
   "cell_type": "markdown",
   "metadata": {},
   "source": [
    "### Variables\n",
    "\n",
    "\n",
    "\n",
    "* **Id/name:**  Identificador y nombre de la oferta.\n",
    "\n",
    "* **host_id/host_name:** Identificador y nombre del anfitrión.\n",
    "\n",
    "* **neighbourhood_group/neighbourhood:** Zona y barrio de la oferta. Cada zona es una agrupación de barrios.\n",
    "* **latitude/longitude:** Latitud y longitud de la oferta.\n",
    "\n",
    "* **room_type:** Que tipo de habitación se oferta. Puede ser el apartamento o casa entero, una habitación privada o una compartida.\n",
    "\n",
    "* **minimum_nights:**  Noches de estancia mínima.\n",
    "\n",
    "* **number_of_reviews:**  Número total de reviews de la oferta.\n",
    "\n",
    "* **last_review:**  Fecha de la última review hecha.\n",
    "\n",
    "* **reviews_per_month:** Número de reviews por mes. No siempre es entero y la mayoría son menos de 1.\n",
    "\n",
    "* **calculated_host_listings_count:** Cuantas habitaciones tiene el host en oferta.\n",
    "\n",
    "* **availability_365:** La disponibilidad de la oferta en un año: máximo de 365 (todo el año en oferta)\n",
    "\n",
    "* **price:** ¡Nuestro objetivo!. El precio de la oferta, en dolares.\n",
    "\n"
   ]
  },
  {
   "cell_type": "markdown",
   "metadata": {},
   "source": [
    "¿Es este un problema de regression o de classification? ¿Por que?:"
   ]
  },
  {
   "cell_type": "markdown",
   "metadata": {},
   "source": [
    "3. Antes de analizar el dataset, tenemos que transformar las fechas (la feature last_review) en algo con lo que podamos trabajar. Pandas tiene un data type específicamente para esto, datetime. Transforma last_review a formato datetime."
   ]
  },
  {
   "cell_type": "code",
   "execution_count": 5,
   "metadata": {},
   "outputs": [],
   "source": [
    "# Sólo con una línea de código\n",
    "df.last_review = pd.to_datetime(df.last_review)\n"
   ]
  },
  {
   "cell_type": "markdown",
   "metadata": {},
   "source": [
    "4. Para analizar los datos también necesitamos saber cuanta información nos falta. Utiliza isnull() para averiguar a que feature le faltan mas datos. "
   ]
  },
  {
   "cell_type": "code",
   "execution_count": 6,
   "metadata": {},
   "outputs": [
    {
     "name": "stdout",
     "output_type": "stream",
     "text": [
      "Null values:\n",
      "\tUnnamed: 0                              0\n",
      "\tid                                      0\n",
      "\tname                                    4\n",
      "\thost_id                                 0\n",
      "\thost_name                               17\n",
      "\tneighbourhood_group                     0\n",
      "\tneighbourhood                           0\n",
      "\tlatitude                                0\n",
      "\tlongitude                               0\n",
      "\troom_type                               0\n",
      "\tminimum_nights                          0\n",
      "\tnumber_of_reviews                       0\n",
      "\tlast_review                             6772\n",
      "\treviews_per_month                       6772\n",
      "\tcalculated_host_listings_count          0\n",
      "\tavailability_365                        0\n",
      "\tprice                                   0\n"
     ]
    }
   ],
   "source": [
    "# Sólo con una línea de código\n",
    "print('Null values:')\n",
    "for feature in df:\n",
    "    print('\\t{:40}{:1}'.format(feature, df.shape[0]-df.count()[feature]))"
   ]
  },
  {
   "cell_type": "markdown",
   "metadata": {},
   "source": [
    "5. Finalmente, solo nos falta deshacernos de las features que solo sirven de identificador y no ayudan a predecir."
   ]
  },
  {
   "cell_type": "code",
   "execution_count": 7,
   "metadata": {
    "scrolled": true
   },
   "outputs": [
    {
     "data": {
      "text/html": [
       "<div>\n",
       "<style scoped>\n",
       "    .dataframe tbody tr th:only-of-type {\n",
       "        vertical-align: middle;\n",
       "    }\n",
       "\n",
       "    .dataframe tbody tr th {\n",
       "        vertical-align: top;\n",
       "    }\n",
       "\n",
       "    .dataframe thead th {\n",
       "        text-align: right;\n",
       "    }\n",
       "</style>\n",
       "<table border=\"1\" class=\"dataframe\">\n",
       "  <thead>\n",
       "    <tr style=\"text-align: right;\">\n",
       "      <th></th>\n",
       "      <th>Unnamed: 0</th>\n",
       "      <th>id</th>\n",
       "      <th>name</th>\n",
       "      <th>host_id</th>\n",
       "      <th>host_name</th>\n",
       "      <th>neighbourhood_group</th>\n",
       "      <th>neighbourhood</th>\n",
       "      <th>latitude</th>\n",
       "      <th>longitude</th>\n",
       "      <th>room_type</th>\n",
       "      <th>minimum_nights</th>\n",
       "      <th>number_of_reviews</th>\n",
       "      <th>last_review</th>\n",
       "      <th>reviews_per_month</th>\n",
       "      <th>calculated_host_listings_count</th>\n",
       "      <th>availability_365</th>\n",
       "      <th>price</th>\n",
       "    </tr>\n",
       "  </thead>\n",
       "  <tbody>\n",
       "    <tr>\n",
       "      <th>0</th>\n",
       "      <td>35706</td>\n",
       "      <td>28341280</td>\n",
       "      <td>Bushwick Rustic Loft</td>\n",
       "      <td>10812370</td>\n",
       "      <td>Al</td>\n",
       "      <td>Brooklyn</td>\n",
       "      <td>Bushwick</td>\n",
       "      <td>40.69987</td>\n",
       "      <td>-73.91821</td>\n",
       "      <td>Private room</td>\n",
       "      <td>1</td>\n",
       "      <td>28</td>\n",
       "      <td>2019-07-07</td>\n",
       "      <td>2.75</td>\n",
       "      <td>1</td>\n",
       "      <td>36</td>\n",
       "      <td>69</td>\n",
       "    </tr>\n",
       "    <tr>\n",
       "      <th>1</th>\n",
       "      <td>2434</td>\n",
       "      <td>1213991</td>\n",
       "      <td>Private 2 bedroom Midtown Manhattan</td>\n",
       "      <td>6626827</td>\n",
       "      <td>Steve</td>\n",
       "      <td>Manhattan</td>\n",
       "      <td>Hell's Kitchen</td>\n",
       "      <td>40.76247</td>\n",
       "      <td>-73.99294</td>\n",
       "      <td>Private room</td>\n",
       "      <td>4</td>\n",
       "      <td>77</td>\n",
       "      <td>2019-06-19</td>\n",
       "      <td>1.81</td>\n",
       "      <td>1</td>\n",
       "      <td>21</td>\n",
       "      <td>240</td>\n",
       "    </tr>\n",
       "    <tr>\n",
       "      <th>2</th>\n",
       "      <td>44725</td>\n",
       "      <td>34372753</td>\n",
       "      <td>Spacious Manhattan Apartment</td>\n",
       "      <td>40038018</td>\n",
       "      <td>Yves</td>\n",
       "      <td>Manhattan</td>\n",
       "      <td>Midtown</td>\n",
       "      <td>40.76152</td>\n",
       "      <td>-73.97176</td>\n",
       "      <td>Entire home/apt</td>\n",
       "      <td>5</td>\n",
       "      <td>2</td>\n",
       "      <td>2019-06-09</td>\n",
       "      <td>1.00</td>\n",
       "      <td>1</td>\n",
       "      <td>132</td>\n",
       "      <td>449</td>\n",
       "    </tr>\n",
       "    <tr>\n",
       "      <th>3</th>\n",
       "      <td>32341</td>\n",
       "      <td>25311295</td>\n",
       "      <td>★Modern,Cozy 3BDR/2BA Getaway in Upper East!</td>\n",
       "      <td>17896706</td>\n",
       "      <td>Mark</td>\n",
       "      <td>Manhattan</td>\n",
       "      <td>Upper East Side</td>\n",
       "      <td>40.77988</td>\n",
       "      <td>-73.95482</td>\n",
       "      <td>Entire home/apt</td>\n",
       "      <td>4</td>\n",
       "      <td>58</td>\n",
       "      <td>2019-06-18</td>\n",
       "      <td>4.26</td>\n",
       "      <td>1</td>\n",
       "      <td>158</td>\n",
       "      <td>399</td>\n",
       "    </tr>\n",
       "    <tr>\n",
       "      <th>4</th>\n",
       "      <td>9648</td>\n",
       "      <td>7411421</td>\n",
       "      <td>Hip &amp; Trendy Williamsburg 2 BR 2BA Apartment</td>\n",
       "      <td>3750905</td>\n",
       "      <td>Louis</td>\n",
       "      <td>Brooklyn</td>\n",
       "      <td>Williamsburg</td>\n",
       "      <td>40.71303</td>\n",
       "      <td>-73.95580</td>\n",
       "      <td>Entire home/apt</td>\n",
       "      <td>2</td>\n",
       "      <td>28</td>\n",
       "      <td>2019-06-22</td>\n",
       "      <td>0.61</td>\n",
       "      <td>1</td>\n",
       "      <td>170</td>\n",
       "      <td>109</td>\n",
       "    </tr>\n",
       "  </tbody>\n",
       "</table>\n",
       "</div>"
      ],
      "text/plain": [
       "   Unnamed: 0        id                                          name  \\\n",
       "0       35706  28341280                          Bushwick Rustic Loft   \n",
       "1        2434   1213991           Private 2 bedroom Midtown Manhattan   \n",
       "2       44725  34372753                  Spacious Manhattan Apartment   \n",
       "3       32341  25311295  ★Modern,Cozy 3BDR/2BA Getaway in Upper East!   \n",
       "4        9648   7411421  Hip & Trendy Williamsburg 2 BR 2BA Apartment   \n",
       "\n",
       "    host_id host_name neighbourhood_group    neighbourhood  latitude  \\\n",
       "0  10812370        Al            Brooklyn         Bushwick  40.69987   \n",
       "1   6626827     Steve           Manhattan   Hell's Kitchen  40.76247   \n",
       "2  40038018      Yves           Manhattan          Midtown  40.76152   \n",
       "3  17896706      Mark           Manhattan  Upper East Side  40.77988   \n",
       "4   3750905     Louis            Brooklyn     Williamsburg  40.71303   \n",
       "\n",
       "   longitude        room_type  minimum_nights  number_of_reviews last_review  \\\n",
       "0  -73.91821     Private room               1                 28  2019-07-07   \n",
       "1  -73.99294     Private room               4                 77  2019-06-19   \n",
       "2  -73.97176  Entire home/apt               5                  2  2019-06-09   \n",
       "3  -73.95482  Entire home/apt               4                 58  2019-06-18   \n",
       "4  -73.95580  Entire home/apt               2                 28  2019-06-22   \n",
       "\n",
       "   reviews_per_month  calculated_host_listings_count  availability_365  price  \n",
       "0               2.75                               1                36     69  \n",
       "1               1.81                               1                21    240  \n",
       "2               1.00                               1               132    449  \n",
       "3               4.26                               1               158    399  \n",
       "4               0.61                               1               170    109  "
      ]
     },
     "execution_count": 7,
     "metadata": {},
     "output_type": "execute_result"
    }
   ],
   "source": [
    "df.head()"
   ]
  },
  {
   "cell_type": "code",
   "execution_count": 8,
   "metadata": {},
   "outputs": [],
   "source": [
    "# Sólo con una línea de código\n",
    "df = df.drop(['Unnamed: 0','id', 'name','host_id', 'host_name'], axis=1)"
   ]
  },
  {
   "cell_type": "markdown",
   "metadata": {},
   "source": [
    "6. ¡Todo listo! Ya podemos analizar la distribución de los datos con la función .describe()"
   ]
  },
  {
   "cell_type": "code",
   "execution_count": 9,
   "metadata": {},
   "outputs": [
    {
     "data": {
      "text/html": [
       "<div>\n",
       "<style scoped>\n",
       "    .dataframe tbody tr th:only-of-type {\n",
       "        vertical-align: middle;\n",
       "    }\n",
       "\n",
       "    .dataframe tbody tr th {\n",
       "        vertical-align: top;\n",
       "    }\n",
       "\n",
       "    .dataframe thead th {\n",
       "        text-align: right;\n",
       "    }\n",
       "</style>\n",
       "<table border=\"1\" class=\"dataframe\">\n",
       "  <thead>\n",
       "    <tr style=\"text-align: right;\">\n",
       "      <th></th>\n",
       "      <th>latitude</th>\n",
       "      <th>longitude</th>\n",
       "      <th>minimum_nights</th>\n",
       "      <th>number_of_reviews</th>\n",
       "      <th>reviews_per_month</th>\n",
       "      <th>calculated_host_listings_count</th>\n",
       "      <th>availability_365</th>\n",
       "      <th>price</th>\n",
       "    </tr>\n",
       "  </thead>\n",
       "  <tbody>\n",
       "    <tr>\n",
       "      <th>count</th>\n",
       "      <td>32759.000000</td>\n",
       "      <td>32759.000000</td>\n",
       "      <td>32759.000000</td>\n",
       "      <td>32759.000000</td>\n",
       "      <td>25987.000000</td>\n",
       "      <td>32759.000000</td>\n",
       "      <td>32759.000000</td>\n",
       "      <td>32759.000000</td>\n",
       "    </tr>\n",
       "    <tr>\n",
       "      <th>mean</th>\n",
       "      <td>40.728968</td>\n",
       "      <td>-73.952465</td>\n",
       "      <td>7.131475</td>\n",
       "      <td>23.240911</td>\n",
       "      <td>1.383150</td>\n",
       "      <td>7.223175</td>\n",
       "      <td>113.116090</td>\n",
       "      <td>154.312983</td>\n",
       "    </tr>\n",
       "    <tr>\n",
       "      <th>std</th>\n",
       "      <td>0.054479</td>\n",
       "      <td>0.045704</td>\n",
       "      <td>21.236959</td>\n",
       "      <td>44.354050</td>\n",
       "      <td>1.699714</td>\n",
       "      <td>33.275291</td>\n",
       "      <td>131.687842</td>\n",
       "      <td>256.571284</td>\n",
       "    </tr>\n",
       "    <tr>\n",
       "      <th>min</th>\n",
       "      <td>40.499790</td>\n",
       "      <td>-74.240840</td>\n",
       "      <td>1.000000</td>\n",
       "      <td>0.000000</td>\n",
       "      <td>0.010000</td>\n",
       "      <td>1.000000</td>\n",
       "      <td>0.000000</td>\n",
       "      <td>0.000000</td>\n",
       "    </tr>\n",
       "    <tr>\n",
       "      <th>25%</th>\n",
       "      <td>40.690150</td>\n",
       "      <td>-73.983130</td>\n",
       "      <td>1.000000</td>\n",
       "      <td>1.000000</td>\n",
       "      <td>0.190000</td>\n",
       "      <td>1.000000</td>\n",
       "      <td>0.000000</td>\n",
       "      <td>69.000000</td>\n",
       "    </tr>\n",
       "    <tr>\n",
       "      <th>50%</th>\n",
       "      <td>40.723180</td>\n",
       "      <td>-73.955800</td>\n",
       "      <td>3.000000</td>\n",
       "      <td>5.000000</td>\n",
       "      <td>0.730000</td>\n",
       "      <td>1.000000</td>\n",
       "      <td>45.000000</td>\n",
       "      <td>107.000000</td>\n",
       "    </tr>\n",
       "    <tr>\n",
       "      <th>75%</th>\n",
       "      <td>40.763155</td>\n",
       "      <td>-73.936540</td>\n",
       "      <td>5.000000</td>\n",
       "      <td>24.000000</td>\n",
       "      <td>2.030000</td>\n",
       "      <td>2.000000</td>\n",
       "      <td>226.000000</td>\n",
       "      <td>178.000000</td>\n",
       "    </tr>\n",
       "    <tr>\n",
       "      <th>max</th>\n",
       "      <td>40.913060</td>\n",
       "      <td>-73.712990</td>\n",
       "      <td>1250.000000</td>\n",
       "      <td>607.000000</td>\n",
       "      <td>58.500000</td>\n",
       "      <td>327.000000</td>\n",
       "      <td>365.000000</td>\n",
       "      <td>10000.000000</td>\n",
       "    </tr>\n",
       "  </tbody>\n",
       "</table>\n",
       "</div>"
      ],
      "text/plain": [
       "           latitude     longitude  minimum_nights  number_of_reviews  \\\n",
       "count  32759.000000  32759.000000    32759.000000       32759.000000   \n",
       "mean      40.728968    -73.952465        7.131475          23.240911   \n",
       "std        0.054479      0.045704       21.236959          44.354050   \n",
       "min       40.499790    -74.240840        1.000000           0.000000   \n",
       "25%       40.690150    -73.983130        1.000000           1.000000   \n",
       "50%       40.723180    -73.955800        3.000000           5.000000   \n",
       "75%       40.763155    -73.936540        5.000000          24.000000   \n",
       "max       40.913060    -73.712990     1250.000000         607.000000   \n",
       "\n",
       "       reviews_per_month  calculated_host_listings_count  availability_365  \\\n",
       "count       25987.000000                    32759.000000      32759.000000   \n",
       "mean            1.383150                        7.223175        113.116090   \n",
       "std             1.699714                       33.275291        131.687842   \n",
       "min             0.010000                        1.000000          0.000000   \n",
       "25%             0.190000                        1.000000          0.000000   \n",
       "50%             0.730000                        1.000000         45.000000   \n",
       "75%             2.030000                        2.000000        226.000000   \n",
       "max            58.500000                      327.000000        365.000000   \n",
       "\n",
       "              price  \n",
       "count  32759.000000  \n",
       "mean     154.312983  \n",
       "std      256.571284  \n",
       "min        0.000000  \n",
       "25%       69.000000  \n",
       "50%      107.000000  \n",
       "75%      178.000000  \n",
       "max    10000.000000  "
      ]
     },
     "execution_count": 9,
     "metadata": {},
     "output_type": "execute_result"
    }
   ],
   "source": [
    "# Sólo con una línea de código\n",
    "df.describe()"
   ]
  },
  {
   "cell_type": "markdown",
   "metadata": {},
   "source": [
    "### Limpiar y normalizar la información del dataset\n",
    "![texto alternativo](https://i.imgur.com/8u4xTI7.png)\n",
    "\n",
    "Este dataset contiene información incompleta que debemos rellenar para poder usarla a la hora de predecir el precio de las ofertas.\n",
    "También tenemos que transformar last_review si queremos incluirla en la predicción (no podemos utilizar una fecha como input directamente).\n",
    "\n",
    "Para esta limpieza usaremos varias funciones de Pandas. Aquí teneis una [pista](https://new.paradigmadigital.com/wp-content/uploads/2019/02/Pandas_cheatsheet.pdf)."
   ]
  },
  {
   "cell_type": "markdown",
   "metadata": {},
   "source": [
    "7. Encuentra el número de ofertas que por no tener reviews no tienen información en las columnas de last_review y reviews_per_month."
   ]
  },
  {
   "cell_type": "code",
   "execution_count": 10,
   "metadata": {},
   "outputs": [
    {
     "name": "stdout",
     "output_type": "stream",
     "text": [
      "Numero de ofertas sin reviews: 6772\n"
     ]
    }
   ],
   "source": [
    "# Sólo con una línea de código\n",
    "print('Numero de ofertas sin reviews: {}'.format(df.shape[0]-df.count()['last_review']))"
   ]
  },
  {
   "cell_type": "markdown",
   "metadata": {},
   "source": [
    "8. Tenemos que completar esta información si no queremos eliminar el resto del ejemplo. Rellena todos los NaNs de las reviews_per_month con 0 (Completaremos la columna de last_review después)."
   ]
  },
  {
   "cell_type": "code",
   "execution_count": 11,
   "metadata": {},
   "outputs": [],
   "source": [
    "# Sólo con una línea de código \n",
    "df['reviews_per_month'] = df['reviews_per_month'].fillna(0)"
   ]
  },
  {
   "cell_type": "markdown",
   "metadata": {},
   "source": [
    "9. Vamos a transformar la variable last_review. Es una fecha, lo cual nos hace dificil trabajar con ella. Vamos primero a completar los ejemplos que no tienen una última fecha. Reemplaza estos NaNs con la primera review histórica del dataset."
   ]
  },
  {
   "cell_type": "code",
   "execution_count": 12,
   "metadata": {},
   "outputs": [],
   "source": [
    "#Dos líneas de código\n",
    "primera = df.last_review.min()\n",
    "df['last_review'] = df['last_review'].fillna(primera)"
   ]
  },
  {
   "cell_type": "markdown",
   "metadata": {},
   "source": [
    "10. Ahora que no tenemos valores vacios podemos cambiar la variable last_review a algo mas util. Buscamos que valores mas pequeños correspondan a reviews antiguas o que no hayan tenido ninguna, mientras que valores mas grandes correspondan a reviews mas recientes. \n",
    "\n",
    "Podemos utilizar la función toordinal() para hayar el número de dias que han transcurrido desde el dia 1 del año 1, pero esos siguen siendo números demasiado grandes que no siguen la distribución que buscamos.\n",
    "\n",
    "Consigue que last_reviews pase a representar la cantidad de dias que han transcurrido desde que se hizo la primera review histórica. "
   ]
  },
  {
   "cell_type": "code",
   "execution_count": 13,
   "metadata": {},
   "outputs": [],
   "source": [
    "# Solo una línea de código\n",
    "df.last_review = [(df.last_review[i]- primera).days for i in range(df.shape[0])]"
   ]
  },
  {
   "cell_type": "code",
   "execution_count": 14,
   "metadata": {},
   "outputs": [
    {
     "data": {
      "text/html": [
       "<div>\n",
       "<style scoped>\n",
       "    .dataframe tbody tr th:only-of-type {\n",
       "        vertical-align: middle;\n",
       "    }\n",
       "\n",
       "    .dataframe tbody tr th {\n",
       "        vertical-align: top;\n",
       "    }\n",
       "\n",
       "    .dataframe thead th {\n",
       "        text-align: right;\n",
       "    }\n",
       "</style>\n",
       "<table border=\"1\" class=\"dataframe\">\n",
       "  <thead>\n",
       "    <tr style=\"text-align: right;\">\n",
       "      <th></th>\n",
       "      <th>neighbourhood_group</th>\n",
       "      <th>neighbourhood</th>\n",
       "      <th>latitude</th>\n",
       "      <th>longitude</th>\n",
       "      <th>room_type</th>\n",
       "      <th>minimum_nights</th>\n",
       "      <th>number_of_reviews</th>\n",
       "      <th>last_review</th>\n",
       "      <th>reviews_per_month</th>\n",
       "      <th>calculated_host_listings_count</th>\n",
       "      <th>availability_365</th>\n",
       "      <th>price</th>\n",
       "    </tr>\n",
       "  </thead>\n",
       "  <tbody>\n",
       "    <tr>\n",
       "      <th>0</th>\n",
       "      <td>Brooklyn</td>\n",
       "      <td>Bushwick</td>\n",
       "      <td>40.69987</td>\n",
       "      <td>-73.91821</td>\n",
       "      <td>Private room</td>\n",
       "      <td>1</td>\n",
       "      <td>28</td>\n",
       "      <td>2995</td>\n",
       "      <td>2.75</td>\n",
       "      <td>1</td>\n",
       "      <td>36</td>\n",
       "      <td>69</td>\n",
       "    </tr>\n",
       "    <tr>\n",
       "      <th>1</th>\n",
       "      <td>Manhattan</td>\n",
       "      <td>Hell's Kitchen</td>\n",
       "      <td>40.76247</td>\n",
       "      <td>-73.99294</td>\n",
       "      <td>Private room</td>\n",
       "      <td>4</td>\n",
       "      <td>77</td>\n",
       "      <td>2977</td>\n",
       "      <td>1.81</td>\n",
       "      <td>1</td>\n",
       "      <td>21</td>\n",
       "      <td>240</td>\n",
       "    </tr>\n",
       "    <tr>\n",
       "      <th>2</th>\n",
       "      <td>Manhattan</td>\n",
       "      <td>Midtown</td>\n",
       "      <td>40.76152</td>\n",
       "      <td>-73.97176</td>\n",
       "      <td>Entire home/apt</td>\n",
       "      <td>5</td>\n",
       "      <td>2</td>\n",
       "      <td>2967</td>\n",
       "      <td>1.00</td>\n",
       "      <td>1</td>\n",
       "      <td>132</td>\n",
       "      <td>449</td>\n",
       "    </tr>\n",
       "    <tr>\n",
       "      <th>3</th>\n",
       "      <td>Manhattan</td>\n",
       "      <td>Upper East Side</td>\n",
       "      <td>40.77988</td>\n",
       "      <td>-73.95482</td>\n",
       "      <td>Entire home/apt</td>\n",
       "      <td>4</td>\n",
       "      <td>58</td>\n",
       "      <td>2976</td>\n",
       "      <td>4.26</td>\n",
       "      <td>1</td>\n",
       "      <td>158</td>\n",
       "      <td>399</td>\n",
       "    </tr>\n",
       "    <tr>\n",
       "      <th>4</th>\n",
       "      <td>Brooklyn</td>\n",
       "      <td>Williamsburg</td>\n",
       "      <td>40.71303</td>\n",
       "      <td>-73.95580</td>\n",
       "      <td>Entire home/apt</td>\n",
       "      <td>2</td>\n",
       "      <td>28</td>\n",
       "      <td>2980</td>\n",
       "      <td>0.61</td>\n",
       "      <td>1</td>\n",
       "      <td>170</td>\n",
       "      <td>109</td>\n",
       "    </tr>\n",
       "    <tr>\n",
       "      <th>...</th>\n",
       "      <td>...</td>\n",
       "      <td>...</td>\n",
       "      <td>...</td>\n",
       "      <td>...</td>\n",
       "      <td>...</td>\n",
       "      <td>...</td>\n",
       "      <td>...</td>\n",
       "      <td>...</td>\n",
       "      <td>...</td>\n",
       "      <td>...</td>\n",
       "      <td>...</td>\n",
       "      <td>...</td>\n",
       "    </tr>\n",
       "    <tr>\n",
       "      <th>32754</th>\n",
       "      <td>Manhattan</td>\n",
       "      <td>Washington Heights</td>\n",
       "      <td>40.84650</td>\n",
       "      <td>-73.94319</td>\n",
       "      <td>Shared room</td>\n",
       "      <td>1</td>\n",
       "      <td>0</td>\n",
       "      <td>0</td>\n",
       "      <td>0.00</td>\n",
       "      <td>1</td>\n",
       "      <td>0</td>\n",
       "      <td>60</td>\n",
       "    </tr>\n",
       "    <tr>\n",
       "      <th>32755</th>\n",
       "      <td>Manhattan</td>\n",
       "      <td>Chelsea</td>\n",
       "      <td>40.73957</td>\n",
       "      <td>-74.00082</td>\n",
       "      <td>Private room</td>\n",
       "      <td>2</td>\n",
       "      <td>4</td>\n",
       "      <td>2988</td>\n",
       "      <td>1.90</td>\n",
       "      <td>1</td>\n",
       "      <td>76</td>\n",
       "      <td>85</td>\n",
       "    </tr>\n",
       "    <tr>\n",
       "      <th>32756</th>\n",
       "      <td>Manhattan</td>\n",
       "      <td>Upper West Side</td>\n",
       "      <td>40.78318</td>\n",
       "      <td>-73.97372</td>\n",
       "      <td>Entire home/apt</td>\n",
       "      <td>30</td>\n",
       "      <td>1</td>\n",
       "      <td>2909</td>\n",
       "      <td>0.34</td>\n",
       "      <td>5</td>\n",
       "      <td>261</td>\n",
       "      <td>130</td>\n",
       "    </tr>\n",
       "    <tr>\n",
       "      <th>32757</th>\n",
       "      <td>Manhattan</td>\n",
       "      <td>Upper West Side</td>\n",
       "      <td>40.77508</td>\n",
       "      <td>-73.97990</td>\n",
       "      <td>Entire home/apt</td>\n",
       "      <td>2</td>\n",
       "      <td>11</td>\n",
       "      <td>2967</td>\n",
       "      <td>0.13</td>\n",
       "      <td>1</td>\n",
       "      <td>2</td>\n",
       "      <td>150</td>\n",
       "    </tr>\n",
       "    <tr>\n",
       "      <th>32758</th>\n",
       "      <td>Queens</td>\n",
       "      <td>Long Island City</td>\n",
       "      <td>40.74657</td>\n",
       "      <td>-73.94555</td>\n",
       "      <td>Entire home/apt</td>\n",
       "      <td>5</td>\n",
       "      <td>1</td>\n",
       "      <td>1882</td>\n",
       "      <td>0.03</td>\n",
       "      <td>1</td>\n",
       "      <td>0</td>\n",
       "      <td>120</td>\n",
       "    </tr>\n",
       "  </tbody>\n",
       "</table>\n",
       "<p>32759 rows × 12 columns</p>\n",
       "</div>"
      ],
      "text/plain": [
       "      neighbourhood_group       neighbourhood  latitude  longitude  \\\n",
       "0                Brooklyn            Bushwick  40.69987  -73.91821   \n",
       "1               Manhattan      Hell's Kitchen  40.76247  -73.99294   \n",
       "2               Manhattan             Midtown  40.76152  -73.97176   \n",
       "3               Manhattan     Upper East Side  40.77988  -73.95482   \n",
       "4                Brooklyn        Williamsburg  40.71303  -73.95580   \n",
       "...                   ...                 ...       ...        ...   \n",
       "32754           Manhattan  Washington Heights  40.84650  -73.94319   \n",
       "32755           Manhattan             Chelsea  40.73957  -74.00082   \n",
       "32756           Manhattan     Upper West Side  40.78318  -73.97372   \n",
       "32757           Manhattan     Upper West Side  40.77508  -73.97990   \n",
       "32758              Queens    Long Island City  40.74657  -73.94555   \n",
       "\n",
       "             room_type  minimum_nights  number_of_reviews  last_review  \\\n",
       "0         Private room               1                 28         2995   \n",
       "1         Private room               4                 77         2977   \n",
       "2      Entire home/apt               5                  2         2967   \n",
       "3      Entire home/apt               4                 58         2976   \n",
       "4      Entire home/apt               2                 28         2980   \n",
       "...                ...             ...                ...          ...   \n",
       "32754      Shared room               1                  0            0   \n",
       "32755     Private room               2                  4         2988   \n",
       "32756  Entire home/apt              30                  1         2909   \n",
       "32757  Entire home/apt               2                 11         2967   \n",
       "32758  Entire home/apt               5                  1         1882   \n",
       "\n",
       "       reviews_per_month  calculated_host_listings_count  availability_365  \\\n",
       "0                   2.75                               1                36   \n",
       "1                   1.81                               1                21   \n",
       "2                   1.00                               1               132   \n",
       "3                   4.26                               1               158   \n",
       "4                   0.61                               1               170   \n",
       "...                  ...                             ...               ...   \n",
       "32754               0.00                               1                 0   \n",
       "32755               1.90                               1                76   \n",
       "32756               0.34                               5               261   \n",
       "32757               0.13                               1                 2   \n",
       "32758               0.03                               1                 0   \n",
       "\n",
       "       price  \n",
       "0         69  \n",
       "1        240  \n",
       "2        449  \n",
       "3        399  \n",
       "4        109  \n",
       "...      ...  \n",
       "32754     60  \n",
       "32755     85  \n",
       "32756    130  \n",
       "32757    150  \n",
       "32758    120  \n",
       "\n",
       "[32759 rows x 12 columns]"
      ]
     },
     "execution_count": 14,
     "metadata": {},
     "output_type": "execute_result"
    }
   ],
   "source": [
    "df"
   ]
  },
  {
   "cell_type": "markdown",
   "metadata": {},
   "source": [
    "11. Para visualizar la distribución de las fechas, genera una gráfica que muestre la variable last_reviews."
   ]
  },
  {
   "cell_type": "code",
   "execution_count": 15,
   "metadata": {},
   "outputs": [
    {
     "data": {
      "image/png": "[encoded data removed]",
      "text/plain": [
       "<Figure size 432x288 with 1 Axes>"
      ]
     },
     "metadata": {
      "needs_background": "light"
     },
     "output_type": "display_data"
    }
   ],
   "source": [
    "# Solo una línea de código\n",
    "df.hist('last_review');"
   ]
  },
  {
   "cell_type": "markdown",
   "metadata": {},
   "source": [
    "Parece que hay dos grupos muy distinguidos. ¿A que se debe esta distribución?:\n",
    "A que hay varias ofertas que no tienen reviews y otras que si.Las que no se acumulan en el 0 (0 days desde la más antigua)"
   ]
  },
  {
   "cell_type": "markdown",
   "metadata": {},
   "source": [
    "#### Estudio de la variable a predecir y eliminación de ruido"
   ]
  },
  {
   "cell_type": "markdown",
   "metadata": {},
   "source": [
    "12. A la hora de predecir el precio, es mucho mas favorable si primero transformamos y analizamos la variable que buscamos para hacerla mas facil de predecir.\n",
    "\n",
    "Primero, vamos a ver como el precio de las ofertas está distribuido. Genera una gráfica que muestre el precio de las ofertas. Aquí tienes una [Pista](https://seaborn.pydata.org/generated/seaborn.distplot.html)."
   ]
  },
  {
   "cell_type": "code",
   "execution_count": 16,
   "metadata": {},
   "outputs": [
    {
     "name": "stderr",
     "output_type": "stream",
     "text": [
      "C:\\Users\\Alumno\\anaconda3\\envs\\fastai\\lib\\site-packages\\seaborn\\distributions.py:2551: FutureWarning: `distplot` is a deprecated function and will be removed in a future version. Please adapt your code to use either `displot` (a figure-level function with similar flexibility) or `histplot` (an axes-level function for histograms).\n",
      "  warnings.warn(msg, FutureWarning)\n"
     ]
    },
    {
     "data": {
      "image/png": "[encoded data removed]",
      "text/plain": [
       "<Figure size 432x288 with 1 Axes>"
      ]
     },
     "metadata": {
      "needs_background": "light"
     },
     "output_type": "display_data"
    }
   ],
   "source": [
    "# Solo una línea de código.\n",
    "sns.distplot(df.price);"
   ]
  },
  {
   "cell_type": "markdown",
   "metadata": {},
   "source": [
    "Tenemos una variable que sigue una distribución log-normal. Podemos transformarla en una distribución normal aplicando log1p(), una función que responde a la siguiente ecuación:\n",
    "\n",
    "$ y = log(x+1) $\n",
    "\n",
    "Esto hace que el precio sea mas facil de predecir, al tener una distribución normal."
   ]
  },
  {
   "cell_type": "markdown",
   "metadata": {},
   "source": [
    "13. Vamos a visualizar esta transformación. Genera otra gráfica de price tras aplicar la función log1p()."
   ]
  },
  {
   "cell_type": "code",
   "execution_count": 17,
   "metadata": {
    "scrolled": true
   },
   "outputs": [
    {
     "name": "stderr",
     "output_type": "stream",
     "text": [
      "C:\\Users\\Alumno\\anaconda3\\envs\\fastai\\lib\\site-packages\\seaborn\\distributions.py:2551: FutureWarning: `distplot` is a deprecated function and will be removed in a future version. Please adapt your code to use either `displot` (a figure-level function with similar flexibility) or `histplot` (an axes-level function for histograms).\n",
      "  warnings.warn(msg, FutureWarning)\n"
     ]
    },
    {
     "data": {
      "image/png": "[encoded data removed]",
      "text/plain": [
       "<Figure size 432x288 with 1 Axes>"
      ]
     },
     "metadata": {
      "needs_background": "light"
     },
     "output_type": "display_data"
    }
   ],
   "source": [
    "#Solo una línea de código\n",
    "sns.distplot(np.log1p(df.price));"
   ]
  },
  {
   "cell_type": "markdown",
   "metadata": {},
   "source": [
    "Ahora tenemos una distribución mucho mas apropiada para hacer predicciones. Sin embargo, todavía quedan muchos outliers que añaden ruido a la muestra."
   ]
  },
  {
   "cell_type": "markdown",
   "metadata": {},
   "source": [
    "14. ¿Por encima y debajo de qué valores esta presente este ruido?. Elimina del dataframe aquellos valores que no entren en la distribución normal."
   ]
  },
  {
   "cell_type": "code",
   "execution_count": 18,
   "metadata": {},
   "outputs": [],
   "source": [
    "#Dos lineas de código\n"
   ]
  },
  {
   "cell_type": "markdown",
   "metadata": {},
   "source": [
    "14. Ahora, vuelve a generar la gráfica de precio y log1p del precio (usa el mismo código que antes, o ponlo en un [subplot](https://matplotlib.org/api/_as_gen/matplotlib.pyplot.subplots.html))."
   ]
  },
  {
   "cell_type": "code",
   "execution_count": 19,
   "metadata": {},
   "outputs": [
    {
     "name": "stderr",
     "output_type": "stream",
     "text": [
      "C:\\Users\\Alumno\\anaconda3\\envs\\fastai\\lib\\site-packages\\seaborn\\distributions.py:2551: FutureWarning: `distplot` is a deprecated function and will be removed in a future version. Please adapt your code to use either `displot` (a figure-level function with similar flexibility) or `histplot` (an axes-level function for histograms).\n",
      "  warnings.warn(msg, FutureWarning)\n"
     ]
    },
    {
     "data": {
      "image/png": "[encoded data removed]",
      "text/plain": [
       "<Figure size 432x288 with 1 Axes>"
      ]
     },
     "metadata": {
      "needs_background": "light"
     },
     "output_type": "display_data"
    }
   ],
   "source": [
    "#Cuatro lineas de código\n",
    "sns.distplot(np.log1p(df.price));"
   ]
  },
  {
   "cell_type": "markdown",
   "metadata": {},
   "source": [
    "15. Finalmente, tenemos una variable de salida normalizada y sin ruido que mejorará nuestras predicciones. Cambia la variable price por el log1p de price.\n"
   ]
  },
  {
   "cell_type": "code",
   "execution_count": 20,
   "metadata": {},
   "outputs": [],
   "source": [
    "#Solo una línea de código\n",
    "df.price = np.log1p(df.price)"
   ]
  },
  {
   "cell_type": "markdown",
   "metadata": {},
   "source": [
    "#### Exploración de variables\n"
   ]
  },
  {
   "cell_type": "markdown",
   "metadata": {},
   "source": [
    "Vamos a explorar un poco mas el resto de variables que pueden afectar al precio de una oferta. "
   ]
  },
  {
   "cell_type": "markdown",
   "metadata": {},
   "source": [
    "16. Empecemos por crear un histograma de las distintas zonas de la ciudad y la cantidad de ofertas en cada una de ellas (a lo mejor necesitas ampliar el gráfico)"
   ]
  },
  {
   "cell_type": "code",
   "execution_count": 21,
   "metadata": {},
   "outputs": [],
   "source": [
    "#Tres lineas de código"
   ]
  },
  {
   "cell_type": "markdown",
   "metadata": {},
   "source": [
    "17. Ahora crea un mapa de los apartamentos ofertados con la latitud y longitud (puntos extra si los coloreas por zonas o barrios). Lo mejor es hacerlo en un subplot y así puedes controlar el tamaño del mapa."
   ]
  },
  {
   "cell_type": "code",
   "execution_count": 22,
   "metadata": {},
   "outputs": [],
   "source": [
    "#Dos lineas de código\n"
   ]
  },
  {
   "cell_type": "markdown",
   "metadata": {},
   "source": [
    "18. Vamos ahora a generar otro histograma, esta vez con el tipo de habitación ofertado (También es buena idea ajustar el tamaño de la gráfica)."
   ]
  },
  {
   "cell_type": "code",
   "execution_count": 23,
   "metadata": {},
   "outputs": [],
   "source": [
    "#Tres lineas de código\n"
   ]
  },
  {
   "cell_type": "markdown",
   "metadata": {},
   "source": [
    "#### Transformación de variables"
   ]
  },
  {
   "cell_type": "markdown",
   "metadata": {},
   "source": [
    "Podemos aplicar el mismo proceso que le aplicamos a la variable price a nuestras variables de entrada y así conseguir una distribución mas cómoda para los métodos de busqueda.\n",
    "\n",
    "19. Aplica la transformación log1p() a minimum_nights, generando las gráficas antes y despues y compáralas. "
   ]
  },
  {
   "cell_type": "code",
   "execution_count": 24,
   "metadata": {},
   "outputs": [
    {
     "name": "stderr",
     "output_type": "stream",
     "text": [
      "C:\\Users\\Alumno\\anaconda3\\envs\\fastai\\lib\\site-packages\\seaborn\\distributions.py:2551: FutureWarning: `distplot` is a deprecated function and will be removed in a future version. Please adapt your code to use either `displot` (a figure-level function with similar flexibility) or `histplot` (an axes-level function for histograms).\n",
      "  warnings.warn(msg, FutureWarning)\n"
     ]
    },
    {
     "data": {
      "image/png": "[encoded data removed]",
      "text/plain": [
       "<Figure size 432x288 with 1 Axes>"
      ]
     },
     "metadata": {
      "needs_background": "light"
     },
     "output_type": "display_data"
    }
   ],
   "source": [
    "sns.distplot(df.minimum_nights);"
   ]
  },
  {
   "cell_type": "code",
   "execution_count": 25,
   "metadata": {},
   "outputs": [
    {
     "name": "stderr",
     "output_type": "stream",
     "text": [
      "C:\\Users\\Alumno\\anaconda3\\envs\\fastai\\lib\\site-packages\\seaborn\\distributions.py:2551: FutureWarning: `distplot` is a deprecated function and will be removed in a future version. Please adapt your code to use either `displot` (a figure-level function with similar flexibility) or `histplot` (an axes-level function for histograms).\n",
      "  warnings.warn(msg, FutureWarning)\n"
     ]
    },
    {
     "data": {
      "image/png": "[encoded data removed]",
      "text/plain": [
       "<Figure size 432x288 with 1 Axes>"
      ]
     },
     "metadata": {
      "needs_background": "light"
     },
     "output_type": "display_data"
    }
   ],
   "source": [
    "sns.distplot(np.log1p(df.minimum_nights));"
   ]
  },
  {
   "cell_type": "markdown",
   "metadata": {},
   "source": [
    "20. Finalmente, guarda minimum_nights como log1p de minimum_nights"
   ]
  },
  {
   "cell_type": "code",
   "execution_count": 26,
   "metadata": {},
   "outputs": [],
   "source": [
    "#Solo una línea de código.\n",
    "df.minimum_nights = np.log1p(df.minimum_nights)"
   ]
  },
  {
   "cell_type": "markdown",
   "metadata": {},
   "source": [
    "21. Repite el proceso, esta vez con reviews_per_month. ¿Es relevante la transformación?"
   ]
  },
  {
   "cell_type": "code",
   "execution_count": 27,
   "metadata": {},
   "outputs": [
    {
     "name": "stderr",
     "output_type": "stream",
     "text": [
      "C:\\Users\\Alumno\\anaconda3\\envs\\fastai\\lib\\site-packages\\seaborn\\distributions.py:2551: FutureWarning: `distplot` is a deprecated function and will be removed in a future version. Please adapt your code to use either `displot` (a figure-level function with similar flexibility) or `histplot` (an axes-level function for histograms).\n",
      "  warnings.warn(msg, FutureWarning)\n"
     ]
    },
    {
     "data": {
      "image/png": "[encoded data removed]",
      "text/plain": [
       "<Figure size 432x288 with 1 Axes>"
      ]
     },
     "metadata": {
      "needs_background": "light"
     },
     "output_type": "display_data"
    }
   ],
   "source": [
    "#Tres lineas de código.\n",
    "sns.distplot(df.reviews_per_month);"
   ]
  },
  {
   "cell_type": "code",
   "execution_count": 28,
   "metadata": {},
   "outputs": [
    {
     "name": "stderr",
     "output_type": "stream",
     "text": [
      "C:\\Users\\Alumno\\anaconda3\\envs\\fastai\\lib\\site-packages\\seaborn\\distributions.py:2551: FutureWarning: `distplot` is a deprecated function and will be removed in a future version. Please adapt your code to use either `displot` (a figure-level function with similar flexibility) or `histplot` (an axes-level function for histograms).\n",
      "  warnings.warn(msg, FutureWarning)\n"
     ]
    },
    {
     "data": {
      "image/png": "[encoded data removed]",
      "text/plain": [
       "<Figure size 432x288 with 1 Axes>"
      ]
     },
     "metadata": {
      "needs_background": "light"
     },
     "output_type": "display_data"
    }
   ],
   "source": [
    "sns.distplot(np.log1p(df.reviews_per_month));\n",
    "df.reviews_per_month = np.log1p(df.reviews_per_month)"
   ]
  },
  {
   "cell_type": "markdown",
   "metadata": {},
   "source": [
    "#### Estudio de la disponibilidad en número de dias (0,365)"
   ]
  },
  {
   "cell_type": "markdown",
   "metadata": {},
   "source": [
    "22. Vamos a empezar representando la disponibilidad en un distplot(). Como conocemos los limites de esta variable, lo mejor es limitar el intervalo de la gráfica y hacerla mas grande.\n"
   ]
  },
  {
   "cell_type": "code",
   "execution_count": 29,
   "metadata": {},
   "outputs": [
    {
     "name": "stderr",
     "output_type": "stream",
     "text": [
      "C:\\Users\\Alumno\\anaconda3\\envs\\fastai\\lib\\site-packages\\seaborn\\distributions.py:2551: FutureWarning: `distplot` is a deprecated function and will be removed in a future version. Please adapt your code to use either `displot` (a figure-level function with similar flexibility) or `histplot` (an axes-level function for histograms).\n",
      "  warnings.warn(msg, FutureWarning)\n"
     ]
    },
    {
     "data": {
      "image/png": "[encoded data removed]",
      "text/plain": [
       "<Figure size 432x288 with 1 Axes>"
      ]
     },
     "metadata": {
      "needs_background": "light"
     },
     "output_type": "display_data"
    }
   ],
   "source": [
    "#Cuatro lineas de código.\n",
    "sns.distplot(df.availability_365);"
   ]
  },
  {
   "cell_type": "markdown",
   "metadata": {},
   "source": [
    "#### Añadir variables artificiales"
   ]
  },
  {
   "cell_type": "markdown",
   "metadata": {},
   "source": [
    "Se ha visto en el scatterplot anterior que parece haber dos grupos, uno disponible la mayor parte del año y otro solo unos pocos dias.\n",
    "\n",
    "También se intuye que aquellos sitios que no tengan reviews... Como que no dan mucha confi no? ;)"
   ]
  },
  {
   "cell_type": "markdown",
   "metadata": {},
   "source": [
    "23. Añade tres categorias que midan si el apartamento está disponible todo el año, si su disponibilidad es muy baja (menor de 12 dias al año), y si no tiene reviews."
   ]
  },
  {
   "cell_type": "code",
   "execution_count": 30,
   "metadata": {},
   "outputs": [
    {
     "data": {
      "text/plain": [
       "pandas.core.series.Series"
      ]
     },
     "execution_count": 30,
     "metadata": {},
     "output_type": "execute_result"
    }
   ],
   "source": [
    "type(df.availability_365)"
   ]
  },
  {
   "cell_type": "code",
   "execution_count": 31,
   "metadata": {
    "scrolled": true
   },
   "outputs": [],
   "source": [
    "#Tres lineas de código\n",
    "df['todo_el_año'] = df.availability_365.apply(lambda x: 1 if x == 365 else 0)\n",
    "df['casi_nunca'] = df.availability_365.apply(lambda x: 1 if x < 12 else 0)\n",
    "df['no_review'] = df.reviews_per_month.apply(lambda x: 1 if x == 0 else 0)"
   ]
  },
  {
   "cell_type": "markdown",
   "metadata": {},
   "source": [
    "24. Vamos a generar un heatmap que muestre la relación entre todas las variables de entrada y price. Utiliza corr() y la función heatmap() de seaborn."
   ]
  },
  {
   "cell_type": "code",
   "execution_count": 32,
   "metadata": {},
   "outputs": [
    {
     "data": {
      "image/png": "[encoded data removed]",
      "text/plain": [
       "<Figure size 720x720 with 2 Axes>"
      ]
     },
     "metadata": {
      "needs_background": "light"
     },
     "output_type": "display_data"
    }
   ],
   "source": [
    "#Tres lineas de código\n",
    "plt.figure(figsize = (10,10))\n",
    "sns.heatmap(df.corr(), xticklabels=df.corr().columns.values, yticklabels=df.corr().columns.values, cmap = sns.diverging_palette(200,50, as_cmap=True), vmax=1, center=0, square=True, annot=True, linewidths=.5, cbar_kws={\"shrink\": .82})\n",
    "plt.title('Heatmap of Correlation Matrix');"
   ]
  },
  {
   "cell_type": "markdown",
   "metadata": {},
   "source": [
    "#### Pasar variables categóricas a one_hot\n"
   ]
  },
  {
   "cell_type": "markdown",
   "metadata": {},
   "source": [
    "25. Para hacer las features categóricas mas fáciles de interpretar por el modelo, vamos a transformarlas en un OneHotEncoding. Utiliza la función get_dummies() de pandas (te deberían de quedar 241 columnas)"
   ]
  },
  {
   "cell_type": "code",
   "execution_count": 33,
   "metadata": {},
   "outputs": [
    {
     "data": {
      "text/html": [
       "<div>\n",
       "<style scoped>\n",
       "    .dataframe tbody tr th:only-of-type {\n",
       "        vertical-align: middle;\n",
       "    }\n",
       "\n",
       "    .dataframe tbody tr th {\n",
       "        vertical-align: top;\n",
       "    }\n",
       "\n",
       "    .dataframe thead th {\n",
       "        text-align: right;\n",
       "    }\n",
       "</style>\n",
       "<table border=\"1\" class=\"dataframe\">\n",
       "  <thead>\n",
       "    <tr style=\"text-align: right;\">\n",
       "      <th></th>\n",
       "      <th>latitude</th>\n",
       "      <th>longitude</th>\n",
       "      <th>minimum_nights</th>\n",
       "      <th>number_of_reviews</th>\n",
       "      <th>last_review</th>\n",
       "      <th>reviews_per_month</th>\n",
       "      <th>calculated_host_listings_count</th>\n",
       "      <th>availability_365</th>\n",
       "      <th>price</th>\n",
       "      <th>todo_el_año</th>\n",
       "      <th>...</th>\n",
       "      <th>neighbourhood_Whitestone</th>\n",
       "      <th>neighbourhood_Williamsbridge</th>\n",
       "      <th>neighbourhood_Williamsburg</th>\n",
       "      <th>neighbourhood_Windsor Terrace</th>\n",
       "      <th>neighbourhood_Woodhaven</th>\n",
       "      <th>neighbourhood_Woodlawn</th>\n",
       "      <th>neighbourhood_Woodside</th>\n",
       "      <th>room_type_Entire home/apt</th>\n",
       "      <th>room_type_Private room</th>\n",
       "      <th>room_type_Shared room</th>\n",
       "    </tr>\n",
       "  </thead>\n",
       "  <tbody>\n",
       "    <tr>\n",
       "      <th>0</th>\n",
       "      <td>40.69987</td>\n",
       "      <td>-73.91821</td>\n",
       "      <td>0.693147</td>\n",
       "      <td>28</td>\n",
       "      <td>2995</td>\n",
       "      <td>1.321756</td>\n",
       "      <td>1</td>\n",
       "      <td>36</td>\n",
       "      <td>4.248495</td>\n",
       "      <td>0</td>\n",
       "      <td>...</td>\n",
       "      <td>0</td>\n",
       "      <td>0</td>\n",
       "      <td>0</td>\n",
       "      <td>0</td>\n",
       "      <td>0</td>\n",
       "      <td>0</td>\n",
       "      <td>0</td>\n",
       "      <td>0</td>\n",
       "      <td>1</td>\n",
       "      <td>0</td>\n",
       "    </tr>\n",
       "    <tr>\n",
       "      <th>1</th>\n",
       "      <td>40.76247</td>\n",
       "      <td>-73.99294</td>\n",
       "      <td>1.609438</td>\n",
       "      <td>77</td>\n",
       "      <td>2977</td>\n",
       "      <td>1.033184</td>\n",
       "      <td>1</td>\n",
       "      <td>21</td>\n",
       "      <td>5.484797</td>\n",
       "      <td>0</td>\n",
       "      <td>...</td>\n",
       "      <td>0</td>\n",
       "      <td>0</td>\n",
       "      <td>0</td>\n",
       "      <td>0</td>\n",
       "      <td>0</td>\n",
       "      <td>0</td>\n",
       "      <td>0</td>\n",
       "      <td>0</td>\n",
       "      <td>1</td>\n",
       "      <td>0</td>\n",
       "    </tr>\n",
       "    <tr>\n",
       "      <th>2</th>\n",
       "      <td>40.76152</td>\n",
       "      <td>-73.97176</td>\n",
       "      <td>1.791759</td>\n",
       "      <td>2</td>\n",
       "      <td>2967</td>\n",
       "      <td>0.693147</td>\n",
       "      <td>1</td>\n",
       "      <td>132</td>\n",
       "      <td>6.109248</td>\n",
       "      <td>0</td>\n",
       "      <td>...</td>\n",
       "      <td>0</td>\n",
       "      <td>0</td>\n",
       "      <td>0</td>\n",
       "      <td>0</td>\n",
       "      <td>0</td>\n",
       "      <td>0</td>\n",
       "      <td>0</td>\n",
       "      <td>1</td>\n",
       "      <td>0</td>\n",
       "      <td>0</td>\n",
       "    </tr>\n",
       "    <tr>\n",
       "      <th>3</th>\n",
       "      <td>40.77988</td>\n",
       "      <td>-73.95482</td>\n",
       "      <td>1.609438</td>\n",
       "      <td>58</td>\n",
       "      <td>2976</td>\n",
       "      <td>1.660131</td>\n",
       "      <td>1</td>\n",
       "      <td>158</td>\n",
       "      <td>5.991465</td>\n",
       "      <td>0</td>\n",
       "      <td>...</td>\n",
       "      <td>0</td>\n",
       "      <td>0</td>\n",
       "      <td>0</td>\n",
       "      <td>0</td>\n",
       "      <td>0</td>\n",
       "      <td>0</td>\n",
       "      <td>0</td>\n",
       "      <td>1</td>\n",
       "      <td>0</td>\n",
       "      <td>0</td>\n",
       "    </tr>\n",
       "    <tr>\n",
       "      <th>4</th>\n",
       "      <td>40.71303</td>\n",
       "      <td>-73.95580</td>\n",
       "      <td>1.098612</td>\n",
       "      <td>28</td>\n",
       "      <td>2980</td>\n",
       "      <td>0.476234</td>\n",
       "      <td>1</td>\n",
       "      <td>170</td>\n",
       "      <td>4.700480</td>\n",
       "      <td>0</td>\n",
       "      <td>...</td>\n",
       "      <td>0</td>\n",
       "      <td>0</td>\n",
       "      <td>1</td>\n",
       "      <td>0</td>\n",
       "      <td>0</td>\n",
       "      <td>0</td>\n",
       "      <td>0</td>\n",
       "      <td>1</td>\n",
       "      <td>0</td>\n",
       "      <td>0</td>\n",
       "    </tr>\n",
       "  </tbody>\n",
       "</table>\n",
       "<p>5 rows × 237 columns</p>\n",
       "</div>"
      ],
      "text/plain": [
       "   latitude  longitude  minimum_nights  number_of_reviews  last_review  \\\n",
       "0  40.69987  -73.91821        0.693147                 28         2995   \n",
       "1  40.76247  -73.99294        1.609438                 77         2977   \n",
       "2  40.76152  -73.97176        1.791759                  2         2967   \n",
       "3  40.77988  -73.95482        1.609438                 58         2976   \n",
       "4  40.71303  -73.95580        1.098612                 28         2980   \n",
       "\n",
       "   reviews_per_month  calculated_host_listings_count  availability_365  \\\n",
       "0           1.321756                               1                36   \n",
       "1           1.033184                               1                21   \n",
       "2           0.693147                               1               132   \n",
       "3           1.660131                               1               158   \n",
       "4           0.476234                               1               170   \n",
       "\n",
       "      price  todo_el_año  ...  neighbourhood_Whitestone  \\\n",
       "0  4.248495            0  ...                         0   \n",
       "1  5.484797            0  ...                         0   \n",
       "2  6.109248            0  ...                         0   \n",
       "3  5.991465            0  ...                         0   \n",
       "4  4.700480            0  ...                         0   \n",
       "\n",
       "   neighbourhood_Williamsbridge  neighbourhood_Williamsburg  \\\n",
       "0                             0                           0   \n",
       "1                             0                           0   \n",
       "2                             0                           0   \n",
       "3                             0                           0   \n",
       "4                             0                           1   \n",
       "\n",
       "   neighbourhood_Windsor Terrace  neighbourhood_Woodhaven  \\\n",
       "0                              0                        0   \n",
       "1                              0                        0   \n",
       "2                              0                        0   \n",
       "3                              0                        0   \n",
       "4                              0                        0   \n",
       "\n",
       "   neighbourhood_Woodlawn  neighbourhood_Woodside  room_type_Entire home/apt  \\\n",
       "0                       0                       0                          0   \n",
       "1                       0                       0                          0   \n",
       "2                       0                       0                          1   \n",
       "3                       0                       0                          1   \n",
       "4                       0                       0                          1   \n",
       "\n",
       "   room_type_Private room  room_type_Shared room  \n",
       "0                       1                      0  \n",
       "1                       1                      0  \n",
       "2                       0                      0  \n",
       "3                       0                      0  \n",
       "4                       0                      0  \n",
       "\n",
       "[5 rows x 237 columns]"
      ]
     },
     "execution_count": 33,
     "metadata": {},
     "output_type": "execute_result"
    }
   ],
   "source": [
    "#Dos lineas de código\n",
    "df = pd.get_dummies(df)\n",
    "df.head()"
   ]
  },
  {
   "cell_type": "markdown",
   "metadata": {},
   "source": [
    "# Modelos, modelos, modelos"
   ]
  },
  {
   "cell_type": "markdown",
   "metadata": {},
   "source": [
    "Hecha toda la exploración, análisis y limpieza de datos, pasamos a la parte divertida: ¡Los modelos!\n",
    "    \n",
    "Empezamos importando todas las clases que vamos a necesitar para encontrar un buen modelo predictivo:"
   ]
  },
  {
   "cell_type": "code",
   "execution_count": 34,
   "metadata": {},
   "outputs": [],
   "source": [
    "from sklearn.model_selection import train_test_split,cross_val_score,  GridSearchCV, KFold, StratifiedKFold, RandomizedSearchCV\n",
    "from sklearn.ensemble import RandomForestRegressor"
   ]
  },
  {
   "cell_type": "markdown",
   "metadata": {},
   "source": [
    "26. Divide el dataset en X_train, X_test, y_train y y_test utilizando train_test_split(). No te olvides de no incluir price en el training set."
   ]
  },
  {
   "cell_type": "code",
   "execution_count": 35,
   "metadata": {},
   "outputs": [],
   "source": [
    "#Tres lineas de código\n",
    "y = df.price\n",
    "X = df.drop('price', axis=1)\n",
    "X_train, X_test, y_train, y_test = train_test_split(X,y,test_size=0.2,random_state=42)"
   ]
  },
  {
   "cell_type": "markdown",
   "metadata": {},
   "source": [
    "27. Vamos a utilizar cross_validation para entrenar nuesto modelo, utilizando Kfold para hayar la score. Implementa un Kfold que realize 5 splits y calcula el error medio y la desviación de un RandomForestRegressor sin cambiar sus parámetros (todavía). [Pista](https://scikit-learn.org/stable/modules/generated/sklearn.model_selection.KFold.html)."
   ]
  },
  {
   "cell_type": "code",
   "execution_count": 36,
   "metadata": {},
   "outputs": [
    {
     "name": "stdout",
     "output_type": "stream",
     "text": [
      "Score: 0.5945339989831477\n",
      "Error medio: -0.014486031538911514\n",
      "\n",
      "Score: 0.5857254576687558\n",
      "Error medio: -0.013701860827127136\n",
      "\n",
      "Score: 0.6041734149320335\n",
      "Error medio: -0.004961561184097514\n",
      "\n",
      "Score: 0.5691756693019636\n",
      "Error medio: 0.00324204419148433\n",
      "\n",
      "Score: 0.5710144864432172\n",
      "Error medio: -0.0014734931758409945\n",
      "\n"
     ]
    }
   ],
   "source": [
    "#Tres lineas de código\n",
    "X = np.array(X)\n",
    "randomForest = RandomForestRegressor(n_estimators=100)\n",
    "for train_index, test_index in KFold().split(X):\n",
    "    randomForest.fit(X[train_index], y[train_index])\n",
    "    print('Score: {}'.format(randomForest.score(X[test_index],y[test_index])))\n",
    "    print('Error medio: {}\\n'.format((y[test_index] - randomForest.predict(X[test_index])).mean()))"
   ]
  },
  {
   "cell_type": "markdown",
   "metadata": {},
   "source": [
    "28. Al utilizar un RandomForestRegressor, ¿que hiperparámetros estabamos utilizando?. Lista todos los parámetros que utiliza este modelo (utiliza la función get_params() y la librería pprint)"
   ]
  },
  {
   "cell_type": "code",
   "execution_count": 37,
   "metadata": {},
   "outputs": [
    {
     "name": "stdout",
     "output_type": "stream",
     "text": [
      "{'bootstrap': True,\n",
      " 'ccp_alpha': 0.0,\n",
      " 'criterion': 'mse',\n",
      " 'max_depth': None,\n",
      " 'max_features': 'auto',\n",
      " 'max_leaf_nodes': None,\n",
      " 'max_samples': None,\n",
      " 'min_impurity_decrease': 0.0,\n",
      " 'min_impurity_split': None,\n",
      " 'min_samples_leaf': 1,\n",
      " 'min_samples_split': 2,\n",
      " 'min_weight_fraction_leaf': 0.0,\n",
      " 'n_estimators': 100,\n",
      " 'n_jobs': None,\n",
      " 'oob_score': False,\n",
      " 'random_state': None,\n",
      " 'verbose': 0,\n",
      " 'warm_start': False}\n"
     ]
    }
   ],
   "source": [
    "from pprint import pprint\n",
    "#Dos lineas de código\n",
    "pprint(randomForest.get_params())"
   ]
  },
  {
   "cell_type": "markdown",
   "metadata": {},
   "source": [
    "Podemos ajustar todos estos paámetros para mejorar la exactitud de nuestro modelo. Una forma de encontrar qué combinación funciona mejor es utilizar un GridSearchCV, que prueba modelos con muchas combinaciones distintas y calcula su score para encontrar el mejor modelo a fuerza bruta. Para esto, hay que pasar una lista de valores para cada parámetro, y GridSearchCV probará con todos. [Mas información](https://scikit-learn.org/stable/modules/generated/sklearn.model_selection.GridSearchCV.html)."
   ]
  },
  {
   "cell_type": "markdown",
   "metadata": {},
   "source": [
    "29. Delimita que valores quieres que cada parámetro tenga, y incluye cada una de estas listas en un diccionario para poder ejecutar el GridSearchCV. Ten en cuenta los valores posibles para cada uno de los parámetros."
   ]
  },
  {
   "cell_type": "code",
   "execution_count": 38,
   "metadata": {},
   "outputs": [],
   "source": [
    "# 8 lineas de código\n",
    "random_grid = {'n_estimators': [int(x) for x in np.linspace(start = 200, stop = 2000, num = 10)],\n",
    "               'max_features': ['auto', 'sqrt', 'log2'],\n",
    "               'max_depth': [int(x) for x in np.linspace(10, 110, num = 11)] + [None],\n",
    "               'min_samples_split': [2, 5, 10],\n",
    "               'min_samples_leaf': [1, 2, 4],\n",
    "               'bootstrap': [True, False],\n",
    "               'oob_score': [True, False],\n",
    "               'warm_start': [True, False]}"
   ]
  },
  {
   "cell_type": "markdown",
   "metadata": {},
   "source": [
    "30. Ahora ya podemos implementar un GridSearchCV. Para hacerlo mas rápido, se utiliza una versión que no prueba con todas las combinaciones posibles, sino con unas cuantas de forma aleatorias.(de ahí su nombre, RandomizedSearchCV). Implementalo, teniendo en cuenta que tiene como parametros el modelo a ajustar y el diccionario que hemos definido antes, entre otros. Este paso puede durar unos minutos, ya que tiene que ajustar muchos modelos para encontrar el mejor. Aquí está la [documentación](https://scikit-learn.org/stable/modules/generated/sklearn.model_selection.RandomizedSearchCV.html) del RandomizedSearchCV."
   ]
  },
  {
   "cell_type": "code",
   "execution_count": 39,
   "metadata": {},
   "outputs": [
    {
     "name": "stdout",
     "output_type": "stream",
     "text": [
      "Fitting 3 folds for each of 10 candidates, totalling 30 fits\n"
     ]
    },
    {
     "name": "stderr",
     "output_type": "stream",
     "text": [
      "[Parallel(n_jobs=-1)]: Using backend LokyBackend with 4 concurrent workers.\n",
      "[Parallel(n_jobs=-1)]: Done  30 out of  30 | elapsed: 35.8min finished\n"
     ]
    },
    {
     "data": {
      "text/plain": [
       "RandomizedSearchCV(cv=3, estimator=RandomForestRegressor(), n_jobs=-1,\n",
       "                   param_distributions={'bootstrap': [True, False],\n",
       "                                        'max_depth': [10, 20, 30, 40, 50, 60,\n",
       "                                                      70, 80, 90, 100, 110,\n",
       "                                                      None],\n",
       "                                        'max_features': ['auto', 'sqrt',\n",
       "                                                         'log2'],\n",
       "                                        'min_samples_leaf': [1, 2, 4],\n",
       "                                        'min_samples_split': [2, 5, 10],\n",
       "                                        'n_estimators': [200, 400, 600, 800,\n",
       "                                                         1000, 1200, 1400, 1600,\n",
       "                                                         1800, 2000],\n",
       "                                        'oob_score': [True, False],\n",
       "                                        'warm_start': [True, False]},\n",
       "                   random_state=42, verbose=2)"
      ]
     },
     "execution_count": 39,
     "metadata": {},
     "output_type": "execute_result"
    }
   ],
   "source": [
    "#Dos lineas de códig\n",
    "rf_random = RandomizedSearchCV(estimator = randomForest, param_distributions = random_grid, n_iter = 10, cv = 3, verbose=2, random_state=42, n_jobs = -1)\n",
    "rf_random.fit(X_train, y_train)"
   ]
  },
  {
   "cell_type": "markdown",
   "metadata": {},
   "source": [
    "31. Para terminar, encuentra el mean squared error y $R^2$ del mejor modelo que hayas creado."
   ]
  },
  {
   "cell_type": "code",
   "execution_count": 41,
   "metadata": {},
   "outputs": [
    {
     "name": "stdout",
     "output_type": "stream",
     "text": [
      "MSE: 0.18750630753219102\n",
      "R2: 0.6063971493771279\n",
      "\n"
     ]
    }
   ],
   "source": [
    "#Seis lineas de código\n",
    "from sklearn.metrics import r2_score\n",
    "best_random = rf_random.best_estimator_\n",
    "prediction = best_random.predict(X_test)\n",
    "print('MSE: {}'.format(((prediction - y_test)**2).mean()))\n",
    "print('R2: {}\\n'.format(r2_score(y_test, prediction)))"
   ]
  },
  {
   "cell_type": "markdown",
   "metadata": {},
   "source": [
    "Ahora, ¡a mejorar esa score!\n",
    "Puedes probar a:\n",
    "- Eliminar features que no sean relevantes para la predicción\n",
    "- Implementar Gradient boosting utilizando XBoost o Adaboost, entre otros\n",
    "- Ajustar los hiperparámetros manualmente para llegar a mejores modelos\n",
    "- Utilizar un Tree Interpreter para ver qué árboles de decisión tienen mas importancia"
   ]
  },
  {
   "cell_type": "markdown",
   "metadata": {},
   "source": [
    "Al acabar el challenge, os daremos un validation set para ver quién ha conseguido la mejor score."
   ]
  }
 ],
 "metadata": {
  "kernelspec": {
   "display_name": "Python 3",
   "language": "python",
   "name": "python3"
  }
 },
 "nbformat": 4,
 "nbformat_minor": 4
}
